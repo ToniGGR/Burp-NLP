{
 "cells": [
  {
   "cell_type": "markdown",
   "id": "6cc9567d-03ed-4468-b6e0-be548a81f18a",
   "metadata": {},
   "source": [
    "# Preprocessing "
   ]
  },
  {
   "cell_type": "markdown",
   "id": "f8677bea-7e78-411e-b630-66bdec758816",
   "metadata": {},
   "source": [
    "Here the Web scraped Data of all episode-descriptions will be preprocessed"
   ]
  },
  {
   "cell_type": "markdown",
   "id": "954e1a4e-7fb0-4034-867f-213b57539cdb",
   "metadata": {},
   "source": [
    "## Import modules"
   ]
  },
  {
   "cell_type": "code",
   "execution_count": 1,
   "id": "73ee9ec9-1be3-40b2-8784-61c38d348772",
   "metadata": {},
   "outputs": [],
   "source": [
    "import pandas as pd"
   ]
  },
  {
   "cell_type": "markdown",
   "id": "48ccb604-69db-4aeb-a793-77b5c2c65db8",
   "metadata": {},
   "source": [
    "## Get RAW Data"
   ]
  },
  {
   "cell_type": "code",
   "execution_count": 2,
   "id": "7b757473-6b31-48b6-a546-78dab146b438",
   "metadata": {},
   "outputs": [
    {
     "data": {
      "text/html": [
       "<div>\n",
       "<style scoped>\n",
       "    .dataframe tbody tr th:only-of-type {\n",
       "        vertical-align: middle;\n",
       "    }\n",
       "\n",
       "    .dataframe tbody tr th {\n",
       "        vertical-align: top;\n",
       "    }\n",
       "\n",
       "    .dataframe thead th {\n",
       "        text-align: right;\n",
       "    }\n",
       "</style>\n",
       "<table border=\"1\" class=\"dataframe\">\n",
       "  <thead>\n",
       "    <tr style=\"text-align: right;\">\n",
       "      <th></th>\n",
       "      <th>title</th>\n",
       "      <th>text</th>\n",
       "    </tr>\n",
       "  </thead>\n",
       "  <tbody>\n",
       "    <tr>\n",
       "      <th>0</th>\n",
       "      <td>Pilot</td>\n",
       "      <td>In the middle of the night, an obviously drunk...</td>\n",
       "    </tr>\n",
       "    <tr>\n",
       "      <th>1</th>\n",
       "      <td>Lawnmower Dog</td>\n",
       "      <td>Jerry complains that the family dog, Snuffles...</td>\n",
       "    </tr>\n",
       "    <tr>\n",
       "      <th>2</th>\n",
       "      <td>Anatomy Park (Episode)</td>\n",
       "      <td>It's Christmas, and Jerry tries to enforce the...</td>\n",
       "    </tr>\n",
       "    <tr>\n",
       "      <th>3</th>\n",
       "      <td>M. Night Shaym-Aliens!</td>\n",
       "      <td>The episode opens with Rick dissecting a large...</td>\n",
       "    </tr>\n",
       "    <tr>\n",
       "      <th>4</th>\n",
       "      <td>Meeseeks and Destroy</td>\n",
       "      <td>Mr. Meeseeks, existing to solve Beth's problem...</td>\n",
       "    </tr>\n",
       "    <tr>\n",
       "      <th>...</th>\n",
       "      <td>...</td>\n",
       "      <td>...</td>\n",
       "    </tr>\n",
       "    <tr>\n",
       "      <th>76</th>\n",
       "      <td>Mercy Kill</td>\n",
       "      <td>On the planet Dorian 5, Supernova and Vance ar...</td>\n",
       "    </tr>\n",
       "    <tr>\n",
       "      <th>77</th>\n",
       "      <td>Girls Night</td>\n",
       "      <td>At a bar, Calypso, Diablo Verde, Lady Katana, ...</td>\n",
       "    </tr>\n",
       "    <tr>\n",
       "      <th>78</th>\n",
       "      <td>Kintsugi</td>\n",
       "      <td>\"On an unknown planet, a somber Alan Rails put...</td>\n",
       "    </tr>\n",
       "    <tr>\n",
       "      <th>79</th>\n",
       "      <td>Little Trains</td>\n",
       "      <td>Doom-Nomitron arrives to destroy Earth, only f...</td>\n",
       "    </tr>\n",
       "    <tr>\n",
       "      <th>80</th>\n",
       "      <td>Heroes</td>\n",
       "      <td>Thanks to the Vindicators' manipulations, they...</td>\n",
       "    </tr>\n",
       "  </tbody>\n",
       "</table>\n",
       "<p>81 rows × 2 columns</p>\n",
       "</div>"
      ],
      "text/plain": [
       "                     title                                               text\n",
       "0                    Pilot  In the middle of the night, an obviously drunk...\n",
       "1            Lawnmower Dog   Jerry complains that the family dog, Snuffles...\n",
       "2   Anatomy Park (Episode)  It's Christmas, and Jerry tries to enforce the...\n",
       "3   M. Night Shaym-Aliens!  The episode opens with Rick dissecting a large...\n",
       "4     Meeseeks and Destroy  Mr. Meeseeks, existing to solve Beth's problem...\n",
       "..                     ...                                                ...\n",
       "76              Mercy Kill  On the planet Dorian 5, Supernova and Vance ar...\n",
       "77             Girls Night  At a bar, Calypso, Diablo Verde, Lady Katana, ...\n",
       "78                Kintsugi  \"On an unknown planet, a somber Alan Rails put...\n",
       "79           Little Trains  Doom-Nomitron arrives to destroy Earth, only f...\n",
       "80                  Heroes  Thanks to the Vindicators' manipulations, they...\n",
       "\n",
       "[81 rows x 2 columns]"
      ]
     },
     "execution_count": 2,
     "metadata": {},
     "output_type": "execute_result"
    }
   ],
   "source": [
    "PATH_TO_RAW_DATA = \"/home/anton/Anton/Studium/DHBW /Semester_5/Text_Analysis/repo/Burg-NLP/data/episodes_descriptions.json\"\n",
    "PATH_TO_CLEAN_DATA = \"/home/anton/Anton/Studium/DHBW /Semester_5/Text_Analysis/repo/Burg-NLP/topic_modeling/data/episodes_description_nouns.csv\"\n",
    "\n",
    "df = pd.read_json( PATH_TO_RAW_DATA , orient=\"index\")\n",
    "df\n"
   ]
  },
  {
   "cell_type": "markdown",
   "id": "da0d11b0-183c-4f3a-b108-527d95551698",
   "metadata": {},
   "source": [
    "## Remove \\n"
   ]
  },
  {
   "cell_type": "code",
   "execution_count": 3,
   "id": "34107557-bb5d-4991-8dca-d147ea0307ab",
   "metadata": {},
   "outputs": [
    {
     "data": {
      "text/html": [
       "<div>\n",
       "<style scoped>\n",
       "    .dataframe tbody tr th:only-of-type {\n",
       "        vertical-align: middle;\n",
       "    }\n",
       "\n",
       "    .dataframe tbody tr th {\n",
       "        vertical-align: top;\n",
       "    }\n",
       "\n",
       "    .dataframe thead th {\n",
       "        text-align: right;\n",
       "    }\n",
       "</style>\n",
       "<table border=\"1\" class=\"dataframe\">\n",
       "  <thead>\n",
       "    <tr style=\"text-align: right;\">\n",
       "      <th></th>\n",
       "      <th>title</th>\n",
       "      <th>text</th>\n",
       "    </tr>\n",
       "  </thead>\n",
       "  <tbody>\n",
       "    <tr>\n",
       "      <th>0</th>\n",
       "      <td>Pilot</td>\n",
       "      <td>In the middle of the night, an obviously drunk...</td>\n",
       "    </tr>\n",
       "    <tr>\n",
       "      <th>1</th>\n",
       "      <td>Lawnmower Dog</td>\n",
       "      <td>Jerry complains that the family dog, Snuffles...</td>\n",
       "    </tr>\n",
       "    <tr>\n",
       "      <th>2</th>\n",
       "      <td>Anatomy Park (Episode)</td>\n",
       "      <td>It's Christmas, and Jerry tries to enforce the...</td>\n",
       "    </tr>\n",
       "    <tr>\n",
       "      <th>3</th>\n",
       "      <td>M. Night Shaym-Aliens!</td>\n",
       "      <td>The episode opens with Rick dissecting a large...</td>\n",
       "    </tr>\n",
       "    <tr>\n",
       "      <th>4</th>\n",
       "      <td>Meeseeks and Destroy</td>\n",
       "      <td>Mr. Meeseeks, existing to solve Beth's problem...</td>\n",
       "    </tr>\n",
       "    <tr>\n",
       "      <th>...</th>\n",
       "      <td>...</td>\n",
       "      <td>...</td>\n",
       "    </tr>\n",
       "    <tr>\n",
       "      <th>76</th>\n",
       "      <td>Mercy Kill</td>\n",
       "      <td>On the planet Dorian 5, Supernova and Vance ar...</td>\n",
       "    </tr>\n",
       "    <tr>\n",
       "      <th>77</th>\n",
       "      <td>Girls Night</td>\n",
       "      <td>At a bar, Calypso, Diablo Verde, Lady Katana, ...</td>\n",
       "    </tr>\n",
       "    <tr>\n",
       "      <th>78</th>\n",
       "      <td>Kintsugi</td>\n",
       "      <td>\"On an unknown planet, a somber Alan Rails put...</td>\n",
       "    </tr>\n",
       "    <tr>\n",
       "      <th>79</th>\n",
       "      <td>Little Trains</td>\n",
       "      <td>Doom-Nomitron arrives to destroy Earth, only f...</td>\n",
       "    </tr>\n",
       "    <tr>\n",
       "      <th>80</th>\n",
       "      <td>Heroes</td>\n",
       "      <td>Thanks to the Vindicators' manipulations, they...</td>\n",
       "    </tr>\n",
       "  </tbody>\n",
       "</table>\n",
       "<p>81 rows × 2 columns</p>\n",
       "</div>"
      ],
      "text/plain": [
       "                     title                                               text\n",
       "0                    Pilot  In the middle of the night, an obviously drunk...\n",
       "1            Lawnmower Dog   Jerry complains that the family dog, Snuffles...\n",
       "2   Anatomy Park (Episode)  It's Christmas, and Jerry tries to enforce the...\n",
       "3   M. Night Shaym-Aliens!  The episode opens with Rick dissecting a large...\n",
       "4     Meeseeks and Destroy  Mr. Meeseeks, existing to solve Beth's problem...\n",
       "..                     ...                                                ...\n",
       "76              Mercy Kill  On the planet Dorian 5, Supernova and Vance ar...\n",
       "77             Girls Night  At a bar, Calypso, Diablo Verde, Lady Katana, ...\n",
       "78                Kintsugi  \"On an unknown planet, a somber Alan Rails put...\n",
       "79           Little Trains  Doom-Nomitron arrives to destroy Earth, only f...\n",
       "80                  Heroes  Thanks to the Vindicators' manipulations, they...\n",
       "\n",
       "[81 rows x 2 columns]"
      ]
     },
     "execution_count": 3,
     "metadata": {},
     "output_type": "execute_result"
    }
   ],
   "source": [
    "df[\"text\"] = pd.Series( x.replace(\"\\n\", \"\").replace(\"  \", \"\") for x in df[\"text\"])\n",
    "df"
   ]
  },
  {
   "cell_type": "markdown",
   "id": "23100807-a412-48f1-b929-b76d65242d60",
   "metadata": {},
   "source": [
    "## Lowercase"
   ]
  },
  {
   "cell_type": "code",
   "execution_count": 4,
   "id": "b2b4e183-a016-4f50-8d3b-c1aba01cfdb0",
   "metadata": {
    "scrolled": true
   },
   "outputs": [
    {
     "data": {
      "text/html": [
       "<div>\n",
       "<style scoped>\n",
       "    .dataframe tbody tr th:only-of-type {\n",
       "        vertical-align: middle;\n",
       "    }\n",
       "\n",
       "    .dataframe tbody tr th {\n",
       "        vertical-align: top;\n",
       "    }\n",
       "\n",
       "    .dataframe thead th {\n",
       "        text-align: right;\n",
       "    }\n",
       "</style>\n",
       "<table border=\"1\" class=\"dataframe\">\n",
       "  <thead>\n",
       "    <tr style=\"text-align: right;\">\n",
       "      <th></th>\n",
       "      <th>title</th>\n",
       "      <th>text</th>\n",
       "    </tr>\n",
       "  </thead>\n",
       "  <tbody>\n",
       "    <tr>\n",
       "      <th>0</th>\n",
       "      <td>Pilot</td>\n",
       "      <td>in the middle of the night, an obviously drunk...</td>\n",
       "    </tr>\n",
       "    <tr>\n",
       "      <th>1</th>\n",
       "      <td>Lawnmower Dog</td>\n",
       "      <td>jerry complains that the family dog, snuffles...</td>\n",
       "    </tr>\n",
       "    <tr>\n",
       "      <th>2</th>\n",
       "      <td>Anatomy Park (Episode)</td>\n",
       "      <td>it's christmas, and jerry tries to enforce the...</td>\n",
       "    </tr>\n",
       "    <tr>\n",
       "      <th>3</th>\n",
       "      <td>M. Night Shaym-Aliens!</td>\n",
       "      <td>the episode opens with rick dissecting a large...</td>\n",
       "    </tr>\n",
       "    <tr>\n",
       "      <th>4</th>\n",
       "      <td>Meeseeks and Destroy</td>\n",
       "      <td>mr. meeseeks, existing to solve beth's problem...</td>\n",
       "    </tr>\n",
       "    <tr>\n",
       "      <th>...</th>\n",
       "      <td>...</td>\n",
       "      <td>...</td>\n",
       "    </tr>\n",
       "    <tr>\n",
       "      <th>76</th>\n",
       "      <td>Mercy Kill</td>\n",
       "      <td>on the planet dorian 5, supernova and vance ar...</td>\n",
       "    </tr>\n",
       "    <tr>\n",
       "      <th>77</th>\n",
       "      <td>Girls Night</td>\n",
       "      <td>at a bar, calypso, diablo verde, lady katana, ...</td>\n",
       "    </tr>\n",
       "    <tr>\n",
       "      <th>78</th>\n",
       "      <td>Kintsugi</td>\n",
       "      <td>\"on an unknown planet, a somber alan rails put...</td>\n",
       "    </tr>\n",
       "    <tr>\n",
       "      <th>79</th>\n",
       "      <td>Little Trains</td>\n",
       "      <td>doom-nomitron arrives to destroy earth, only f...</td>\n",
       "    </tr>\n",
       "    <tr>\n",
       "      <th>80</th>\n",
       "      <td>Heroes</td>\n",
       "      <td>thanks to the vindicators' manipulations, they...</td>\n",
       "    </tr>\n",
       "  </tbody>\n",
       "</table>\n",
       "<p>81 rows × 2 columns</p>\n",
       "</div>"
      ],
      "text/plain": [
       "                     title                                               text\n",
       "0                    Pilot  in the middle of the night, an obviously drunk...\n",
       "1            Lawnmower Dog   jerry complains that the family dog, snuffles...\n",
       "2   Anatomy Park (Episode)  it's christmas, and jerry tries to enforce the...\n",
       "3   M. Night Shaym-Aliens!  the episode opens with rick dissecting a large...\n",
       "4     Meeseeks and Destroy  mr. meeseeks, existing to solve beth's problem...\n",
       "..                     ...                                                ...\n",
       "76              Mercy Kill  on the planet dorian 5, supernova and vance ar...\n",
       "77             Girls Night  at a bar, calypso, diablo verde, lady katana, ...\n",
       "78                Kintsugi  \"on an unknown planet, a somber alan rails put...\n",
       "79           Little Trains  doom-nomitron arrives to destroy earth, only f...\n",
       "80                  Heroes  thanks to the vindicators' manipulations, they...\n",
       "\n",
       "[81 rows x 2 columns]"
      ]
     },
     "execution_count": 4,
     "metadata": {},
     "output_type": "execute_result"
    }
   ],
   "source": [
    "df['text'] = df[\"text\"].apply(lambda x: x.lower())\n",
    "df"
   ]
  },
  {
   "cell_type": "markdown",
   "id": "d767f27d-1143-4917-913c-475e1ee84c48",
   "metadata": {},
   "source": [
    "## Abbreviation"
   ]
  },
  {
   "cell_type": "markdown",
   "id": "9f206c7a-6d90-4c05-9b8c-da49315f262c",
   "metadata": {},
   "source": [
    "Replace all ' with normal appostrophes"
   ]
  },
  {
   "cell_type": "code",
   "execution_count": 5,
   "id": "bd9a56a7-cfb2-4768-8a0f-8cec29856149",
   "metadata": {},
   "outputs": [],
   "source": [
    "df[\"text\"] = pd.Series( x.replace(\"'\", \"’\")for x in df[\"text\"])"
   ]
  },
  {
   "cell_type": "markdown",
   "id": "b107834f-b7cc-4f86-a6c4-7ae6b789d019",
   "metadata": {},
   "source": [
    "Replacing Abbreviations to guaranty consistency"
   ]
  },
  {
   "cell_type": "code",
   "execution_count": 6,
   "id": "4be6365a-19eb-4eed-83f3-1235235b2c90",
   "metadata": {},
   "outputs": [],
   "source": [
    "abbreviations_dict = {\n",
    "    \"don’t\": \"do not\",\n",
    "    \"isn’t\": \"is not\",\n",
    "    \"ain’t\": \"is not\",\n",
    "    \"gotta\": \"got to\",\n",
    "    \"can’t\": \"cannot\",\n",
    "    \"won’t\": \"will not\",\n",
    "    \"you’re\": \"you are\",\n",
    "    \"they’re\": \"they are\",\n",
    "    \"we’re\": \"we are\",\n",
    "    \"I’m\": \"I am\",\n",
    "    \"she’s\": \"she is\",\n",
    "    \"he’s\": \"he is\",\n",
    "    \"it’s\": \"it is\",\n",
    "    \"there’s\": \"there is\",\n",
    "    \"what’s\": \"what is\",\n",
    "    \"here’s\": \"here is\",\n",
    "    \"that’s\": \"that is\",\n",
    "    \"who’s\": \"who is\",\n",
    "    \"how’s\": \"how is\",\n",
    "    \"aren’t\": \"are not\",\n",
    "    \"wasn’t\": \"was not\",\n",
    "    \"weren’t\": \"were not\",\n",
    "    \"doesn’t\": \"does not\",\n",
    "    \"didn’t\": \"did not\",\n",
    "    \"hasn’t\": \"has not\",\n",
    "    \"haven’t\": \"have not\",\n",
    "    \"hadn’t\": \"had not\",\n",
    "    \"shouldn’t\": \"should not\",\n",
    "    \"wouldn’t\": \"would not\",\n",
    "    \"couldn’t\": \"could not\",\n",
    "    \"mustn’t\": \"must not\",\n",
    "    \"mightn’t\": \"might not\",\n",
    "    \"needn’t\": \"need not\",\n",
    "    \"let’s\": \"let us\",\n",
    "    \"y’all\": \"you all\",\n",
    "    \"gonna\": \"going to\",\n",
    "    \"wanna\": \"want to\",\n",
    "    \"lemme\": \"let me\",\n",
    "    \"gimme\": \"give me\",\n",
    "    \"kinda\": \"kind of\",\n",
    "    \"sorta\": \"sort of\",\n",
    "    \"outta\": \"out of\",\n",
    "    \"lotta\": \"lot of\",\n",
    "    \"dunno\": \"do not know\",\n",
    "    \"c’mon\": \"come on\",\n",
    "    \"o’clock\": \"of the clock\",\n",
    "    \"y’know\": \"you know\",\n",
    "    \"ma’am\": \"madam\",\n",
    "    \"could’ve\": \"could have\",\n",
    "    \"should’ve\": \"should have\",\n",
    "    \"would’ve\": \"would have\",\n",
    "    \"might’ve\": \"might have\",\n",
    "    \"must’ve\": \"must have\",\n",
    "    \"there’d\": \"there would\",\n",
    "    \"it’d\": \"it would\",\n",
    "    \"he’d\": \"he would\",\n",
    "    \"she’d\": \"she would\",\n",
    "    \"they’d\": \"they would\",\n",
    "    \"I’d\": \"I would\",\n",
    "    \"you’d\": \"you would\",\n",
    "    \"we’d\": \"we would\", \n",
    "    \"it’s\" : \"it is\"\n",
    "}\n"
   ]
  },
  {
   "cell_type": "markdown",
   "id": "bd7b5034-7492-4620-9614-8e28f1c6e2a0",
   "metadata": {},
   "source": [
    "# Characters"
   ]
  },
  {
   "cell_type": "markdown",
   "id": "c4ef62a3-528f-4701-b559-2f1b2f544038",
   "metadata": {},
   "source": [
    "List of All Characters in order to dont stem them"
   ]
  },
  {
   "cell_type": "code",
   "execution_count": 7,
   "id": "15194ca9-10de-4044-975d-7dd3d29bb70a",
   "metadata": {},
   "outputs": [],
   "source": [
    "rick_and_morty_characters = [\n",
    "    \"rick\",\n",
    "    \"morty\",\n",
    "    \"summer\",\n",
    "    \"beth\",\n",
    "    \"jerry\",\n",
    "    \"birdperson\",\n",
    "    \"mr. poopybutthole\",\n",
    "    \"squanchy\",\n",
    "    \"tammy\",\n",
    "    \"noob-noob\",\n",
    "    \"gearhead\",\n",
    "    \"meeseeks\",\n",
    "    \"jessica\",\n",
    "    \"abradolph lincoler\",\n",
    "    \"unity\",\n",
    "    \"principal gene vagina\",\n",
    "    \"cromulons\",\n",
    "    \"krombopulos michael\",\n",
    "    \"scary terry\",\n",
    "    \"pickle rick\",\n",
    "    \"president\",\n",
    "    \"snowball\",\n",
    "    \"snuffles\"\n",
    "]\n"
   ]
  },
  {
   "cell_type": "markdown",
   "id": "3ed9bb13-d566-49cd-bdd1-f4edcc1e386c",
   "metadata": {},
   "source": [
    "### Replace Abbreviations"
   ]
  },
  {
   "cell_type": "code",
   "execution_count": 8,
   "id": "052fc544-54fc-4876-9ff1-bc0d2390b971",
   "metadata": {},
   "outputs": [
    {
     "data": {
      "text/html": [
       "<div>\n",
       "<style scoped>\n",
       "    .dataframe tbody tr th:only-of-type {\n",
       "        vertical-align: middle;\n",
       "    }\n",
       "\n",
       "    .dataframe tbody tr th {\n",
       "        vertical-align: top;\n",
       "    }\n",
       "\n",
       "    .dataframe thead th {\n",
       "        text-align: right;\n",
       "    }\n",
       "</style>\n",
       "<table border=\"1\" class=\"dataframe\">\n",
       "  <thead>\n",
       "    <tr style=\"text-align: right;\">\n",
       "      <th></th>\n",
       "      <th>title</th>\n",
       "      <th>text</th>\n",
       "    </tr>\n",
       "  </thead>\n",
       "  <tbody>\n",
       "    <tr>\n",
       "      <th>0</th>\n",
       "      <td>Pilot</td>\n",
       "      <td>in the middle of the night, an obviously drunk...</td>\n",
       "    </tr>\n",
       "    <tr>\n",
       "      <th>1</th>\n",
       "      <td>Lawnmower Dog</td>\n",
       "      <td>jerry complains that the family dog, snuffles...</td>\n",
       "    </tr>\n",
       "    <tr>\n",
       "      <th>2</th>\n",
       "      <td>Anatomy Park (Episode)</td>\n",
       "      <td>it is christmas, and jerry tries to enforce th...</td>\n",
       "    </tr>\n",
       "    <tr>\n",
       "      <th>3</th>\n",
       "      <td>M. Night Shaym-Aliens!</td>\n",
       "      <td>the episode opens with rick dissecting a large...</td>\n",
       "    </tr>\n",
       "    <tr>\n",
       "      <th>4</th>\n",
       "      <td>Meeseeks and Destroy</td>\n",
       "      <td>mr. meeseeks, existing to solve beth’s problem...</td>\n",
       "    </tr>\n",
       "    <tr>\n",
       "      <th>...</th>\n",
       "      <td>...</td>\n",
       "      <td>...</td>\n",
       "    </tr>\n",
       "    <tr>\n",
       "      <th>76</th>\n",
       "      <td>Mercy Kill</td>\n",
       "      <td>on the planet dorian 5, supernova and vance ar...</td>\n",
       "    </tr>\n",
       "    <tr>\n",
       "      <th>77</th>\n",
       "      <td>Girls Night</td>\n",
       "      <td>at a bar, calypso, diablo verde, lady katana, ...</td>\n",
       "    </tr>\n",
       "    <tr>\n",
       "      <th>78</th>\n",
       "      <td>Kintsugi</td>\n",
       "      <td>\"on an unknown planet, a somber alan rails put...</td>\n",
       "    </tr>\n",
       "    <tr>\n",
       "      <th>79</th>\n",
       "      <td>Little Trains</td>\n",
       "      <td>doom-nomitron arrives to destroy earth, only f...</td>\n",
       "    </tr>\n",
       "    <tr>\n",
       "      <th>80</th>\n",
       "      <td>Heroes</td>\n",
       "      <td>thanks to the vindicators’ manipulations, they...</td>\n",
       "    </tr>\n",
       "  </tbody>\n",
       "</table>\n",
       "<p>81 rows × 2 columns</p>\n",
       "</div>"
      ],
      "text/plain": [
       "                     title                                               text\n",
       "0                    Pilot  in the middle of the night, an obviously drunk...\n",
       "1            Lawnmower Dog   jerry complains that the family dog, snuffles...\n",
       "2   Anatomy Park (Episode)  it is christmas, and jerry tries to enforce th...\n",
       "3   M. Night Shaym-Aliens!  the episode opens with rick dissecting a large...\n",
       "4     Meeseeks and Destroy  mr. meeseeks, existing to solve beth’s problem...\n",
       "..                     ...                                                ...\n",
       "76              Mercy Kill  on the planet dorian 5, supernova and vance ar...\n",
       "77             Girls Night  at a bar, calypso, diablo verde, lady katana, ...\n",
       "78                Kintsugi  \"on an unknown planet, a somber alan rails put...\n",
       "79           Little Trains  doom-nomitron arrives to destroy earth, only f...\n",
       "80                  Heroes  thanks to the vindicators’ manipulations, they...\n",
       "\n",
       "[81 rows x 2 columns]"
      ]
     },
     "execution_count": 8,
     "metadata": {},
     "output_type": "execute_result"
    }
   ],
   "source": [
    "corrected_row = []\n",
    "for row in df[\"text\"]:\n",
    "    for entry in list(abbreviations_dict.keys()):\n",
    "        if entry in row:\n",
    "            row = row.replace(entry, abbreviations_dict[entry])\n",
    "        continue \n",
    "    corrected_row.append(row)\n",
    "\n",
    "df[\"text\"] = pd.Series(corrected_row)\n",
    "\n",
    "df"
   ]
  },
  {
   "cell_type": "markdown",
   "id": "072861f8-226b-4262-b2fa-44fc14959eb8",
   "metadata": {},
   "source": [
    "## Remove Stopwords"
   ]
  },
  {
   "cell_type": "markdown",
   "id": "1f479bd9-e8db-4182-888e-2207a92aabad",
   "metadata": {},
   "source": [
    "### Import nltk"
   ]
  },
  {
   "cell_type": "code",
   "execution_count": 9,
   "id": "dcacb550-ad70-4444-8edb-4367b247da3f",
   "metadata": {},
   "outputs": [],
   "source": [
    "import nltk\n",
    "from nltk.corpus import stopwords"
   ]
  },
  {
   "cell_type": "markdown",
   "id": "5e97fa27-744c-4edc-b4e5-942f17636284",
   "metadata": {},
   "source": [
    "### Download Stopwords"
   ]
  },
  {
   "cell_type": "code",
   "execution_count": 10,
   "id": "b23c2fc8-9f36-4f29-8ebd-59670acefa3b",
   "metadata": {},
   "outputs": [
    {
     "name": "stderr",
     "output_type": "stream",
     "text": [
      "[nltk_data] Downloading package stopwords to /home/anton/nltk_data...\n",
      "[nltk_data]   Package stopwords is already up-to-date!\n"
     ]
    },
    {
     "data": {
      "text/plain": [
       "True"
      ]
     },
     "execution_count": 10,
     "metadata": {},
     "output_type": "execute_result"
    }
   ],
   "source": [
    "nltk.download('stopwords')"
   ]
  },
  {
   "cell_type": "markdown",
   "id": "8a3fbabd-10fb-4584-8440-c7d1085e27a2",
   "metadata": {},
   "source": [
    "## Spacy Pipeline"
   ]
  },
  {
   "cell_type": "markdown",
   "id": "8aa7a75e-7768-45a2-8b0e-e72086b0936b",
   "metadata": {},
   "source": [
    "### Import Modules"
   ]
  },
  {
   "cell_type": "code",
   "execution_count": 11,
   "id": "c270d1f3-9685-4410-9ca5-d995c3f1d2e0",
   "metadata": {},
   "outputs": [],
   "source": [
    "import spacy\n",
    "from spacy.language import Language\n",
    "from spacy.tokens import Doc\n",
    "import gensim\n",
    "import gensim.corpora as corpora\n",
    "from gensim.utils import simple_preprocess\n",
    "from nltk.stem import PorterStemmer"
   ]
  },
  {
   "cell_type": "markdown",
   "id": "4127a596-a5f4-4e4a-810b-8ea9765720de",
   "metadata": {},
   "source": [
    "### Load Small Spacy Model"
   ]
  },
  {
   "cell_type": "code",
   "execution_count": 12,
   "id": "73016259-d9be-424e-b9f8-10a8e6b3cf0e",
   "metadata": {},
   "outputs": [],
   "source": [
    "nlp = spacy.load(\"en_core_web_sm\")"
   ]
  },
  {
   "cell_type": "markdown",
   "id": "28590194-cf05-4807-ade3-ada04eb995f1",
   "metadata": {},
   "source": [
    "### Test Spacy"
   ]
  },
  {
   "cell_type": "code",
   "execution_count": 13,
   "id": "3c5caacc-703b-4e13-b5fd-bac194e84b97",
   "metadata": {},
   "outputs": [
    {
     "name": "stdout",
     "output_type": "stream",
     "text": [
      "<class 'str'>\n",
      "Rick and Morty\n"
     ]
    }
   ],
   "source": [
    "doc = nlp(\"Rick and Morty\")\n",
    "print(type(doc[0].pos_))\n",
    "print(doc)"
   ]
  },
  {
   "cell_type": "markdown",
   "id": "0378e3b5-2eba-494d-ab82-87e5f8bc44de",
   "metadata": {},
   "source": [
    "## Update Spacy Pipeline"
   ]
  },
  {
   "cell_type": "code",
   "execution_count": 14,
   "id": "91ef3391-dd6f-42f4-80cf-57f9b5bcdfa7",
   "metadata": {
    "scrolled": true
   },
   "outputs": [
    {
     "data": {
      "text/plain": [
       "('lemmatizer', <spacy.lang.en.lemmatizer.EnglishLemmatizer at 0x7ff17e0c5000>)"
      ]
     },
     "execution_count": 14,
     "metadata": {},
     "output_type": "execute_result"
    }
   ],
   "source": [
    "nlp.pipeline\n",
    "nlp.remove_pipe(\"lemmatizer\")\n",
    "# To Do Pipeline Reihenfolge anpassen"
   ]
  },
  {
   "cell_type": "markdown",
   "id": "bb900f8e-4044-48f7-ab1f-af3acfc9b927",
   "metadata": {},
   "source": [
    "### Custom Methods Pipeline"
   ]
  },
  {
   "cell_type": "code",
   "execution_count": 15,
   "id": "0234044a-c3b6-4045-924b-8a11118597de",
   "metadata": {},
   "outputs": [],
   "source": [
    "@Language.component(\"stopword_remover\")\n",
    "def custom_remover(doc):\n",
    "    stop_words = set(stopwords.words('english'))\n",
    "    stop_symbols = [\"?\", \"...\" ,\".\" , \"!\" , \"&\" , \",\" , \"-\"]\n",
    "    valid_doc = [token.text for token in doc if token.text not in stop_words and token.text not in stop_symbols]\n",
    "    valid_doc_pos = [token.pos_ for token in doc if token.text not in stop_words and token.text not in stop_symbols]\n",
    "\n",
    "    return Doc(nlp.vocab , words=valid_doc , pos=valid_doc_pos)"
   ]
  },
  {
   "cell_type": "code",
   "execution_count": 16,
   "id": "6e642bfc-40a8-43c7-8f73-4aca6d03a23d",
   "metadata": {},
   "outputs": [
    {
     "data": {
      "text/plain": [
       "<function __main__.custom_remover(doc)>"
      ]
     },
     "execution_count": 16,
     "metadata": {},
     "output_type": "execute_result"
    }
   ],
   "source": [
    "nlp.add_pipe(\"stopword_remover\" , after=\"ner\")"
   ]
  },
  {
   "cell_type": "code",
   "execution_count": 17,
   "id": "e7ac78a1-58a3-4885-87d8-b4d7490a0641",
   "metadata": {},
   "outputs": [],
   "source": [
    "@Language.component(\"noun_getter\")\n",
    "def custom_stemmer(doc):\n",
    "    ps = PorterStemmer()\n",
    "\n",
    "    nouns = []\n",
    "    nouns_tags = []\n",
    "\n",
    "    for token in doc:\n",
    "        if token.pos_ == \"PROPN\" or  token.pos_ == \"NOUN\":\n",
    "            nouns.append(token.text)\n",
    "            nouns_tags.append(token.tag_)\n",
    "            \n",
    "    return Doc(nlp.vocab , words=nouns, tags=nouns_tags)"
   ]
  },
  {
   "cell_type": "code",
   "execution_count": 18,
   "id": "27d00db2-a3eb-4661-be41-ec2cb23c168d",
   "metadata": {},
   "outputs": [
    {
     "data": {
      "text/plain": [
       "<function __main__.custom_stemmer(doc)>"
      ]
     },
     "execution_count": 18,
     "metadata": {},
     "output_type": "execute_result"
    }
   ],
   "source": [
    "nlp.add_pipe(\"noun_getter\", after=\"stopword_remover\" )"
   ]
  },
  {
   "cell_type": "code",
   "execution_count": 19,
   "id": "46fb9d16-4a12-420d-92ea-c15fc1ace126",
   "metadata": {
    "scrolled": true
   },
   "outputs": [
    {
     "name": "stdout",
     "output_type": "stream",
     "text": [
      "['tok2vec', 'tagger', 'parser', 'attribute_ruler', 'ner', 'stopword_remover', 'noun_getter']\n"
     ]
    }
   ],
   "source": [
    "print(nlp.pipe_names)"
   ]
  },
  {
   "cell_type": "code",
   "execution_count": 20,
   "id": "8dccfc96-45e0-4c28-9bae-c45b0e8b4434",
   "metadata": {},
   "outputs": [
    {
     "data": {
      "text/plain": [
       "'planet '"
      ]
     },
     "execution_count": 20,
     "metadata": {},
     "output_type": "execute_result"
    }
   ],
   "source": [
    "doc = nlp(\"On the planet\")\n",
    "doc.text"
   ]
  },
  {
   "cell_type": "code",
   "execution_count": null,
   "id": "dcd4efac-1be8-452a-a2af-83df3073a738",
   "metadata": {},
   "outputs": [],
   "source": []
  },
  {
   "cell_type": "code",
   "execution_count": null,
   "id": "d22d03e9-3709-4bef-83c7-068bbe980cf8",
   "metadata": {},
   "outputs": [],
   "source": []
  },
  {
   "cell_type": "code",
   "execution_count": null,
   "id": "ba1298de-c21d-4faa-a0e8-cbe036da5757",
   "metadata": {},
   "outputs": [],
   "source": []
  },
  {
   "cell_type": "markdown",
   "id": "906dc985-8edf-4dfd-9df9-0bff093e763e",
   "metadata": {},
   "source": [
    "## Applying Spacy Pipeline to Dataframe"
   ]
  },
  {
   "cell_type": "code",
   "execution_count": 21,
   "id": "6b9016f1-d773-49f2-9bed-084f03d8d029",
   "metadata": {
    "scrolled": true
   },
   "outputs": [
    {
     "data": {
      "text/html": [
       "<div>\n",
       "<style scoped>\n",
       "    .dataframe tbody tr th:only-of-type {\n",
       "        vertical-align: middle;\n",
       "    }\n",
       "\n",
       "    .dataframe tbody tr th {\n",
       "        vertical-align: top;\n",
       "    }\n",
       "\n",
       "    .dataframe thead th {\n",
       "        text-align: right;\n",
       "    }\n",
       "</style>\n",
       "<table border=\"1\" class=\"dataframe\">\n",
       "  <thead>\n",
       "    <tr style=\"text-align: right;\">\n",
       "      <th></th>\n",
       "      <th>title</th>\n",
       "      <th>text</th>\n",
       "    </tr>\n",
       "  </thead>\n",
       "  <tbody>\n",
       "    <tr>\n",
       "      <th>0</th>\n",
       "      <td>Pilot</td>\n",
       "      <td>(middle, night, rick, bursts, morty, room, sur...</td>\n",
       "    </tr>\n",
       "    <tr>\n",
       "      <th>1</th>\n",
       "      <td>Lawnmower Dog</td>\n",
       "      <td>(jerry, family, dog, snuffles, rick, jerry, de...</td>\n",
       "    </tr>\n",
       "    <tr>\n",
       "      <th>2</th>\n",
       "      <td>Anatomy Park (Episode)</td>\n",
       "      <td>(christmas, jerry, idea, holiday, rest, family...</td>\n",
       "    </tr>\n",
       "    <tr>\n",
       "      <th>3</th>\n",
       "      <td>M. Night Shaym-Aliens!</td>\n",
       "      <td>(episode, rick, rat, garage, workmanship, mort...</td>\n",
       "    </tr>\n",
       "    <tr>\n",
       "      <th>4</th>\n",
       "      <td>Meeseeks and Destroy</td>\n",
       "      <td>(mr, meeseeks, beth, adventure, morty, adventu...</td>\n",
       "    </tr>\n",
       "    <tr>\n",
       "      <th>...</th>\n",
       "      <td>...</td>\n",
       "      <td>...</td>\n",
       "    </tr>\n",
       "    <tr>\n",
       "      <th>76</th>\n",
       "      <td>Mercy Kill</td>\n",
       "      <td>(planet, supernova, vance, aliens, deaths, inn...</td>\n",
       "    </tr>\n",
       "    <tr>\n",
       "      <th>77</th>\n",
       "      <td>Girls Night</td>\n",
       "      <td>(bar, calypso, diablo, verde, lady, katana, su...</td>\n",
       "    </tr>\n",
       "    <tr>\n",
       "      <th>78</th>\n",
       "      <td>Kintsugi</td>\n",
       "      <td>(planet, somber, alan, rails, vase, glue, crac...</td>\n",
       "    </tr>\n",
       "    <tr>\n",
       "      <th>79</th>\n",
       "      <td>Little Trains</td>\n",
       "      <td>(doom, nomitron, earth, satellite, supernova, ...</td>\n",
       "    </tr>\n",
       "    <tr>\n",
       "      <th>80</th>\n",
       "      <td>Heroes</td>\n",
       "      <td>(thanks, vindicators, manipulations, awards, d...</td>\n",
       "    </tr>\n",
       "  </tbody>\n",
       "</table>\n",
       "<p>81 rows × 2 columns</p>\n",
       "</div>"
      ],
      "text/plain": [
       "                     title                                               text\n",
       "0                    Pilot  (middle, night, rick, bursts, morty, room, sur...\n",
       "1            Lawnmower Dog  (jerry, family, dog, snuffles, rick, jerry, de...\n",
       "2   Anatomy Park (Episode)  (christmas, jerry, idea, holiday, rest, family...\n",
       "3   M. Night Shaym-Aliens!  (episode, rick, rat, garage, workmanship, mort...\n",
       "4     Meeseeks and Destroy  (mr, meeseeks, beth, adventure, morty, adventu...\n",
       "..                     ...                                                ...\n",
       "76              Mercy Kill  (planet, supernova, vance, aliens, deaths, inn...\n",
       "77             Girls Night  (bar, calypso, diablo, verde, lady, katana, su...\n",
       "78                Kintsugi  (planet, somber, alan, rails, vase, glue, crac...\n",
       "79           Little Trains  (doom, nomitron, earth, satellite, supernova, ...\n",
       "80                  Heroes  (thanks, vindicators, manipulations, awards, d...\n",
       "\n",
       "[81 rows x 2 columns]"
      ]
     },
     "execution_count": 21,
     "metadata": {},
     "output_type": "execute_result"
    }
   ],
   "source": [
    "df[\"text\"] = list(nlp.pipe(df[\"text\"]))\n",
    "df"
   ]
  },
  {
   "cell_type": "markdown",
   "id": "fdf66071-be29-4318-a652-f37fe933ae34",
   "metadata": {},
   "source": [
    "### Converting Docs to Strings again"
   ]
  },
  {
   "cell_type": "code",
   "execution_count": 22,
   "id": "61f181fe-e7ab-4aef-8285-b9c16815aa4f",
   "metadata": {
    "scrolled": true
   },
   "outputs": [],
   "source": [
    "df[\"text\"] = [ \" \".join([t.text for t in row]) for row in df[\"text\"]] # Comverting DOc in Text\n"
   ]
  },
  {
   "cell_type": "markdown",
   "id": "0debcbda-38b3-43bb-a4a5-1175bc2d72a8",
   "metadata": {},
   "source": [
    "### Test if if workes"
   ]
  },
  {
   "cell_type": "code",
   "execution_count": 23,
   "id": "3d8576d6-86f4-4682-b740-6220f741f8db",
   "metadata": {},
   "outputs": [
    {
     "data": {
      "text/plain": [
       "0    middle night rick bursts morty room surprise vehicle rick neutrino bomb earth start end humanity morty jessica adam eve morty control situation wheel vehicle rick vehicle test morty bomb morning morty breakfast mother beth morty sister summer ric...\n",
       "1    jerry family dog snuffles rick jerry device dog intelligence morty dreams morty math teacher morty class morty homework morty math teacher dreams dreams tv character mrs pancakes centaur dreams results rick morty terry parody krueger villain ina ...\n",
       "2    christmas jerry idea holiday rest family hisparents morty beth summer gadgets rick man santa outfit ruben holiday jerry idea family christmas introduction jacob mother lover way relationship parents rest family relationship jerry anxiety parents ...\n",
       "3    episode rick rat garage workmanship morty day beth car work rick day events morty morty school front math class mr goldenfold class morty answer math question classmate morty recipe matter morty jessica rick bursts morty away.rick morty locker ro...\n",
       "4    mr meeseeks beth adventure morty adventures rick sidekick adventure strike bet trip success morty adventure trip failure morty rest smith family rick solution problems rick family meeseeks box gadget helpers mr meeseeks creatures task hand task c...\n",
       "5    morty jessica opportunity attempts brad flu season dance morty talks issue jerry morty fondness jessica fondness beth teenager rick overhears jerry story fondness jerry beth rick proceeds morty advice marriage thread jerry remarks problem marriag...\n",
       "6    rick haggles owner pawn shop morty spots sex robot back shop souvenir adventures rick case grandfather rick concedes.back earth rest morty family lifestyle robot jerry morty room robot beth morty puberty jerry idea morty rick help father metal ba...\n",
       "7    smith family television bachelor style reality show rick disgust quality television jerry rick cable box cable box television dimensions shows realities showtime crime show reality people corn rick channels possibilities family jerry episode davi...\n",
       "8    smith family breakfast rick robot butter table morty kitchen rick science project jerry opportunity project morty self confidence intelligence morty summer ride job rick jerry busy’.rick summer ride job man thrift store things shop mr needful ric...\n",
       "9    ricks dimensions mortys council ricks arrest rick c-137 show rick crimes refusal affairs rick council morty culprit rick counterparts mortys presence.meanwhile morty tool rick jerry rick j19ζ7 rick realities morty rebellion mortys rick ricks coun...\n",
       "Name: text, dtype: object"
      ]
     },
     "metadata": {},
     "output_type": "display_data"
    }
   ],
   "source": [
    "pd.options.display.max_colwidth = 250\n",
    "display(df[\"text\"].head(10))"
   ]
  },
  {
   "cell_type": "markdown",
   "id": "8c2cf24f-34e5-459d-9852-60d49f58fdd0",
   "metadata": {},
   "source": [
    "# Save to CSV"
   ]
  },
  {
   "cell_type": "code",
   "execution_count": 24,
   "id": "6e485629-29c9-4f41-a07c-83020136e90a",
   "metadata": {},
   "outputs": [],
   "source": [
    "df.to_csv(PATH_TO_CLEAN_DATA)"
   ]
  }
 ],
 "metadata": {
  "kernelspec": {
   "display_name": "Python 3 (ipykernel)",
   "language": "python",
   "name": "python3"
  },
  "language_info": {
   "codemirror_mode": {
    "name": "ipython",
    "version": 3
   },
   "file_extension": ".py",
   "mimetype": "text/x-python",
   "name": "python",
   "nbconvert_exporter": "python",
   "pygments_lexer": "ipython3",
   "version": "3.10.12"
  }
 },
 "nbformat": 4,
 "nbformat_minor": 5
}
