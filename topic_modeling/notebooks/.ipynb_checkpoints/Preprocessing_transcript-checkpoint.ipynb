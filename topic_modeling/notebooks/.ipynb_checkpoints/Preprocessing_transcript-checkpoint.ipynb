{
 "cells": [
  {
   "cell_type": "code",
   "execution_count": 1,
   "id": "7b757473-6b31-48b6-a546-78dab146b438",
   "metadata": {},
   "outputs": [
    {
     "data": {
      "text/html": [
       "<div>\n",
       "<style scoped>\n",
       "    .dataframe tbody tr th:only-of-type {\n",
       "        vertical-align: middle;\n",
       "    }\n",
       "\n",
       "    .dataframe tbody tr th {\n",
       "        vertical-align: top;\n",
       "    }\n",
       "\n",
       "    .dataframe thead th {\n",
       "        text-align: right;\n",
       "    }\n",
       "</style>\n",
       "<table border=\"1\" class=\"dataframe\">\n",
       "  <thead>\n",
       "    <tr style=\"text-align: right;\">\n",
       "      <th></th>\n",
       "      <th>episode no.</th>\n",
       "      <th>speaker</th>\n",
       "      <th>dialouge</th>\n",
       "    </tr>\n",
       "  </thead>\n",
       "  <tbody>\n",
       "    <tr>\n",
       "      <th>0</th>\n",
       "      <td>1</td>\n",
       "      <td>Rick</td>\n",
       "      <td>\\nstumbles in drunkenly, and turns on the ligh...</td>\n",
       "    </tr>\n",
       "    <tr>\n",
       "      <th>1</th>\n",
       "      <td>1</td>\n",
       "      <td>Morty</td>\n",
       "      <td>\\nrubs his eyes. What, Rick? What’s going on?</td>\n",
       "    </tr>\n",
       "    <tr>\n",
       "      <th>2</th>\n",
       "      <td>1</td>\n",
       "      <td>Rick</td>\n",
       "      <td>I got a surprise for you, Morty.</td>\n",
       "    </tr>\n",
       "    <tr>\n",
       "      <th>3</th>\n",
       "      <td>1</td>\n",
       "      <td>Morty</td>\n",
       "      <td>It's the middle of the night. What are you ta...</td>\n",
       "    </tr>\n",
       "    <tr>\n",
       "      <th>4</th>\n",
       "      <td>1</td>\n",
       "      <td>Rick</td>\n",
       "      <td>\\nspills alcohol on Morty's bed Come on, I got...</td>\n",
       "    </tr>\n",
       "    <tr>\n",
       "      <th>...</th>\n",
       "      <td>...</td>\n",
       "      <td>...</td>\n",
       "      <td>...</td>\n",
       "    </tr>\n",
       "    <tr>\n",
       "      <th>9613</th>\n",
       "      <td>51</td>\n",
       "      <td>Mr. Poopybutthole:</td>\n",
       "      <td>Cuz I wanted her to love who she thought I wa...</td>\n",
       "    </tr>\n",
       "    <tr>\n",
       "      <th>9614</th>\n",
       "      <td>51</td>\n",
       "      <td>Mr. Poopybutthole:</td>\n",
       "      <td>Ever think about how horrified the people we ...</td>\n",
       "    </tr>\n",
       "    <tr>\n",
       "      <th>9615</th>\n",
       "      <td>51</td>\n",
       "      <td>Mr. Poopybutthole:</td>\n",
       "      <td>Wish I didn’t do that.\\n</td>\n",
       "    </tr>\n",
       "    <tr>\n",
       "      <th>9616</th>\n",
       "      <td>51</td>\n",
       "      <td>Mr. Poopybutthole:</td>\n",
       "      <td>Wish I was brave enough to love them back. I ...</td>\n",
       "    </tr>\n",
       "    <tr>\n",
       "      <th>9617</th>\n",
       "      <td>51</td>\n",
       "      <td>Mr. Poopybutthole:</td>\n",
       "      <td>We don’t have as much time as we think. Ooo e...</td>\n",
       "    </tr>\n",
       "  </tbody>\n",
       "</table>\n",
       "<p>9618 rows × 3 columns</p>\n",
       "</div>"
      ],
      "text/plain": [
       "      episode no.             speaker  \\\n",
       "0               1                Rick   \n",
       "1               1               Morty   \n",
       "2               1                Rick   \n",
       "3               1               Morty   \n",
       "4               1                Rick   \n",
       "...           ...                 ...   \n",
       "9613           51  Mr. Poopybutthole:   \n",
       "9614           51  Mr. Poopybutthole:   \n",
       "9615           51  Mr. Poopybutthole:   \n",
       "9616           51  Mr. Poopybutthole:   \n",
       "9617           51  Mr. Poopybutthole:   \n",
       "\n",
       "                                               dialouge  \n",
       "0     \\nstumbles in drunkenly, and turns on the ligh...  \n",
       "1         \\nrubs his eyes. What, Rick? What’s going on?  \n",
       "2                      I got a surprise for you, Morty.  \n",
       "3      It's the middle of the night. What are you ta...  \n",
       "4     \\nspills alcohol on Morty's bed Come on, I got...  \n",
       "...                                                 ...  \n",
       "9613   Cuz I wanted her to love who she thought I wa...  \n",
       "9614   Ever think about how horrified the people we ...  \n",
       "9615                           Wish I didn’t do that.\\n  \n",
       "9616   Wish I was brave enough to love them back. I ...  \n",
       "9617   We don’t have as much time as we think. Ooo e...  \n",
       "\n",
       "[9618 rows x 3 columns]"
      ]
     },
     "execution_count": 1,
     "metadata": {},
     "output_type": "execute_result"
    }
   ],
   "source": [
    "import pandas as pd\n",
    "\n",
    "PATH_TO_RAW_DATA = \"/home/anton/Anton/Studium/DHBW /Semester_5/Text_Analysis/repo/Burg-NLP/data/rick_and_morty_master.csv\"\n",
    "PATH_TO_CLEAN_DATA = \"/home/anton/Anton/Studium/DHBW /Semester_5/Text_Analysis/repo/Burg-NLP/topic_modeling/data/rick_and_morty_master_clean.csv\"\n",
    "\n",
    "df = pd.read_csv( PATH_TO_RAW_DATA , index_col = \"Unnamed: 0\")\n",
    "#df = pd.read_csv( PATH_TO_RAW_DATA)\n",
    "df\n"
   ]
  },
  {
   "cell_type": "markdown",
   "id": "da0d11b0-183c-4f3a-b108-527d95551698",
   "metadata": {},
   "source": [
    "# Remove \\n"
   ]
  },
  {
   "cell_type": "code",
   "execution_count": 2,
   "id": "34107557-bb5d-4991-8dca-d147ea0307ab",
   "metadata": {},
   "outputs": [
    {
     "data": {
      "text/html": [
       "<div>\n",
       "<style scoped>\n",
       "    .dataframe tbody tr th:only-of-type {\n",
       "        vertical-align: middle;\n",
       "    }\n",
       "\n",
       "    .dataframe tbody tr th {\n",
       "        vertical-align: top;\n",
       "    }\n",
       "\n",
       "    .dataframe thead th {\n",
       "        text-align: right;\n",
       "    }\n",
       "</style>\n",
       "<table border=\"1\" class=\"dataframe\">\n",
       "  <thead>\n",
       "    <tr style=\"text-align: right;\">\n",
       "      <th></th>\n",
       "      <th>episode no.</th>\n",
       "      <th>speaker</th>\n",
       "      <th>dialouge</th>\n",
       "    </tr>\n",
       "  </thead>\n",
       "  <tbody>\n",
       "    <tr>\n",
       "      <th>0</th>\n",
       "      <td>1</td>\n",
       "      <td>Rick</td>\n",
       "      <td>stumbles in drunkenly, and turns on the lights...</td>\n",
       "    </tr>\n",
       "    <tr>\n",
       "      <th>1</th>\n",
       "      <td>1</td>\n",
       "      <td>Morty</td>\n",
       "      <td>rubs his eyes. What, Rick? What’s going on?</td>\n",
       "    </tr>\n",
       "    <tr>\n",
       "      <th>2</th>\n",
       "      <td>1</td>\n",
       "      <td>Rick</td>\n",
       "      <td>I got a surprise for you, Morty.</td>\n",
       "    </tr>\n",
       "    <tr>\n",
       "      <th>3</th>\n",
       "      <td>1</td>\n",
       "      <td>Morty</td>\n",
       "      <td>It's the middle of the night. What are you ta...</td>\n",
       "    </tr>\n",
       "    <tr>\n",
       "      <th>4</th>\n",
       "      <td>1</td>\n",
       "      <td>Rick</td>\n",
       "      <td>spills alcohol on Morty's bed Come on, I got a...</td>\n",
       "    </tr>\n",
       "    <tr>\n",
       "      <th>...</th>\n",
       "      <td>...</td>\n",
       "      <td>...</td>\n",
       "      <td>...</td>\n",
       "    </tr>\n",
       "    <tr>\n",
       "      <th>9613</th>\n",
       "      <td>51</td>\n",
       "      <td>Mr. Poopybutthole</td>\n",
       "      <td>Cuz I wanted her to love who she thought I wa...</td>\n",
       "    </tr>\n",
       "    <tr>\n",
       "      <th>9614</th>\n",
       "      <td>51</td>\n",
       "      <td>Mr. Poopybutthole</td>\n",
       "      <td>Ever think about how horrified the people we ...</td>\n",
       "    </tr>\n",
       "    <tr>\n",
       "      <th>9615</th>\n",
       "      <td>51</td>\n",
       "      <td>Mr. Poopybutthole</td>\n",
       "      <td>Wish I didn’t do that.</td>\n",
       "    </tr>\n",
       "    <tr>\n",
       "      <th>9616</th>\n",
       "      <td>51</td>\n",
       "      <td>Mr. Poopybutthole</td>\n",
       "      <td>Wish I was brave enough to love them back. I ...</td>\n",
       "    </tr>\n",
       "    <tr>\n",
       "      <th>9617</th>\n",
       "      <td>51</td>\n",
       "      <td>Mr. Poopybutthole</td>\n",
       "      <td>We don’t have as much time as we think. Ooo eee.</td>\n",
       "    </tr>\n",
       "  </tbody>\n",
       "</table>\n",
       "<p>9618 rows × 3 columns</p>\n",
       "</div>"
      ],
      "text/plain": [
       "      episode no.            speaker  \\\n",
       "0               1               Rick   \n",
       "1               1              Morty   \n",
       "2               1               Rick   \n",
       "3               1              Morty   \n",
       "4               1               Rick   \n",
       "...           ...                ...   \n",
       "9613           51  Mr. Poopybutthole   \n",
       "9614           51  Mr. Poopybutthole   \n",
       "9615           51  Mr. Poopybutthole   \n",
       "9616           51  Mr. Poopybutthole   \n",
       "9617           51  Mr. Poopybutthole   \n",
       "\n",
       "                                               dialouge  \n",
       "0     stumbles in drunkenly, and turns on the lights...  \n",
       "1           rubs his eyes. What, Rick? What’s going on?  \n",
       "2                      I got a surprise for you, Morty.  \n",
       "3      It's the middle of the night. What are you ta...  \n",
       "4     spills alcohol on Morty's bed Come on, I got a...  \n",
       "...                                                 ...  \n",
       "9613   Cuz I wanted her to love who she thought I wa...  \n",
       "9614   Ever think about how horrified the people we ...  \n",
       "9615                             Wish I didn’t do that.  \n",
       "9616   Wish I was brave enough to love them back. I ...  \n",
       "9617   We don’t have as much time as we think. Ooo eee.  \n",
       "\n",
       "[9618 rows x 3 columns]"
      ]
     },
     "execution_count": 2,
     "metadata": {},
     "output_type": "execute_result"
    }
   ],
   "source": [
    "df[\"dialouge\"] = pd.Series( x.replace(\"\\n\", \"\").replace(\"  \", \"\") for x in df[\"dialouge\"])\n",
    "\n",
    "df[\"speaker\"] = df[\"speaker\"].apply(lambda x: str(x).replace(\":\",\"\"))\n",
    "df"
   ]
  },
  {
   "cell_type": "markdown",
   "id": "23100807-a412-48f1-b929-b76d65242d60",
   "metadata": {},
   "source": [
    "# Lowercase"
   ]
  },
  {
   "cell_type": "code",
   "execution_count": 3,
   "id": "b2b4e183-a016-4f50-8d3b-c1aba01cfdb0",
   "metadata": {},
   "outputs": [
    {
     "data": {
      "text/html": [
       "<div>\n",
       "<style scoped>\n",
       "    .dataframe tbody tr th:only-of-type {\n",
       "        vertical-align: middle;\n",
       "    }\n",
       "\n",
       "    .dataframe tbody tr th {\n",
       "        vertical-align: top;\n",
       "    }\n",
       "\n",
       "    .dataframe thead th {\n",
       "        text-align: right;\n",
       "    }\n",
       "</style>\n",
       "<table border=\"1\" class=\"dataframe\">\n",
       "  <thead>\n",
       "    <tr style=\"text-align: right;\">\n",
       "      <th></th>\n",
       "      <th>episode no.</th>\n",
       "      <th>speaker</th>\n",
       "      <th>dialouge</th>\n",
       "    </tr>\n",
       "  </thead>\n",
       "  <tbody>\n",
       "    <tr>\n",
       "      <th>0</th>\n",
       "      <td>1</td>\n",
       "      <td>Rick</td>\n",
       "      <td>stumbles in drunkenly, and turns on the lights...</td>\n",
       "    </tr>\n",
       "    <tr>\n",
       "      <th>1</th>\n",
       "      <td>1</td>\n",
       "      <td>Morty</td>\n",
       "      <td>rubs his eyes. what, rick? what’s going on?</td>\n",
       "    </tr>\n",
       "    <tr>\n",
       "      <th>2</th>\n",
       "      <td>1</td>\n",
       "      <td>Rick</td>\n",
       "      <td>i got a surprise for you, morty.</td>\n",
       "    </tr>\n",
       "    <tr>\n",
       "      <th>3</th>\n",
       "      <td>1</td>\n",
       "      <td>Morty</td>\n",
       "      <td>it's the middle of the night. what are you ta...</td>\n",
       "    </tr>\n",
       "    <tr>\n",
       "      <th>4</th>\n",
       "      <td>1</td>\n",
       "      <td>Rick</td>\n",
       "      <td>spills alcohol on morty's bed come on, i got a...</td>\n",
       "    </tr>\n",
       "    <tr>\n",
       "      <th>...</th>\n",
       "      <td>...</td>\n",
       "      <td>...</td>\n",
       "      <td>...</td>\n",
       "    </tr>\n",
       "    <tr>\n",
       "      <th>9613</th>\n",
       "      <td>51</td>\n",
       "      <td>Mr. Poopybutthole</td>\n",
       "      <td>cuz i wanted her to love who she thought i wa...</td>\n",
       "    </tr>\n",
       "    <tr>\n",
       "      <th>9614</th>\n",
       "      <td>51</td>\n",
       "      <td>Mr. Poopybutthole</td>\n",
       "      <td>ever think about how horrified the people we ...</td>\n",
       "    </tr>\n",
       "    <tr>\n",
       "      <th>9615</th>\n",
       "      <td>51</td>\n",
       "      <td>Mr. Poopybutthole</td>\n",
       "      <td>wish i didn’t do that.</td>\n",
       "    </tr>\n",
       "    <tr>\n",
       "      <th>9616</th>\n",
       "      <td>51</td>\n",
       "      <td>Mr. Poopybutthole</td>\n",
       "      <td>wish i was brave enough to love them back. i ...</td>\n",
       "    </tr>\n",
       "    <tr>\n",
       "      <th>9617</th>\n",
       "      <td>51</td>\n",
       "      <td>Mr. Poopybutthole</td>\n",
       "      <td>we don’t have as much time as we think. ooo eee.</td>\n",
       "    </tr>\n",
       "  </tbody>\n",
       "</table>\n",
       "<p>9618 rows × 3 columns</p>\n",
       "</div>"
      ],
      "text/plain": [
       "      episode no.            speaker  \\\n",
       "0               1               Rick   \n",
       "1               1              Morty   \n",
       "2               1               Rick   \n",
       "3               1              Morty   \n",
       "4               1               Rick   \n",
       "...           ...                ...   \n",
       "9613           51  Mr. Poopybutthole   \n",
       "9614           51  Mr. Poopybutthole   \n",
       "9615           51  Mr. Poopybutthole   \n",
       "9616           51  Mr. Poopybutthole   \n",
       "9617           51  Mr. Poopybutthole   \n",
       "\n",
       "                                               dialouge  \n",
       "0     stumbles in drunkenly, and turns on the lights...  \n",
       "1           rubs his eyes. what, rick? what’s going on?  \n",
       "2                      i got a surprise for you, morty.  \n",
       "3      it's the middle of the night. what are you ta...  \n",
       "4     spills alcohol on morty's bed come on, i got a...  \n",
       "...                                                 ...  \n",
       "9613   cuz i wanted her to love who she thought i wa...  \n",
       "9614   ever think about how horrified the people we ...  \n",
       "9615                             wish i didn’t do that.  \n",
       "9616   wish i was brave enough to love them back. i ...  \n",
       "9617   we don’t have as much time as we think. ooo eee.  \n",
       "\n",
       "[9618 rows x 3 columns]"
      ]
     },
     "execution_count": 3,
     "metadata": {},
     "output_type": "execute_result"
    }
   ],
   "source": [
    "df['dialouge'] = df[\"dialouge\"].apply(lambda x: x.lower())\n",
    "df"
   ]
  },
  {
   "cell_type": "markdown",
   "id": "29a70368-e878-4ebc-8f37-2894d00ad886",
   "metadata": {},
   "source": [
    "### remove HTML Tags"
   ]
  },
  {
   "cell_type": "code",
   "execution_count": 4,
   "id": "04328708-7447-4a87-9ebd-85ae95ab0316",
   "metadata": {},
   "outputs": [
    {
     "data": {
      "text/plain": [
       "episode no.                                            12\n",
       "speaker                                             Morty\n",
       "dialouge        do the cabbage patch. do—do—do the dance.\n",
       "Name: 3206, dtype: object"
      ]
     },
     "execution_count": 4,
     "metadata": {},
     "output_type": "execute_result"
    }
   ],
   "source": [
    "df[\"dialouge\"] = df[\"dialouge\"].str.replace(\"<[^>]*>\",\"\" , regex=True)\n",
    "df[\"speaker\"] = df[\"speaker\"].str.replace(\"<[^>]*>\",\"\" , regex=True)\n",
    "df.iloc[3206]"
   ]
  },
  {
   "cell_type": "markdown",
   "id": "d767f27d-1143-4917-913c-475e1ee84c48",
   "metadata": {},
   "source": [
    "# Abbreviation"
   ]
  },
  {
   "cell_type": "code",
   "execution_count": 5,
   "id": "bd9a56a7-cfb2-4768-8a0f-8cec29856149",
   "metadata": {},
   "outputs": [],
   "source": [
    "df[\"dialouge\"] = pd.Series( x.replace(\"'\", \"’\")for x in df[\"dialouge\"])"
   ]
  },
  {
   "cell_type": "code",
   "execution_count": 6,
   "id": "4be6365a-19eb-4eed-83f3-1235235b2c90",
   "metadata": {},
   "outputs": [],
   "source": [
    "abbreviations_dict = {\n",
    "    \"don’t\": \"do not\",\n",
    "    \"isn’t\": \"is not\",\n",
    "    \"ain’t\": \"is not\",\n",
    "    \"gotta\": \"got to\",\n",
    "    \"can’t\": \"cannot\",\n",
    "    \"won’t\": \"will not\",\n",
    "    \"you’re\": \"you are\",\n",
    "    \"they’re\": \"they are\",\n",
    "    \"we’re\": \"we are\",\n",
    "    \"I’m\": \"I am\",\n",
    "    \"she’s\": \"she is\",\n",
    "    \"he’s\": \"he is\",\n",
    "    \"it’s\": \"it is\",\n",
    "    \"there’s\": \"there is\",\n",
    "    \"what’s\": \"what is\",\n",
    "    \"here’s\": \"here is\",\n",
    "    \"that’s\": \"that is\",\n",
    "    \"who’s\": \"who is\",\n",
    "    \"how’s\": \"how is\",\n",
    "    \"aren’t\": \"are not\",\n",
    "    \"wasn’t\": \"was not\",\n",
    "    \"weren’t\": \"were not\",\n",
    "    \"doesn’t\": \"does not\",\n",
    "    \"didn’t\": \"did not\",\n",
    "    \"hasn’t\": \"has not\",\n",
    "    \"haven’t\": \"have not\",\n",
    "    \"hadn’t\": \"had not\",\n",
    "    \"shouldn’t\": \"should not\",\n",
    "    \"wouldn’t\": \"would not\",\n",
    "    \"couldn’t\": \"could not\",\n",
    "    \"mustn’t\": \"must not\",\n",
    "    \"mightn’t\": \"might not\",\n",
    "    \"needn’t\": \"need not\",\n",
    "    \"let’s\": \"let us\",\n",
    "    \"y’all\": \"you all\",\n",
    "    \"gonna\": \"going to\",\n",
    "    \"wanna\": \"want to\",\n",
    "    \"lemme\": \"let me\",\n",
    "    \"gimme\": \"give me\",\n",
    "    \"kinda\": \"kind of\",\n",
    "    \"sorta\": \"sort of\",\n",
    "    \"outta\": \"out of\",\n",
    "    \"lotta\": \"lot of\",\n",
    "    \"dunno\": \"do not know\",\n",
    "    \"c’mon\": \"come on\",\n",
    "    \"o’clock\": \"of the clock\",\n",
    "    \"y’know\": \"you know\",\n",
    "    \"ma’am\": \"madam\",\n",
    "    \"could’ve\": \"could have\",\n",
    "    \"should’ve\": \"should have\",\n",
    "    \"would’ve\": \"would have\",\n",
    "    \"might’ve\": \"might have\",\n",
    "    \"must’ve\": \"must have\",\n",
    "    \"there’d\": \"there would\",\n",
    "    \"it’d\": \"it would\",\n",
    "    \"he’d\": \"he would\",\n",
    "    \"she’d\": \"she would\",\n",
    "    \"they’d\": \"they would\",\n",
    "    \"I’d\": \"I would\",\n",
    "    \"you’d\": \"you would\",\n",
    "    \"we’d\": \"we would\", \n",
    "    \"it’s\" : \"it is\"\n",
    "}\n"
   ]
  },
  {
   "cell_type": "markdown",
   "id": "bd7b5034-7492-4620-9614-8e28f1c6e2a0",
   "metadata": {},
   "source": [
    "# Characters"
   ]
  },
  {
   "cell_type": "code",
   "execution_count": 7,
   "id": "15194ca9-10de-4044-975d-7dd3d29bb70a",
   "metadata": {},
   "outputs": [],
   "source": [
    "rick_and_morty_characters = [\n",
    "    \"rick\",\n",
    "    \"morty\",\n",
    "    \"summer\",\n",
    "    \"beth\",\n",
    "    \"jerry\",\n",
    "    \"birdperson\",\n",
    "    \"mr. poopybutthole\",\n",
    "    \"squanchy\",\n",
    "    \"tammy\",\n",
    "    \"noob-noob\",\n",
    "    \"gearhead\",\n",
    "    \"meeseeks\",\n",
    "    \"jessica\",\n",
    "    \"abradolph lincoler\",\n",
    "    \"unity\",\n",
    "    \"principal gene vagina\",\n",
    "    \"cromulons\",\n",
    "    \"krombopulos michael\",\n",
    "    \"scary terry\",\n",
    "    \"pickle rick\",\n",
    "    \"president\",\n",
    "    \"snowball\",\n",
    "    \"snuffles\"\n",
    "]\n"
   ]
  },
  {
   "cell_type": "code",
   "execution_count": 8,
   "id": "bf1b49c6-9dba-4b04-9359-7c7308abb997",
   "metadata": {},
   "outputs": [
    {
     "data": {
      "text/html": [
       "<div>\n",
       "<style scoped>\n",
       "    .dataframe tbody tr th:only-of-type {\n",
       "        vertical-align: middle;\n",
       "    }\n",
       "\n",
       "    .dataframe tbody tr th {\n",
       "        vertical-align: top;\n",
       "    }\n",
       "\n",
       "    .dataframe thead th {\n",
       "        text-align: right;\n",
       "    }\n",
       "</style>\n",
       "<table border=\"1\" class=\"dataframe\">\n",
       "  <thead>\n",
       "    <tr style=\"text-align: right;\">\n",
       "      <th></th>\n",
       "      <th>episode no.</th>\n",
       "      <th>speaker</th>\n",
       "      <th>dialouge</th>\n",
       "    </tr>\n",
       "  </thead>\n",
       "  <tbody>\n",
       "    <tr>\n",
       "      <th>0</th>\n",
       "      <td>1</td>\n",
       "      <td>Rick</td>\n",
       "      <td>stumbles in drunkenly, and turns on the lights...</td>\n",
       "    </tr>\n",
       "    <tr>\n",
       "      <th>1</th>\n",
       "      <td>1</td>\n",
       "      <td>Morty</td>\n",
       "      <td>rubs his eyes. what, rick? what is going on?</td>\n",
       "    </tr>\n",
       "    <tr>\n",
       "      <th>2</th>\n",
       "      <td>1</td>\n",
       "      <td>Rick</td>\n",
       "      <td>i got a surprise for you, morty.</td>\n",
       "    </tr>\n",
       "    <tr>\n",
       "      <th>3</th>\n",
       "      <td>1</td>\n",
       "      <td>Morty</td>\n",
       "      <td>it is the middle of the night. what are you t...</td>\n",
       "    </tr>\n",
       "    <tr>\n",
       "      <th>4</th>\n",
       "      <td>1</td>\n",
       "      <td>Rick</td>\n",
       "      <td>spills alcohol on morty’s bed come on, i got a...</td>\n",
       "    </tr>\n",
       "    <tr>\n",
       "      <th>...</th>\n",
       "      <td>...</td>\n",
       "      <td>...</td>\n",
       "      <td>...</td>\n",
       "    </tr>\n",
       "    <tr>\n",
       "      <th>9613</th>\n",
       "      <td>51</td>\n",
       "      <td>Mr. Poopybutthole</td>\n",
       "      <td>cuz i wanted her to love who she thought i wa...</td>\n",
       "    </tr>\n",
       "    <tr>\n",
       "      <th>9614</th>\n",
       "      <td>51</td>\n",
       "      <td>Mr. Poopybutthole</td>\n",
       "      <td>ever think about how horrified the people we ...</td>\n",
       "    </tr>\n",
       "    <tr>\n",
       "      <th>9615</th>\n",
       "      <td>51</td>\n",
       "      <td>Mr. Poopybutthole</td>\n",
       "      <td>wish i did not do that.</td>\n",
       "    </tr>\n",
       "    <tr>\n",
       "      <th>9616</th>\n",
       "      <td>51</td>\n",
       "      <td>Mr. Poopybutthole</td>\n",
       "      <td>wish i was brave enough to love them back. i ...</td>\n",
       "    </tr>\n",
       "    <tr>\n",
       "      <th>9617</th>\n",
       "      <td>51</td>\n",
       "      <td>Mr. Poopybutthole</td>\n",
       "      <td>we do not have as much time as we think. ooo ...</td>\n",
       "    </tr>\n",
       "  </tbody>\n",
       "</table>\n",
       "<p>9618 rows × 3 columns</p>\n",
       "</div>"
      ],
      "text/plain": [
       "      episode no.            speaker  \\\n",
       "0               1               Rick   \n",
       "1               1              Morty   \n",
       "2               1               Rick   \n",
       "3               1              Morty   \n",
       "4               1               Rick   \n",
       "...           ...                ...   \n",
       "9613           51  Mr. Poopybutthole   \n",
       "9614           51  Mr. Poopybutthole   \n",
       "9615           51  Mr. Poopybutthole   \n",
       "9616           51  Mr. Poopybutthole   \n",
       "9617           51  Mr. Poopybutthole   \n",
       "\n",
       "                                               dialouge  \n",
       "0     stumbles in drunkenly, and turns on the lights...  \n",
       "1          rubs his eyes. what, rick? what is going on?  \n",
       "2                      i got a surprise for you, morty.  \n",
       "3      it is the middle of the night. what are you t...  \n",
       "4     spills alcohol on morty’s bed come on, i got a...  \n",
       "...                                                 ...  \n",
       "9613   cuz i wanted her to love who she thought i wa...  \n",
       "9614   ever think about how horrified the people we ...  \n",
       "9615                            wish i did not do that.  \n",
       "9616   wish i was brave enough to love them back. i ...  \n",
       "9617   we do not have as much time as we think. ooo ...  \n",
       "\n",
       "[9618 rows x 3 columns]"
      ]
     },
     "execution_count": 8,
     "metadata": {},
     "output_type": "execute_result"
    }
   ],
   "source": [
    "corrected_row = []\n",
    "for row in df[\"dialouge\"]:\n",
    "    for entry in list(abbreviations_dict.keys()):\n",
    "        if entry in row:\n",
    "            row = row.replace(entry, abbreviations_dict[entry])\n",
    "        continue \n",
    "    corrected_row.append(row)\n",
    "\n",
    "df[\"dialouge\"] = pd.Series(corrected_row)\n",
    "\n",
    "\n",
    "df"
   ]
  },
  {
   "cell_type": "code",
   "execution_count": 9,
   "id": "42be3f2a-3841-4dde-b9ee-ce83cdf735d5",
   "metadata": {},
   "outputs": [],
   "source": [
    "df[\"dialouge\"] = df[\"dialouge\"].str.replace(\"[^\\w\\s]\",\"\" , regex=True)\n",
    "df[\"speaker\"] = df[\"speaker\"].str.replace(\"[^\\w\\s]\",\"\" , regex=True)"
   ]
  },
  {
   "cell_type": "markdown",
   "id": "072861f8-226b-4262-b2fa-44fc14959eb8",
   "metadata": {},
   "source": [
    "# Remove Stopwords"
   ]
  },
  {
   "cell_type": "code",
   "execution_count": 10,
   "id": "b23c2fc8-9f36-4f29-8ebd-59670acefa3b",
   "metadata": {},
   "outputs": [
    {
     "name": "stderr",
     "output_type": "stream",
     "text": [
      "[nltk_data] Downloading package stopwords to /home/anton/nltk_data...\n",
      "[nltk_data]   Package stopwords is already up-to-date!\n"
     ]
    },
    {
     "data": {
      "text/plain": [
       "True"
      ]
     },
     "execution_count": 10,
     "metadata": {},
     "output_type": "execute_result"
    }
   ],
   "source": [
    "import nltk\n",
    "from nltk.corpus import stopwords\n",
    "nltk.download('stopwords')"
   ]
  },
  {
   "cell_type": "markdown",
   "id": "8a3fbabd-10fb-4584-8440-c7d1085e27a2",
   "metadata": {},
   "source": [
    "## Spacy Pipeline ##"
   ]
  },
  {
   "cell_type": "code",
   "execution_count": 11,
   "id": "c270d1f3-9685-4410-9ca5-d995c3f1d2e0",
   "metadata": {},
   "outputs": [],
   "source": [
    "import spacy\n",
    "from spacy.language import Language\n",
    "from spacy.tokens import Doc\n",
    "import gensim\n",
    "import gensim.corpora as corpora\n",
    "from gensim.utils import simple_preprocess\n",
    "from nltk.stem import PorterStemmer"
   ]
  },
  {
   "cell_type": "code",
   "execution_count": 12,
   "id": "dc79427e-99a2-42d7-8182-20afa8a3301e",
   "metadata": {},
   "outputs": [],
   "source": [
    "nlp = spacy.load(\"en_core_web_sm\")\n"
   ]
  },
  {
   "cell_type": "code",
   "execution_count": 13,
   "id": "3c5caacc-703b-4e13-b5fd-bac194e84b97",
   "metadata": {},
   "outputs": [
    {
     "name": "stdout",
     "output_type": "stream",
     "text": [
      "<class 'str'>\n"
     ]
    }
   ],
   "source": [
    "doc = nlp(\"Rick and Morty ham\")\n",
    "print(type(doc[0].pos_))"
   ]
  },
  {
   "cell_type": "code",
   "execution_count": 14,
   "id": "91ef3391-dd6f-42f4-80cf-57f9b5bcdfa7",
   "metadata": {},
   "outputs": [
    {
     "data": {
      "text/plain": [
       "('lemmatizer', <spacy.lang.en.lemmatizer.EnglishLemmatizer at 0x7f374df1ff80>)"
      ]
     },
     "execution_count": 14,
     "metadata": {},
     "output_type": "execute_result"
    }
   ],
   "source": [
    "nlp.pipeline\n",
    "nlp.remove_pipe(\"lemmatizer\")\n",
    "# To Do Pipeline Reihenfolge anpassen"
   ]
  },
  {
   "cell_type": "code",
   "execution_count": 15,
   "id": "2a79e257-8b72-4218-bffc-b3e76efd070c",
   "metadata": {},
   "outputs": [],
   "source": [
    "@Language.component(\"abbreviation_remover\")\n",
    "def custom_abbreciation_remover(doc):\n",
    "    new_words = []\n",
    "\n",
    "    \n",
    "    return Doc(nlp.vocab , words=valid_doc , pos=valid_doc_pos)"
   ]
  },
  {
   "cell_type": "code",
   "execution_count": 16,
   "id": "0234044a-c3b6-4045-924b-8a11118597de",
   "metadata": {},
   "outputs": [],
   "source": [
    "@Language.component(\"stopword_remover\")\n",
    "def custom_remover(doc):\n",
    "    stop_words = set(stopwords.words('english'))\n",
    "    valid_doc = [token.text for token in doc if token.text not in stop_words ]\n",
    "    valid_doc_pos = [token.pos_ for token in doc if token.text not in stop_words ]\n",
    "\n",
    "    return Doc(nlp.vocab , words=valid_doc , pos=valid_doc_pos)"
   ]
  },
  {
   "cell_type": "code",
   "execution_count": 17,
   "id": "6e642bfc-40a8-43c7-8f73-4aca6d03a23d",
   "metadata": {},
   "outputs": [
    {
     "data": {
      "text/plain": [
       "<function __main__.custom_remover(doc)>"
      ]
     },
     "execution_count": 17,
     "metadata": {},
     "output_type": "execute_result"
    }
   ],
   "source": [
    "nlp.add_pipe(\"stopword_remover\" , after=\"ner\")"
   ]
  },
  {
   "cell_type": "code",
   "execution_count": 18,
   "id": "e7ac78a1-58a3-4885-87d8-b4d7490a0641",
   "metadata": {},
   "outputs": [],
   "source": [
    "@Language.component(\"porter_stemmer\")\n",
    "def custom_stemmer(doc):\n",
    "    ps = PorterStemmer()\n",
    "\n",
    "    stemmed_words = [ps.stem(token.text) if token.pos_ != \"PROPN\" and token.text not in rick_and_morty_characters  else token.text for token in doc ]\n",
    "    stemmed_words_tags = [str(token.tag_) if token.pos_ != \"PROPN\" and token.text not in rick_and_morty_characters else token.text for token in doc ]\n",
    "    \n",
    "    return Doc(nlp.vocab , words=stemmed_words, tags=stemmed_words_tags)"
   ]
  },
  {
   "cell_type": "code",
   "execution_count": 19,
   "id": "27d00db2-a3eb-4661-be41-ec2cb23c168d",
   "metadata": {},
   "outputs": [
    {
     "data": {
      "text/plain": [
       "<function __main__.custom_stemmer(doc)>"
      ]
     },
     "execution_count": 19,
     "metadata": {},
     "output_type": "execute_result"
    }
   ],
   "source": [
    "nlp.add_pipe(\"porter_stemmer\", after=\"stopword_remover\" )"
   ]
  },
  {
   "cell_type": "code",
   "execution_count": 20,
   "id": "46fb9d16-4a12-420d-92ea-c15fc1ace126",
   "metadata": {},
   "outputs": [
    {
     "name": "stdout",
     "output_type": "stream",
     "text": [
      "['tok2vec', 'tagger', 'parser', 'attribute_ruler', 'ner', 'stopword_remover', 'porter_stemmer']\n"
     ]
    }
   ],
   "source": [
    "print(nlp.pipe_names)"
   ]
  },
  {
   "cell_type": "markdown",
   "id": "6df195b3-c5af-4d22-880d-d62c97457249",
   "metadata": {},
   "source": [
    "## Abreviations"
   ]
  },
  {
   "cell_type": "code",
   "execution_count": null,
   "id": "5ec37269-4fe9-45b0-80c1-ddaaa9ab807d",
   "metadata": {},
   "outputs": [],
   "source": []
  },
  {
   "cell_type": "code",
   "execution_count": 21,
   "id": "f4341e2c-5989-4331-a909-421a9cad50ad",
   "metadata": {},
   "outputs": [
    {
     "name": "stdout",
     "output_type": "stream",
     "text": [
      "morty\n"
     ]
    }
   ],
   "source": [
    "doc = nlp(\"morty you gotta come with me\")\n",
    "print(doc[0].text)"
   ]
  },
  {
   "cell_type": "markdown",
   "id": "906dc985-8edf-4dfd-9df9-0bff093e763e",
   "metadata": {},
   "source": [
    "# Applying Changes in Dataframe"
   ]
  },
  {
   "cell_type": "code",
   "execution_count": null,
   "id": "61ff1af1-9d4c-45ff-86c9-1b9b36f3d122",
   "metadata": {},
   "outputs": [],
   "source": []
  },
  {
   "cell_type": "code",
   "execution_count": 22,
   "id": "6b9016f1-d773-49f2-9bed-084f03d8d029",
   "metadata": {},
   "outputs": [
    {
     "data": {
      "text/html": [
       "<div>\n",
       "<style scoped>\n",
       "    .dataframe tbody tr th:only-of-type {\n",
       "        vertical-align: middle;\n",
       "    }\n",
       "\n",
       "    .dataframe tbody tr th {\n",
       "        vertical-align: top;\n",
       "    }\n",
       "\n",
       "    .dataframe thead th {\n",
       "        text-align: right;\n",
       "    }\n",
       "</style>\n",
       "<table border=\"1\" class=\"dataframe\">\n",
       "  <thead>\n",
       "    <tr style=\"text-align: right;\">\n",
       "      <th></th>\n",
       "      <th>episode no.</th>\n",
       "      <th>speaker</th>\n",
       "      <th>dialouge</th>\n",
       "    </tr>\n",
       "  </thead>\n",
       "  <tbody>\n",
       "    <tr>\n",
       "      <th>0</th>\n",
       "      <td>1</td>\n",
       "      <td>Rick</td>\n",
       "      <td>(stumbl, drunkenli, turn, light, morty, got, t...</td>\n",
       "    </tr>\n",
       "    <tr>\n",
       "      <th>1</th>\n",
       "      <td>1</td>\n",
       "      <td>Morty</td>\n",
       "      <td>(rub, eye, rick, go)</td>\n",
       "    </tr>\n",
       "    <tr>\n",
       "      <th>2</th>\n",
       "      <td>1</td>\n",
       "      <td>Rick</td>\n",
       "      <td>( , got, surpris, morty)</td>\n",
       "    </tr>\n",
       "    <tr>\n",
       "      <th>3</th>\n",
       "      <td>1</td>\n",
       "      <td>Morty</td>\n",
       "      <td>( , middl, night, talk)</td>\n",
       "    </tr>\n",
       "    <tr>\n",
       "      <th>4</th>\n",
       "      <td>1</td>\n",
       "      <td>Rick</td>\n",
       "      <td>(spill, alcohol, morti, bed, come, got, surpri...</td>\n",
       "    </tr>\n",
       "    <tr>\n",
       "      <th>...</th>\n",
       "      <td>...</td>\n",
       "      <td>...</td>\n",
       "      <td>...</td>\n",
       "    </tr>\n",
       "    <tr>\n",
       "      <th>9613</th>\n",
       "      <td>51</td>\n",
       "      <td>Mr Poopybutthole</td>\n",
       "      <td>( , cuz, want, love, thought, felt, becom)</td>\n",
       "    </tr>\n",
       "    <tr>\n",
       "      <th>9614</th>\n",
       "      <td>51</td>\n",
       "      <td>Mr Poopybutthole</td>\n",
       "      <td>( , ever, think, horrifi, peopl, love, would, ...</td>\n",
       "    </tr>\n",
       "    <tr>\n",
       "      <th>9615</th>\n",
       "      <td>51</td>\n",
       "      <td>Mr Poopybutthole</td>\n",
       "      <td>( , wish)</td>\n",
       "    </tr>\n",
       "    <tr>\n",
       "      <th>9616</th>\n",
       "      <td>51</td>\n",
       "      <td>Mr Poopybutthole</td>\n",
       "      <td>( , wish, brave, enough, love, back, know, may...</td>\n",
       "    </tr>\n",
       "    <tr>\n",
       "      <th>9617</th>\n",
       "      <td>51</td>\n",
       "      <td>Mr Poopybutthole</td>\n",
       "      <td>( , much, time, think, ooo, eee)</td>\n",
       "    </tr>\n",
       "  </tbody>\n",
       "</table>\n",
       "<p>9618 rows × 3 columns</p>\n",
       "</div>"
      ],
      "text/plain": [
       "      episode no.           speaker  \\\n",
       "0               1              Rick   \n",
       "1               1             Morty   \n",
       "2               1              Rick   \n",
       "3               1             Morty   \n",
       "4               1              Rick   \n",
       "...           ...               ...   \n",
       "9613           51  Mr Poopybutthole   \n",
       "9614           51  Mr Poopybutthole   \n",
       "9615           51  Mr Poopybutthole   \n",
       "9616           51  Mr Poopybutthole   \n",
       "9617           51  Mr Poopybutthole   \n",
       "\n",
       "                                               dialouge  \n",
       "0     (stumbl, drunkenli, turn, light, morty, got, t...  \n",
       "1                                  (rub, eye, rick, go)  \n",
       "2                              ( , got, surpris, morty)  \n",
       "3                               ( , middl, night, talk)  \n",
       "4     (spill, alcohol, morti, bed, come, got, surpri...  \n",
       "...                                                 ...  \n",
       "9613         ( , cuz, want, love, thought, felt, becom)  \n",
       "9614  ( , ever, think, horrifi, peopl, love, would, ...  \n",
       "9615                                          ( , wish)  \n",
       "9616  ( , wish, brave, enough, love, back, know, may...  \n",
       "9617                   ( , much, time, think, ooo, eee)  \n",
       "\n",
       "[9618 rows x 3 columns]"
      ]
     },
     "execution_count": 22,
     "metadata": {},
     "output_type": "execute_result"
    }
   ],
   "source": [
    "df[\"dialouge\"] = list(nlp.pipe(df[\"dialouge\"]))\n",
    "df"
   ]
  },
  {
   "cell_type": "code",
   "execution_count": 23,
   "id": "61f181fe-e7ab-4aef-8285-b9c16815aa4f",
   "metadata": {
    "scrolled": true
   },
   "outputs": [],
   "source": [
    "df[\"dialouge\"] = [ \" \".join([t.text for t in row]) for row in df[\"dialouge\"]] # Comverting DOc in Text\n"
   ]
  },
  {
   "cell_type": "code",
   "execution_count": 24,
   "id": "3d8576d6-86f4-4682-b740-6220f741f8db",
   "metadata": {},
   "outputs": [
    {
     "data": {
      "text/plain": [
       "0                                           stumbl drunkenli turn light morty got tocom ju got come\n",
       "1                                                                                   rub eye rick go\n",
       "2                                                                                 got surpris morty\n",
       "3                                                                                  middl night talk\n",
       "4    spill alcohol morti bed come got surpris dragsmorti ankl come hurri pull morty bed intoth hall\n",
       "5                                                                                    ow ow tug hard\n",
       "6                                                             got go got get come got surpris morty\n",
       "7                           rick drive night sky think thisfli vehicl morty built stuff found garag\n",
       "8                                                                       yeah rick iit great surpris\n",
       "9                                                                 morty make bomb mortyi creat bomb\n",
       "Name: dialouge, dtype: object"
      ]
     },
     "metadata": {},
     "output_type": "display_data"
    }
   ],
   "source": [
    "pd.options.display.max_colwidth = 250\n",
    "display(df[\"dialouge\"].head(10))"
   ]
  },
  {
   "cell_type": "markdown",
   "id": "8c2cf24f-34e5-459d-9852-60d49f58fdd0",
   "metadata": {},
   "source": [
    "# Save to CSV"
   ]
  },
  {
   "cell_type": "code",
   "execution_count": 25,
   "id": "6e485629-29c9-4f41-a07c-83020136e90a",
   "metadata": {},
   "outputs": [],
   "source": [
    "df.to_csv(PATH_TO_CLEAN_DATA)"
   ]
  },
  {
   "cell_type": "code",
   "execution_count": 26,
   "id": "a8a97831-a290-42ef-90ee-a5477c0e062e",
   "metadata": {},
   "outputs": [
    {
     "data": {
      "text/plain": [
       "episode no.                            12\n",
       "speaker                             Morty\n",
       "dialouge         cabbag patch dododo danc\n",
       "Name: 3206, dtype: object"
      ]
     },
     "execution_count": 26,
     "metadata": {},
     "output_type": "execute_result"
    }
   ],
   "source": [
    "df.head(20)\n",
    "df.iloc[3206]"
   ]
  }
 ],
 "metadata": {
  "kernelspec": {
   "display_name": "Python 3 (ipykernel)",
   "language": "python",
   "name": "python3"
  },
  "language_info": {
   "codemirror_mode": {
    "name": "ipython",
    "version": 3
   },
   "file_extension": ".py",
   "mimetype": "text/x-python",
   "name": "python",
   "nbconvert_exporter": "python",
   "pygments_lexer": "ipython3",
   "version": "3.10.12"
  }
 },
 "nbformat": 4,
 "nbformat_minor": 5
}
