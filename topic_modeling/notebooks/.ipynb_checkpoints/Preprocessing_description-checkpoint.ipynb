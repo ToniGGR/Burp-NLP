{
 "cells": [
  {
   "cell_type": "code",
   "execution_count": 28,
   "id": "7b757473-6b31-48b6-a546-78dab146b438",
   "metadata": {},
   "outputs": [
    {
     "data": {
      "text/html": [
       "<div>\n",
       "<style scoped>\n",
       "    .dataframe tbody tr th:only-of-type {\n",
       "        vertical-align: middle;\n",
       "    }\n",
       "\n",
       "    .dataframe tbody tr th {\n",
       "        vertical-align: top;\n",
       "    }\n",
       "\n",
       "    .dataframe thead th {\n",
       "        text-align: right;\n",
       "    }\n",
       "</style>\n",
       "<table border=\"1\" class=\"dataframe\">\n",
       "  <thead>\n",
       "    <tr style=\"text-align: right;\">\n",
       "      <th></th>\n",
       "      <th>title</th>\n",
       "      <th>text</th>\n",
       "    </tr>\n",
       "  </thead>\n",
       "  <tbody>\n",
       "    <tr>\n",
       "      <th>0</th>\n",
       "      <td>Pilot</td>\n",
       "      <td>In the middle of the night, an obviously drunk Rick bursts into Morty's room and tells him he has a \"surprise\" to show him. While driving his newly built flying vehicle , Rick explains that he made a neutrino bomb : he has decided Earth needs a \"...</td>\n",
       "    </tr>\n",
       "    <tr>\n",
       "      <th>1</th>\n",
       "      <td>Lawnmower Dog</td>\n",
       "      <td>Jerry complains that the family dog, Snuffles, is stupid so Rick gives Jerry a device that enhances the dog's intelligence. He and Morty then go into the dreams of Morty's math teacher to persuade him to give Morty an \"A\" in class so Morty can b...</td>\n",
       "    </tr>\n",
       "    <tr>\n",
       "      <th>2</th>\n",
       "      <td>Anatomy Park (Episode)</td>\n",
       "      <td>It's Christmas, and Jerry tries to enforce the idea of a \"human holiday\" onto the rest of the family for his  parents visiting, confiscating Morty , Beth and Summer 's electronic gadgets. Rick then shows up with a homeless man in a Santa outfit h...</td>\n",
       "    </tr>\n",
       "    <tr>\n",
       "      <th>3</th>\n",
       "      <td>M. Night Shaym-Aliens!</td>\n",
       "      <td>The episode opens with Rick dissecting a large rat in the garage complaining about the sloppy workmanship. Morty stops in to comment on the beautiful day before a robotic Beth gets into a car and leaves for work. Rick is shown acting suspicious o...</td>\n",
       "    </tr>\n",
       "    <tr>\n",
       "      <th>4</th>\n",
       "      <td>Meeseeks and Destroy</td>\n",
       "      <td>Mr. Meeseeks, existing to solve Beth's problemAfter a particularly traumatic adventure, Morty tries to quit all future adventures. Rick pleads for him to continue being his sidekick, but allows him to lead his own adventure. The two strike a bet ...</td>\n",
       "    </tr>\n",
       "    <tr>\n",
       "      <th>...</th>\n",
       "      <td>...</td>\n",
       "      <td>...</td>\n",
       "    </tr>\n",
       "    <tr>\n",
       "      <th>76</th>\n",
       "      <td>Mercy Kill</td>\n",
       "      <td>On the planet Dorian 5, Supernova and Vance are slaughtering invading aliens, only to cause the deaths of the innocents and collateral damage. After killing all the aliens, Supernova and Vance are ready to return to the ship, only for the former ...</td>\n",
       "    </tr>\n",
       "    <tr>\n",
       "      <th>77</th>\n",
       "      <td>Girls Night</td>\n",
       "      <td>At a bar, Calypso, Diablo Verde, Lady Katana, and Supernova hang out on a night out. However, Supernova feels left out as the trio shows a closer connection with each other, and Calypso does not get a drink for the former. Calypso says she did no...</td>\n",
       "    </tr>\n",
       "    <tr>\n",
       "      <th>78</th>\n",
       "      <td>Kintsugi</td>\n",
       "      <td>\"On an unknown planet, a somber Alan Rails puts together a vase that was shattered with glue, paints over the cracks with gold, and sets it on the ground. Afterwards, he summons a ghost train to shatter the vase again while taking a swig of wine....</td>\n",
       "    </tr>\n",
       "    <tr>\n",
       "      <th>79</th>\n",
       "      <td>Little Trains</td>\n",
       "      <td>Doom-Nomitron arrives to destroy Earth, only for a satellite to activate and kill him. Supernova gets news about this, realizing that Rick left a set it and forget it trap in Earth's orbit. Supernova tells Alan they can use this to claim that the...</td>\n",
       "    </tr>\n",
       "    <tr>\n",
       "      <th>80</th>\n",
       "      <td>Heroes</td>\n",
       "      <td>Thanks to the Vindicators' manipulations, they are prepared to receive awards for killing Doom-Nomitron despite Rick doing it for them. Still, Alan does not feel good lying to the masses. The rest of the team tells Alan to get over it, as nobody ...</td>\n",
       "    </tr>\n",
       "  </tbody>\n",
       "</table>\n",
       "<p>81 rows × 2 columns</p>\n",
       "</div>"
      ],
      "text/plain": [
       "                     title  \\\n",
       "0                    Pilot   \n",
       "1            Lawnmower Dog   \n",
       "2   Anatomy Park (Episode)   \n",
       "3   M. Night Shaym-Aliens!   \n",
       "4     Meeseeks and Destroy   \n",
       "..                     ...   \n",
       "76              Mercy Kill   \n",
       "77             Girls Night   \n",
       "78                Kintsugi   \n",
       "79           Little Trains   \n",
       "80                  Heroes   \n",
       "\n",
       "                                                                                                                                                                                                                                                         text  \n",
       "0   In the middle of the night, an obviously drunk Rick bursts into Morty's room and tells him he has a \"surprise\" to show him. While driving his newly built flying vehicle , Rick explains that he made a neutrino bomb : he has decided Earth needs a \"...  \n",
       "1    Jerry complains that the family dog, Snuffles, is stupid so Rick gives Jerry a device that enhances the dog's intelligence. He and Morty then go into the dreams of Morty's math teacher to persuade him to give Morty an \"A\" in class so Morty can b...  \n",
       "2   It's Christmas, and Jerry tries to enforce the idea of a \"human holiday\" onto the rest of the family for his  parents visiting, confiscating Morty , Beth and Summer 's electronic gadgets. Rick then shows up with a homeless man in a Santa outfit h...  \n",
       "3   The episode opens with Rick dissecting a large rat in the garage complaining about the sloppy workmanship. Morty stops in to comment on the beautiful day before a robotic Beth gets into a car and leaves for work. Rick is shown acting suspicious o...  \n",
       "4   Mr. Meeseeks, existing to solve Beth's problemAfter a particularly traumatic adventure, Morty tries to quit all future adventures. Rick pleads for him to continue being his sidekick, but allows him to lead his own adventure. The two strike a bet ...  \n",
       "..                                                                                                                                                                                                                                                        ...  \n",
       "76  On the planet Dorian 5, Supernova and Vance are slaughtering invading aliens, only to cause the deaths of the innocents and collateral damage. After killing all the aliens, Supernova and Vance are ready to return to the ship, only for the former ...  \n",
       "77  At a bar, Calypso, Diablo Verde, Lady Katana, and Supernova hang out on a night out. However, Supernova feels left out as the trio shows a closer connection with each other, and Calypso does not get a drink for the former. Calypso says she did no...  \n",
       "78  \"On an unknown planet, a somber Alan Rails puts together a vase that was shattered with glue, paints over the cracks with gold, and sets it on the ground. Afterwards, he summons a ghost train to shatter the vase again while taking a swig of wine....  \n",
       "79  Doom-Nomitron arrives to destroy Earth, only for a satellite to activate and kill him. Supernova gets news about this, realizing that Rick left a set it and forget it trap in Earth's orbit. Supernova tells Alan they can use this to claim that the...  \n",
       "80  Thanks to the Vindicators' manipulations, they are prepared to receive awards for killing Doom-Nomitron despite Rick doing it for them. Still, Alan does not feel good lying to the masses. The rest of the team tells Alan to get over it, as nobody ...  \n",
       "\n",
       "[81 rows x 2 columns]"
      ]
     },
     "execution_count": 28,
     "metadata": {},
     "output_type": "execute_result"
    }
   ],
   "source": [
    "import pandas as pd\n",
    "\n",
    "PATH_TO_RAW_DATA = \"/home/anton/Anton/Studium/DHBW /Semester_5/Text_Analysis/repo/Burg-NLP/data/episodes_descriptions.json\"\n",
    "PATH_TO_CLEAN_DATA = \"/home/anton/Anton/Studium/DHBW /Semester_5/Text_Analysis/repo/Burg-NLP/topic_modeling/data/episodes_description.csv\"\n",
    "\n",
    "df = pd.read_json( PATH_TO_RAW_DATA , orient=\"index\")\n",
    "#df = pd.read_csv( PATH_TO_RAW_DATA)\n",
    "df\n"
   ]
  },
  {
   "cell_type": "markdown",
   "id": "da0d11b0-183c-4f3a-b108-527d95551698",
   "metadata": {},
   "source": [
    "# Remove \\n"
   ]
  },
  {
   "cell_type": "code",
   "execution_count": 4,
   "id": "34107557-bb5d-4991-8dca-d147ea0307ab",
   "metadata": {},
   "outputs": [
    {
     "data": {
      "text/html": [
       "<div>\n",
       "<style scoped>\n",
       "    .dataframe tbody tr th:only-of-type {\n",
       "        vertical-align: middle;\n",
       "    }\n",
       "\n",
       "    .dataframe tbody tr th {\n",
       "        vertical-align: top;\n",
       "    }\n",
       "\n",
       "    .dataframe thead th {\n",
       "        text-align: right;\n",
       "    }\n",
       "</style>\n",
       "<table border=\"1\" class=\"dataframe\">\n",
       "  <thead>\n",
       "    <tr style=\"text-align: right;\">\n",
       "      <th></th>\n",
       "      <th>title</th>\n",
       "      <th>text</th>\n",
       "    </tr>\n",
       "  </thead>\n",
       "  <tbody>\n",
       "    <tr>\n",
       "      <th>0</th>\n",
       "      <td>Pilot</td>\n",
       "      <td>In the middle of the night, an obviously drunk...</td>\n",
       "    </tr>\n",
       "    <tr>\n",
       "      <th>1</th>\n",
       "      <td>Lawnmower Dog</td>\n",
       "      <td>Jerry complains that the family dog, Snuffles...</td>\n",
       "    </tr>\n",
       "    <tr>\n",
       "      <th>2</th>\n",
       "      <td>Anatomy Park (Episode)</td>\n",
       "      <td>It's Christmas, and Jerry tries to enforce the...</td>\n",
       "    </tr>\n",
       "    <tr>\n",
       "      <th>3</th>\n",
       "      <td>M. Night Shaym-Aliens!</td>\n",
       "      <td>The episode opens with Rick dissecting a large...</td>\n",
       "    </tr>\n",
       "    <tr>\n",
       "      <th>4</th>\n",
       "      <td>Meeseeks and Destroy</td>\n",
       "      <td>Mr. Meeseeks, existing to solve Beth's problem...</td>\n",
       "    </tr>\n",
       "    <tr>\n",
       "      <th>...</th>\n",
       "      <td>...</td>\n",
       "      <td>...</td>\n",
       "    </tr>\n",
       "    <tr>\n",
       "      <th>76</th>\n",
       "      <td>Mercy Kill</td>\n",
       "      <td>On the planet Dorian 5, Supernova and Vance ar...</td>\n",
       "    </tr>\n",
       "    <tr>\n",
       "      <th>77</th>\n",
       "      <td>Girls Night</td>\n",
       "      <td>At a bar, Calypso, Diablo Verde, Lady Katana, ...</td>\n",
       "    </tr>\n",
       "    <tr>\n",
       "      <th>78</th>\n",
       "      <td>Kintsugi</td>\n",
       "      <td>\"On an unknown planet, a somber Alan Rails put...</td>\n",
       "    </tr>\n",
       "    <tr>\n",
       "      <th>79</th>\n",
       "      <td>Little Trains</td>\n",
       "      <td>Doom-Nomitron arrives to destroy Earth, only f...</td>\n",
       "    </tr>\n",
       "    <tr>\n",
       "      <th>80</th>\n",
       "      <td>Heroes</td>\n",
       "      <td>Thanks to the Vindicators' manipulations, they...</td>\n",
       "    </tr>\n",
       "  </tbody>\n",
       "</table>\n",
       "<p>81 rows × 2 columns</p>\n",
       "</div>"
      ],
      "text/plain": [
       "                     title                                               text\n",
       "0                    Pilot  In the middle of the night, an obviously drunk...\n",
       "1            Lawnmower Dog   Jerry complains that the family dog, Snuffles...\n",
       "2   Anatomy Park (Episode)  It's Christmas, and Jerry tries to enforce the...\n",
       "3   M. Night Shaym-Aliens!  The episode opens with Rick dissecting a large...\n",
       "4     Meeseeks and Destroy  Mr. Meeseeks, existing to solve Beth's problem...\n",
       "..                     ...                                                ...\n",
       "76              Mercy Kill  On the planet Dorian 5, Supernova and Vance ar...\n",
       "77             Girls Night  At a bar, Calypso, Diablo Verde, Lady Katana, ...\n",
       "78                Kintsugi  \"On an unknown planet, a somber Alan Rails put...\n",
       "79           Little Trains  Doom-Nomitron arrives to destroy Earth, only f...\n",
       "80                  Heroes  Thanks to the Vindicators' manipulations, they...\n",
       "\n",
       "[81 rows x 2 columns]"
      ]
     },
     "execution_count": 4,
     "metadata": {},
     "output_type": "execute_result"
    }
   ],
   "source": [
    "df[\"text\"] = pd.Series( x.replace(\"\\n\", \"\").replace(\"  \", \"\") for x in df[\"text\"])\n",
    "df[\"text\"] = df[\"text\"].str.replace(\"[^\\w\\s]\",\"\")\n",
    "df"
   ]
  },
  {
   "cell_type": "markdown",
   "id": "23100807-a412-48f1-b929-b76d65242d60",
   "metadata": {},
   "source": [
    "# Lowercase"
   ]
  },
  {
   "cell_type": "code",
   "execution_count": 5,
   "id": "b2b4e183-a016-4f50-8d3b-c1aba01cfdb0",
   "metadata": {
    "scrolled": true
   },
   "outputs": [
    {
     "data": {
      "text/html": [
       "<div>\n",
       "<style scoped>\n",
       "    .dataframe tbody tr th:only-of-type {\n",
       "        vertical-align: middle;\n",
       "    }\n",
       "\n",
       "    .dataframe tbody tr th {\n",
       "        vertical-align: top;\n",
       "    }\n",
       "\n",
       "    .dataframe thead th {\n",
       "        text-align: right;\n",
       "    }\n",
       "</style>\n",
       "<table border=\"1\" class=\"dataframe\">\n",
       "  <thead>\n",
       "    <tr style=\"text-align: right;\">\n",
       "      <th></th>\n",
       "      <th>title</th>\n",
       "      <th>text</th>\n",
       "    </tr>\n",
       "  </thead>\n",
       "  <tbody>\n",
       "    <tr>\n",
       "      <th>0</th>\n",
       "      <td>Pilot</td>\n",
       "      <td>in the middle of the night, an obviously drunk...</td>\n",
       "    </tr>\n",
       "    <tr>\n",
       "      <th>1</th>\n",
       "      <td>Lawnmower Dog</td>\n",
       "      <td>jerry complains that the family dog, snuffles...</td>\n",
       "    </tr>\n",
       "    <tr>\n",
       "      <th>2</th>\n",
       "      <td>Anatomy Park (Episode)</td>\n",
       "      <td>it's christmas, and jerry tries to enforce the...</td>\n",
       "    </tr>\n",
       "    <tr>\n",
       "      <th>3</th>\n",
       "      <td>M. Night Shaym-Aliens!</td>\n",
       "      <td>the episode opens with rick dissecting a large...</td>\n",
       "    </tr>\n",
       "    <tr>\n",
       "      <th>4</th>\n",
       "      <td>Meeseeks and Destroy</td>\n",
       "      <td>mr. meeseeks, existing to solve beth's problem...</td>\n",
       "    </tr>\n",
       "    <tr>\n",
       "      <th>...</th>\n",
       "      <td>...</td>\n",
       "      <td>...</td>\n",
       "    </tr>\n",
       "    <tr>\n",
       "      <th>76</th>\n",
       "      <td>Mercy Kill</td>\n",
       "      <td>on the planet dorian 5, supernova and vance ar...</td>\n",
       "    </tr>\n",
       "    <tr>\n",
       "      <th>77</th>\n",
       "      <td>Girls Night</td>\n",
       "      <td>at a bar, calypso, diablo verde, lady katana, ...</td>\n",
       "    </tr>\n",
       "    <tr>\n",
       "      <th>78</th>\n",
       "      <td>Kintsugi</td>\n",
       "      <td>\"on an unknown planet, a somber alan rails put...</td>\n",
       "    </tr>\n",
       "    <tr>\n",
       "      <th>79</th>\n",
       "      <td>Little Trains</td>\n",
       "      <td>doom-nomitron arrives to destroy earth, only f...</td>\n",
       "    </tr>\n",
       "    <tr>\n",
       "      <th>80</th>\n",
       "      <td>Heroes</td>\n",
       "      <td>thanks to the vindicators' manipulations, they...</td>\n",
       "    </tr>\n",
       "  </tbody>\n",
       "</table>\n",
       "<p>81 rows × 2 columns</p>\n",
       "</div>"
      ],
      "text/plain": [
       "                     title                                               text\n",
       "0                    Pilot  in the middle of the night, an obviously drunk...\n",
       "1            Lawnmower Dog   jerry complains that the family dog, snuffles...\n",
       "2   Anatomy Park (Episode)  it's christmas, and jerry tries to enforce the...\n",
       "3   M. Night Shaym-Aliens!  the episode opens with rick dissecting a large...\n",
       "4     Meeseeks and Destroy  mr. meeseeks, existing to solve beth's problem...\n",
       "..                     ...                                                ...\n",
       "76              Mercy Kill  on the planet dorian 5, supernova and vance ar...\n",
       "77             Girls Night  at a bar, calypso, diablo verde, lady katana, ...\n",
       "78                Kintsugi  \"on an unknown planet, a somber alan rails put...\n",
       "79           Little Trains  doom-nomitron arrives to destroy earth, only f...\n",
       "80                  Heroes  thanks to the vindicators' manipulations, they...\n",
       "\n",
       "[81 rows x 2 columns]"
      ]
     },
     "execution_count": 5,
     "metadata": {},
     "output_type": "execute_result"
    }
   ],
   "source": [
    "df['text'] = df[\"text\"].apply(lambda x: x.lower())\n",
    "df"
   ]
  },
  {
   "cell_type": "markdown",
   "id": "d767f27d-1143-4917-913c-475e1ee84c48",
   "metadata": {},
   "source": [
    "# Abbreviation"
   ]
  },
  {
   "cell_type": "code",
   "execution_count": 6,
   "id": "bd9a56a7-cfb2-4768-8a0f-8cec29856149",
   "metadata": {},
   "outputs": [],
   "source": [
    "df[\"text\"] = pd.Series( x.replace(\"'\", \"’\")for x in df[\"text\"])"
   ]
  },
  {
   "cell_type": "code",
   "execution_count": 7,
   "id": "4be6365a-19eb-4eed-83f3-1235235b2c90",
   "metadata": {},
   "outputs": [],
   "source": [
    "abbreviations_dict = {\n",
    "    \"don’t\": \"do not\",\n",
    "    \"isn’t\": \"is not\",\n",
    "    \"ain’t\": \"is not\",\n",
    "    \"gotta\": \"got to\",\n",
    "    \"can’t\": \"cannot\",\n",
    "    \"won’t\": \"will not\",\n",
    "    \"you’re\": \"you are\",\n",
    "    \"they’re\": \"they are\",\n",
    "    \"we’re\": \"we are\",\n",
    "    \"I’m\": \"I am\",\n",
    "    \"she’s\": \"she is\",\n",
    "    \"he’s\": \"he is\",\n",
    "    \"it’s\": \"it is\",\n",
    "    \"there’s\": \"there is\",\n",
    "    \"what’s\": \"what is\",\n",
    "    \"here’s\": \"here is\",\n",
    "    \"that’s\": \"that is\",\n",
    "    \"who’s\": \"who is\",\n",
    "    \"how’s\": \"how is\",\n",
    "    \"aren’t\": \"are not\",\n",
    "    \"wasn’t\": \"was not\",\n",
    "    \"weren’t\": \"were not\",\n",
    "    \"doesn’t\": \"does not\",\n",
    "    \"didn’t\": \"did not\",\n",
    "    \"hasn’t\": \"has not\",\n",
    "    \"haven’t\": \"have not\",\n",
    "    \"hadn’t\": \"had not\",\n",
    "    \"shouldn’t\": \"should not\",\n",
    "    \"wouldn’t\": \"would not\",\n",
    "    \"couldn’t\": \"could not\",\n",
    "    \"mustn’t\": \"must not\",\n",
    "    \"mightn’t\": \"might not\",\n",
    "    \"needn’t\": \"need not\",\n",
    "    \"let’s\": \"let us\",\n",
    "    \"y’all\": \"you all\",\n",
    "    \"gonna\": \"going to\",\n",
    "    \"wanna\": \"want to\",\n",
    "    \"lemme\": \"let me\",\n",
    "    \"gimme\": \"give me\",\n",
    "    \"kinda\": \"kind of\",\n",
    "    \"sorta\": \"sort of\",\n",
    "    \"outta\": \"out of\",\n",
    "    \"lotta\": \"lot of\",\n",
    "    \"dunno\": \"do not know\",\n",
    "    \"c’mon\": \"come on\",\n",
    "    \"o’clock\": \"of the clock\",\n",
    "    \"y’know\": \"you know\",\n",
    "    \"ma’am\": \"madam\",\n",
    "    \"could’ve\": \"could have\",\n",
    "    \"should’ve\": \"should have\",\n",
    "    \"would’ve\": \"would have\",\n",
    "    \"might’ve\": \"might have\",\n",
    "    \"must’ve\": \"must have\",\n",
    "    \"there’d\": \"there would\",\n",
    "    \"it’d\": \"it would\",\n",
    "    \"he’d\": \"he would\",\n",
    "    \"she’d\": \"she would\",\n",
    "    \"they’d\": \"they would\",\n",
    "    \"I’d\": \"I would\",\n",
    "    \"you’d\": \"you would\",\n",
    "    \"we’d\": \"we would\", \n",
    "    \"it’s\" : \"it is\"\n",
    "}\n"
   ]
  },
  {
   "cell_type": "markdown",
   "id": "bd7b5034-7492-4620-9614-8e28f1c6e2a0",
   "metadata": {},
   "source": [
    "# Characters"
   ]
  },
  {
   "cell_type": "code",
   "execution_count": 8,
   "id": "15194ca9-10de-4044-975d-7dd3d29bb70a",
   "metadata": {},
   "outputs": [],
   "source": [
    "rick_and_morty_characters = [\n",
    "    \"rick\",\n",
    "    \"morty\",\n",
    "    \"summer\",\n",
    "    \"beth\",\n",
    "    \"jerry\",\n",
    "    \"birdperson\",\n",
    "    \"mr. poopybutthole\",\n",
    "    \"squanchy\",\n",
    "    \"tammy\",\n",
    "    \"noob-noob\",\n",
    "    \"gearhead\",\n",
    "    \"meeseeks\",\n",
    "    \"jessica\",\n",
    "    \"abradolph lincoler\",\n",
    "    \"unity\",\n",
    "    \"principal gene vagina\",\n",
    "    \"cromulons\",\n",
    "    \"krombopulos michael\",\n",
    "    \"scary terry\",\n",
    "    \"pickle rick\",\n",
    "    \"president\",\n",
    "    \"snowball\",\n",
    "    \"snuffles\"\n",
    "]\n"
   ]
  },
  {
   "cell_type": "code",
   "execution_count": 9,
   "id": "bf1b49c6-9dba-4b04-9359-7c7308abb997",
   "metadata": {},
   "outputs": [
    {
     "data": {
      "text/html": [
       "<div>\n",
       "<style scoped>\n",
       "    .dataframe tbody tr th:only-of-type {\n",
       "        vertical-align: middle;\n",
       "    }\n",
       "\n",
       "    .dataframe tbody tr th {\n",
       "        vertical-align: top;\n",
       "    }\n",
       "\n",
       "    .dataframe thead th {\n",
       "        text-align: right;\n",
       "    }\n",
       "</style>\n",
       "<table border=\"1\" class=\"dataframe\">\n",
       "  <thead>\n",
       "    <tr style=\"text-align: right;\">\n",
       "      <th></th>\n",
       "      <th>title</th>\n",
       "      <th>text</th>\n",
       "    </tr>\n",
       "  </thead>\n",
       "  <tbody>\n",
       "    <tr>\n",
       "      <th>0</th>\n",
       "      <td>Pilot</td>\n",
       "      <td>in the middle of the night, an obviously drunk...</td>\n",
       "    </tr>\n",
       "    <tr>\n",
       "      <th>1</th>\n",
       "      <td>Lawnmower Dog</td>\n",
       "      <td>jerry complains that the family dog, snuffles...</td>\n",
       "    </tr>\n",
       "    <tr>\n",
       "      <th>2</th>\n",
       "      <td>Anatomy Park (Episode)</td>\n",
       "      <td>it is christmas, and jerry tries to enforce th...</td>\n",
       "    </tr>\n",
       "    <tr>\n",
       "      <th>3</th>\n",
       "      <td>M. Night Shaym-Aliens!</td>\n",
       "      <td>the episode opens with rick dissecting a large...</td>\n",
       "    </tr>\n",
       "    <tr>\n",
       "      <th>4</th>\n",
       "      <td>Meeseeks and Destroy</td>\n",
       "      <td>mr. meeseeks, existing to solve beth’s problem...</td>\n",
       "    </tr>\n",
       "    <tr>\n",
       "      <th>...</th>\n",
       "      <td>...</td>\n",
       "      <td>...</td>\n",
       "    </tr>\n",
       "    <tr>\n",
       "      <th>76</th>\n",
       "      <td>Mercy Kill</td>\n",
       "      <td>on the planet dorian 5, supernova and vance ar...</td>\n",
       "    </tr>\n",
       "    <tr>\n",
       "      <th>77</th>\n",
       "      <td>Girls Night</td>\n",
       "      <td>at a bar, calypso, diablo verde, lady katana, ...</td>\n",
       "    </tr>\n",
       "    <tr>\n",
       "      <th>78</th>\n",
       "      <td>Kintsugi</td>\n",
       "      <td>\"on an unknown planet, a somber alan rails put...</td>\n",
       "    </tr>\n",
       "    <tr>\n",
       "      <th>79</th>\n",
       "      <td>Little Trains</td>\n",
       "      <td>doom-nomitron arrives to destroy earth, only f...</td>\n",
       "    </tr>\n",
       "    <tr>\n",
       "      <th>80</th>\n",
       "      <td>Heroes</td>\n",
       "      <td>thanks to the vindicators’ manipulations, they...</td>\n",
       "    </tr>\n",
       "  </tbody>\n",
       "</table>\n",
       "<p>81 rows × 2 columns</p>\n",
       "</div>"
      ],
      "text/plain": [
       "                     title                                               text\n",
       "0                    Pilot  in the middle of the night, an obviously drunk...\n",
       "1            Lawnmower Dog   jerry complains that the family dog, snuffles...\n",
       "2   Anatomy Park (Episode)  it is christmas, and jerry tries to enforce th...\n",
       "3   M. Night Shaym-Aliens!  the episode opens with rick dissecting a large...\n",
       "4     Meeseeks and Destroy  mr. meeseeks, existing to solve beth’s problem...\n",
       "..                     ...                                                ...\n",
       "76              Mercy Kill  on the planet dorian 5, supernova and vance ar...\n",
       "77             Girls Night  at a bar, calypso, diablo verde, lady katana, ...\n",
       "78                Kintsugi  \"on an unknown planet, a somber alan rails put...\n",
       "79           Little Trains  doom-nomitron arrives to destroy earth, only f...\n",
       "80                  Heroes  thanks to the vindicators’ manipulations, they...\n",
       "\n",
       "[81 rows x 2 columns]"
      ]
     },
     "execution_count": 9,
     "metadata": {},
     "output_type": "execute_result"
    }
   ],
   "source": [
    "corrected_row = []\n",
    "for row in df[\"text\"]:\n",
    "    for entry in list(abbreviations_dict.keys()):\n",
    "        if entry in row:\n",
    "            row = row.replace(entry, abbreviations_dict[entry])\n",
    "        continue \n",
    "    corrected_row.append(row)\n",
    "\n",
    "df[\"text\"] = pd.Series(corrected_row)\n",
    "\n",
    "\n",
    "df"
   ]
  },
  {
   "cell_type": "markdown",
   "id": "072861f8-226b-4262-b2fa-44fc14959eb8",
   "metadata": {},
   "source": [
    "# Remove Stopwords"
   ]
  },
  {
   "cell_type": "code",
   "execution_count": 10,
   "id": "b23c2fc8-9f36-4f29-8ebd-59670acefa3b",
   "metadata": {},
   "outputs": [
    {
     "name": "stderr",
     "output_type": "stream",
     "text": [
      "[nltk_data] Downloading package stopwords to /home/anton/nltk_data...\n",
      "[nltk_data]   Package stopwords is already up-to-date!\n"
     ]
    },
    {
     "data": {
      "text/plain": [
       "True"
      ]
     },
     "execution_count": 10,
     "metadata": {},
     "output_type": "execute_result"
    }
   ],
   "source": [
    "import nltk\n",
    "from nltk.corpus import stopwords\n",
    "nltk.download('stopwords')"
   ]
  },
  {
   "cell_type": "markdown",
   "id": "8a3fbabd-10fb-4584-8440-c7d1085e27a2",
   "metadata": {},
   "source": [
    "## Spacy Pipeline ##"
   ]
  },
  {
   "cell_type": "code",
   "execution_count": 11,
   "id": "c270d1f3-9685-4410-9ca5-d995c3f1d2e0",
   "metadata": {},
   "outputs": [],
   "source": [
    "import spacy\n",
    "from spacy.language import Language\n",
    "from spacy.tokens import Doc\n",
    "import gensim\n",
    "import gensim.corpora as corpora\n",
    "from gensim.utils import simple_preprocess\n",
    "from nltk.stem import PorterStemmer"
   ]
  },
  {
   "cell_type": "code",
   "execution_count": 12,
   "id": "dc79427e-99a2-42d7-8182-20afa8a3301e",
   "metadata": {},
   "outputs": [],
   "source": [
    "nlp = spacy.load(\"en_core_web_sm\")\n"
   ]
  },
  {
   "cell_type": "code",
   "execution_count": 13,
   "id": "3c5caacc-703b-4e13-b5fd-bac194e84b97",
   "metadata": {},
   "outputs": [
    {
     "name": "stdout",
     "output_type": "stream",
     "text": [
      "<class 'str'>\n"
     ]
    }
   ],
   "source": [
    "doc = nlp(\"Rick and Morty ham\")\n",
    "print(type(doc[0].pos_))"
   ]
  },
  {
   "cell_type": "code",
   "execution_count": 14,
   "id": "91ef3391-dd6f-42f4-80cf-57f9b5bcdfa7",
   "metadata": {},
   "outputs": [
    {
     "data": {
      "text/plain": [
       "('lemmatizer', <spacy.lang.en.lemmatizer.EnglishLemmatizer at 0x7f13f9658600>)"
      ]
     },
     "execution_count": 14,
     "metadata": {},
     "output_type": "execute_result"
    }
   ],
   "source": [
    "nlp.pipeline\n",
    "nlp.remove_pipe(\"lemmatizer\")\n",
    "# To Do Pipeline Reihenfolge anpassen"
   ]
  },
  {
   "cell_type": "code",
   "execution_count": 15,
   "id": "2a79e257-8b72-4218-bffc-b3e76efd070c",
   "metadata": {},
   "outputs": [],
   "source": [
    "@Language.component(\"abbreviation_remover\")\n",
    "def custom_abbreciation_remover(doc):\n",
    "    new_words = []\n",
    "\n",
    "    \n",
    "    return Doc(nlp.vocab , words=valid_doc , pos=valid_doc_pos)"
   ]
  },
  {
   "cell_type": "code",
   "execution_count": 16,
   "id": "0234044a-c3b6-4045-924b-8a11118597de",
   "metadata": {},
   "outputs": [],
   "source": [
    "@Language.component(\"stopword_remover\")\n",
    "def custom_remover(doc):\n",
    "    stop_words = set(stopwords.words('english'))\n",
    "    stop_symbols = [\"?\", \"...\" ,\".\" , \"!\" , \"&\" , \",\" , \"-\"]\n",
    "    valid_doc = [token.text for token in doc if token.text not in stop_words and token.text not in stop_symbols]\n",
    "    valid_doc_pos = [token.pos_ for token in doc if token.text not in stop_words and token.text not in stop_symbols]\n",
    "\n",
    "    return Doc(nlp.vocab , words=valid_doc , pos=valid_doc_pos)"
   ]
  },
  {
   "cell_type": "code",
   "execution_count": 17,
   "id": "6e642bfc-40a8-43c7-8f73-4aca6d03a23d",
   "metadata": {},
   "outputs": [
    {
     "data": {
      "text/plain": [
       "<function __main__.custom_remover(doc)>"
      ]
     },
     "execution_count": 17,
     "metadata": {},
     "output_type": "execute_result"
    }
   ],
   "source": [
    "nlp.add_pipe(\"stopword_remover\" , after=\"ner\")"
   ]
  },
  {
   "cell_type": "code",
   "execution_count": 18,
   "id": "e7ac78a1-58a3-4885-87d8-b4d7490a0641",
   "metadata": {},
   "outputs": [],
   "source": [
    "@Language.component(\"porter_stemmer\")\n",
    "def custom_stemmer(doc):\n",
    "    ps = PorterStemmer()\n",
    "\n",
    "    stemmed_words = [ps.stem(token.text) if token.pos_ != \"PROPN\" and token.text not in rick_and_morty_characters  else token.text for token in doc ]\n",
    "    stemmed_words_tags = [str(token.tag_) if token.pos_ != \"PROPN\" and token.text not in rick_and_morty_characters else token.text for token in doc ]\n",
    "    \n",
    "    return Doc(nlp.vocab , words=stemmed_words, tags=stemmed_words_tags)"
   ]
  },
  {
   "cell_type": "code",
   "execution_count": 19,
   "id": "27d00db2-a3eb-4661-be41-ec2cb23c168d",
   "metadata": {},
   "outputs": [
    {
     "data": {
      "text/plain": [
       "<function __main__.custom_stemmer(doc)>"
      ]
     },
     "execution_count": 19,
     "metadata": {},
     "output_type": "execute_result"
    }
   ],
   "source": [
    "nlp.add_pipe(\"porter_stemmer\", after=\"stopword_remover\" )"
   ]
  },
  {
   "cell_type": "code",
   "execution_count": 20,
   "id": "46fb9d16-4a12-420d-92ea-c15fc1ace126",
   "metadata": {},
   "outputs": [
    {
     "name": "stdout",
     "output_type": "stream",
     "text": [
      "['tok2vec', 'tagger', 'parser', 'attribute_ruler', 'ner', 'stopword_remover', 'porter_stemmer']\n"
     ]
    }
   ],
   "source": [
    "print(nlp.pipe_names)"
   ]
  },
  {
   "cell_type": "markdown",
   "id": "6df195b3-c5af-4d22-880d-d62c97457249",
   "metadata": {},
   "source": [
    "## Abreviations"
   ]
  },
  {
   "cell_type": "code",
   "execution_count": null,
   "id": "5ec37269-4fe9-45b0-80c1-ddaaa9ab807d",
   "metadata": {},
   "outputs": [],
   "source": []
  },
  {
   "cell_type": "code",
   "execution_count": 21,
   "id": "f4341e2c-5989-4331-a909-421a9cad50ad",
   "metadata": {},
   "outputs": [
    {
     "name": "stdout",
     "output_type": "stream",
     "text": [
      "\n"
     ]
    }
   ],
   "source": [
    "doc = nlp(\"Morty you gotta come with me\")\n",
    "print(doc[0].tag_)"
   ]
  },
  {
   "cell_type": "markdown",
   "id": "906dc985-8edf-4dfd-9df9-0bff093e763e",
   "metadata": {},
   "source": [
    "# Applying Changes in Dataframe"
   ]
  },
  {
   "cell_type": "code",
   "execution_count": 22,
   "id": "6b9016f1-d773-49f2-9bed-084f03d8d029",
   "metadata": {},
   "outputs": [
    {
     "data": {
      "text/html": [
       "<div>\n",
       "<style scoped>\n",
       "    .dataframe tbody tr th:only-of-type {\n",
       "        vertical-align: middle;\n",
       "    }\n",
       "\n",
       "    .dataframe tbody tr th {\n",
       "        vertical-align: top;\n",
       "    }\n",
       "\n",
       "    .dataframe thead th {\n",
       "        text-align: right;\n",
       "    }\n",
       "</style>\n",
       "<table border=\"1\" class=\"dataframe\">\n",
       "  <thead>\n",
       "    <tr style=\"text-align: right;\">\n",
       "      <th></th>\n",
       "      <th>title</th>\n",
       "      <th>text</th>\n",
       "    </tr>\n",
       "  </thead>\n",
       "  <tbody>\n",
       "    <tr>\n",
       "      <th>0</th>\n",
       "      <td>Pilot</td>\n",
       "      <td>(middl, night, obvious, drunk, rick, burst, mo...</td>\n",
       "    </tr>\n",
       "    <tr>\n",
       "      <th>1</th>\n",
       "      <td>Lawnmower Dog</td>\n",
       "      <td>( , jerry, complain, famili, dog, snuffles, st...</td>\n",
       "    </tr>\n",
       "    <tr>\n",
       "      <th>2</th>\n",
       "      <td>Anatomy Park (Episode)</td>\n",
       "      <td>(christmas, jerry, tri, enforc, idea, \", human...</td>\n",
       "    </tr>\n",
       "    <tr>\n",
       "      <th>3</th>\n",
       "      <td>M. Night Shaym-Aliens!</td>\n",
       "      <td>(episod, open, rick, dissect, larg, rat, garag...</td>\n",
       "    </tr>\n",
       "    <tr>\n",
       "      <th>4</th>\n",
       "      <td>Meeseeks and Destroy</td>\n",
       "      <td>(mr, meeseeks, exist, solv, beth, ’s, problema...</td>\n",
       "    </tr>\n",
       "    <tr>\n",
       "      <th>...</th>\n",
       "      <td>...</td>\n",
       "      <td>...</td>\n",
       "    </tr>\n",
       "    <tr>\n",
       "      <th>76</th>\n",
       "      <td>Mercy Kill</td>\n",
       "      <td>(planet, dorian, 5, supernova, vanc, slaughter...</td>\n",
       "    </tr>\n",
       "    <tr>\n",
       "      <th>77</th>\n",
       "      <td>Girls Night</td>\n",
       "      <td>(bar, calypso, diablo, verd, ladi, katana, sup...</td>\n",
       "    </tr>\n",
       "    <tr>\n",
       "      <th>78</th>\n",
       "      <td>Kintsugi</td>\n",
       "      <td>(\", unknown, planet, somber, alan, rail, put, ...</td>\n",
       "    </tr>\n",
       "    <tr>\n",
       "      <th>79</th>\n",
       "      <td>Little Trains</td>\n",
       "      <td>(doom, nomitron, arriv, destroy, earth, satell...</td>\n",
       "    </tr>\n",
       "    <tr>\n",
       "      <th>80</th>\n",
       "      <td>Heroes</td>\n",
       "      <td>(thank, vindic, ’, manipul, prepar, receiv, aw...</td>\n",
       "    </tr>\n",
       "  </tbody>\n",
       "</table>\n",
       "<p>81 rows × 2 columns</p>\n",
       "</div>"
      ],
      "text/plain": [
       "                     title                                               text\n",
       "0                    Pilot  (middl, night, obvious, drunk, rick, burst, mo...\n",
       "1            Lawnmower Dog  ( , jerry, complain, famili, dog, snuffles, st...\n",
       "2   Anatomy Park (Episode)  (christmas, jerry, tri, enforc, idea, \", human...\n",
       "3   M. Night Shaym-Aliens!  (episod, open, rick, dissect, larg, rat, garag...\n",
       "4     Meeseeks and Destroy  (mr, meeseeks, exist, solv, beth, ’s, problema...\n",
       "..                     ...                                                ...\n",
       "76              Mercy Kill  (planet, dorian, 5, supernova, vanc, slaughter...\n",
       "77             Girls Night  (bar, calypso, diablo, verd, ladi, katana, sup...\n",
       "78                Kintsugi  (\", unknown, planet, somber, alan, rail, put, ...\n",
       "79           Little Trains  (doom, nomitron, arriv, destroy, earth, satell...\n",
       "80                  Heroes  (thank, vindic, ’, manipul, prepar, receiv, aw...\n",
       "\n",
       "[81 rows x 2 columns]"
      ]
     },
     "execution_count": 22,
     "metadata": {},
     "output_type": "execute_result"
    }
   ],
   "source": [
    "df[\"text\"] = list(nlp.pipe(df[\"text\"]))\n",
    "df"
   ]
  },
  {
   "cell_type": "code",
   "execution_count": 23,
   "id": "61f181fe-e7ab-4aef-8285-b9c16815aa4f",
   "metadata": {
    "scrolled": true
   },
   "outputs": [],
   "source": [
    "df[\"text\"] = [ \" \".join([t.text for t in row]) for row in df[\"text\"]] # Comverting DOc in Text\n"
   ]
  },
  {
   "cell_type": "code",
   "execution_count": 25,
   "id": "3d8576d6-86f4-4682-b740-6220f741f8db",
   "metadata": {},
   "outputs": [
    {
     "data": {
      "text/plain": [
       "0    middl night obvious drunk rick burst morty ’s room tell \" surpris \" show drive newli built fli vehicl rick explain made neutrino bomb : decid earth need \" fresh start \" end want destroy human plan start morty jessica new \" adam eve \" morty tri \" ...\n",
       "1      jerry complain famili dog snuffles stupid rick give jerry devic enhanc dog ’s intellig morty go dream morty ’s math teacher persuad give morty \" \" class morty assign less homework go morty ’s math teacher ’s dream dream strong black femal tv ch...\n",
       "2    christmas jerry tri enforc idea \" human holiday \" onto rest famili hispar visit confisc morty beth summer ’s electron gadget rick show homeless man santa outfit briefli introduc ruben head garage.a holiday progress jerry realiz tradit idea famili...\n",
       "3    episod open rick dissect larg rat garag complain sloppi workmanship morty stop comment beauti day robot beth get car leav work rick shown act suspici day ’s event well morty morty leav school call front \" math class \" mr goldenfold ask teach clas...\n",
       "4    mr meeseeks exist solv beth ’s problemaft particularli traumat adventur morty tri quit futur adventur rick plead continu sidekick allow lead adventur two strike bet :   trip success morty get lead everi tenth adventur trip failur morty longer com...\n",
       "5      morty interest jessica lack opportun ever talk either shi attempt shut brad whenev tri annual flu season danc come morty talk jerry issu jerry compar morty ’s fond jessica fond beth teenag rick overhears jerry ’s stori remind said fond result j...\n",
       "6    rick haggl owner intergalact pawn shop morty spot sex robot back shop ask say \" look cool \" claim need souvenir adventur rick case grandfath ever pass away dismiss rick concedes.back earth rest morty ’s famili perturb newli sexual activ lifestyl ...\n",
       "7    smith famili gather around televis invest ’ bachelor ’ style realiti show rick express disgust qualiti televis jerry challeng provid anyth better rick destroy exist cabl box instal : cabl box capabl receiv televis across infinit dimens show featu...\n",
       "8    smith famili eat breakfast rick creat small robot pure pass butter tabl morty come kitchen ask rick help scienc project jerry jump opportun work project morty due low self confid intellig morty decid agre summer ask ride job default rick sinc jer...\n",
       "9    27 rick altern dimens end murder respect morti   kidnap tran dimension council rick order arrest rick c-137 ( show origin rick ) accus crime due refus particip affair angri frame rick escap council morty go real culprit set find anoth rick suppos...\n",
       "Name: text, dtype: object"
      ]
     },
     "metadata": {},
     "output_type": "display_data"
    }
   ],
   "source": [
    "pd.options.display.max_colwidth = 250\n",
    "display(df[\"text\"].head(10))"
   ]
  },
  {
   "cell_type": "markdown",
   "id": "8c2cf24f-34e5-459d-9852-60d49f58fdd0",
   "metadata": {},
   "source": [
    "# Save to CSV"
   ]
  },
  {
   "cell_type": "code",
   "execution_count": 29,
   "id": "6e485629-29c9-4f41-a07c-83020136e90a",
   "metadata": {},
   "outputs": [],
   "source": [
    "df.to_csv(PATH_TO_CLEAN_DATA)"
   ]
  },
  {
   "cell_type": "code",
   "execution_count": 24,
   "id": "a8a97831-a290-42ef-90ee-a5477c0e062e",
   "metadata": {},
   "outputs": [
    {
     "data": {
      "text/html": [
       "<div>\n",
       "<style scoped>\n",
       "    .dataframe tbody tr th:only-of-type {\n",
       "        vertical-align: middle;\n",
       "    }\n",
       "\n",
       "    .dataframe tbody tr th {\n",
       "        vertical-align: top;\n",
       "    }\n",
       "\n",
       "    .dataframe thead th {\n",
       "        text-align: right;\n",
       "    }\n",
       "</style>\n",
       "<table border=\"1\" class=\"dataframe\">\n",
       "  <thead>\n",
       "    <tr style=\"text-align: right;\">\n",
       "      <th></th>\n",
       "      <th>episode no.</th>\n",
       "      <th>speaker</th>\n",
       "      <th>dialouge</th>\n",
       "    </tr>\n",
       "  </thead>\n",
       "  <tbody>\n",
       "    <tr>\n",
       "      <th>0</th>\n",
       "      <td>1</td>\n",
       "      <td>Rick</td>\n",
       "      <td>stumbl drunkenli turn light morty got tocom jus ’ got come</td>\n",
       "    </tr>\n",
       "    <tr>\n",
       "      <th>1</th>\n",
       "      <td>1</td>\n",
       "      <td>Morty</td>\n",
       "      <td>rub eye rick go</td>\n",
       "    </tr>\n",
       "    <tr>\n",
       "      <th>2</th>\n",
       "      <td>1</td>\n",
       "      <td>Rick</td>\n",
       "      <td>got surpris morty</td>\n",
       "    </tr>\n",
       "    <tr>\n",
       "      <th>3</th>\n",
       "      <td>1</td>\n",
       "      <td>Morty</td>\n",
       "      <td>middl night talk</td>\n",
       "    </tr>\n",
       "    <tr>\n",
       "      <th>4</th>\n",
       "      <td>1</td>\n",
       "      <td>Rick</td>\n",
       "      <td>spill alcohol morty ’s bed come got surpris dragsmorti ankl come hurri pull morty bed intoth hall</td>\n",
       "    </tr>\n",
       "    <tr>\n",
       "      <th>5</th>\n",
       "      <td>1</td>\n",
       "      <td>Morty</td>\n",
       "      <td>ow ow tug hard</td>\n",
       "    </tr>\n",
       "    <tr>\n",
       "      <th>6</th>\n",
       "      <td>1</td>\n",
       "      <td>Rick</td>\n",
       "      <td>got go got get come got surpris morty</td>\n",
       "    </tr>\n",
       "    <tr>\n",
       "      <th>7</th>\n",
       "      <td>1</td>\n",
       "      <td>Rick</td>\n",
       "      <td>rick drive night sky think fli vehicl morty built stuff found garag</td>\n",
       "    </tr>\n",
       "    <tr>\n",
       "      <th>8</th>\n",
       "      <td>1</td>\n",
       "      <td>Morty</td>\n",
       "      <td>yeah rick great surpris</td>\n",
       "    </tr>\n",
       "    <tr>\n",
       "      <th>9</th>\n",
       "      <td>1</td>\n",
       "      <td>Rick</td>\n",
       "      <td>morty — — make bomb morty.i creat bomb</td>\n",
       "    </tr>\n",
       "    <tr>\n",
       "      <th>10</th>\n",
       "      <td>1</td>\n",
       "      <td>Morty</td>\n",
       "      <td>bomb</td>\n",
       "    </tr>\n",
       "    <tr>\n",
       "      <th>11</th>\n",
       "      <td>1</td>\n",
       "      <td>Rick</td>\n",
       "      <td>go drop get whole fresh start morty creat awhol fresh start</td>\n",
       "    </tr>\n",
       "    <tr>\n",
       "      <th>12</th>\n",
       "      <td>1</td>\n",
       "      <td>Morty</td>\n",
       "      <td>absolut crazi</td>\n",
       "    </tr>\n",
       "    <tr>\n",
       "      <th>13</th>\n",
       "      <td>1</td>\n",
       "      <td>Rick</td>\n",
       "      <td>come morty take easi morty go good right arego go pick littl friend jessica</td>\n",
       "    </tr>\n",
       "    <tr>\n",
       "      <th>14</th>\n",
       "      <td>1</td>\n",
       "      <td>Morty</td>\n",
       "      <td>jessica math class</td>\n",
       "    </tr>\n",
       "    <tr>\n",
       "      <th>15</th>\n",
       "      <td>1</td>\n",
       "      <td>Rick</td>\n",
       "      <td>put arm around morty ’s shoulder drop bomb youknow want somebodi know want thing i’mgo make like new adam eve go adam</td>\n",
       "    </tr>\n",
       "    <tr>\n",
       "      <th>16</th>\n",
       "      <td>1</td>\n",
       "      <td>Morty</td>\n",
       "      <td>ohh</td>\n",
       "    </tr>\n",
       "    <tr>\n",
       "      <th>17</th>\n",
       "      <td>1</td>\n",
       "      <td>Rick</td>\n",
       "      <td>jessica ’s go eve</td>\n",
       "    </tr>\n",
       "    <tr>\n",
       "      <th>18</th>\n",
       "      <td>1</td>\n",
       "      <td>Morty</td>\n",
       "      <td>whhhh wha</td>\n",
       "    </tr>\n",
       "    <tr>\n",
       "      <th>19</th>\n",
       "      <td>1</td>\n",
       "      <td>Rick</td>\n",
       "      <td>surpris morty</td>\n",
       "    </tr>\n",
       "  </tbody>\n",
       "</table>\n",
       "</div>"
      ],
      "text/plain": [
       "    episode no. speaker  \\\n",
       "0             1    Rick   \n",
       "1             1   Morty   \n",
       "2             1    Rick   \n",
       "3             1   Morty   \n",
       "4             1    Rick   \n",
       "5             1   Morty   \n",
       "6             1    Rick   \n",
       "7             1    Rick   \n",
       "8             1   Morty   \n",
       "9             1    Rick   \n",
       "10            1   Morty   \n",
       "11            1    Rick   \n",
       "12            1   Morty   \n",
       "13            1    Rick   \n",
       "14            1   Morty   \n",
       "15            1    Rick   \n",
       "16            1   Morty   \n",
       "17            1    Rick   \n",
       "18            1   Morty   \n",
       "19            1    Rick   \n",
       "\n",
       "                                                                                                                 dialouge  \n",
       "0                                                              stumbl drunkenli turn light morty got tocom jus ’ got come  \n",
       "1                                                                                                         rub eye rick go  \n",
       "2                                                                                                       got surpris morty  \n",
       "3                                                                                                        middl night talk  \n",
       "4                       spill alcohol morty ’s bed come got surpris dragsmorti ankl come hurri pull morty bed intoth hall  \n",
       "5                                                                                                          ow ow tug hard  \n",
       "6                                                                                   got go got get come got surpris morty  \n",
       "7                                                     rick drive night sky think fli vehicl morty built stuff found garag  \n",
       "8                                                                                                 yeah rick great surpris  \n",
       "9                                                                                  morty — — make bomb morty.i creat bomb  \n",
       "10                                                                                                                   bomb  \n",
       "11                                                            go drop get whole fresh start morty creat awhol fresh start  \n",
       "12                                                                                                          absolut crazi  \n",
       "13                                            come morty take easi morty go good right arego go pick littl friend jessica  \n",
       "14                                                                                                     jessica math class  \n",
       "15  put arm around morty ’s shoulder drop bomb youknow want somebodi know want thing i’mgo make like new adam eve go adam  \n",
       "16                                                                                                                    ohh  \n",
       "17                                                                                                      jessica ’s go eve  \n",
       "18                                                                                                              whhhh wha  \n",
       "19                                                                                                          surpris morty  "
      ]
     },
     "execution_count": 24,
     "metadata": {},
     "output_type": "execute_result"
    }
   ],
   "source": [
    "df.head(20)"
   ]
  }
 ],
 "metadata": {
  "kernelspec": {
   "display_name": "Python 3 (ipykernel)",
   "language": "python",
   "name": "python3"
  },
  "language_info": {
   "codemirror_mode": {
    "name": "ipython",
    "version": 3
   },
   "file_extension": ".py",
   "mimetype": "text/x-python",
   "name": "python",
   "nbconvert_exporter": "python",
   "pygments_lexer": "ipython3",
   "version": "3.10.12"
  }
 },
 "nbformat": 4,
 "nbformat_minor": 5
}
