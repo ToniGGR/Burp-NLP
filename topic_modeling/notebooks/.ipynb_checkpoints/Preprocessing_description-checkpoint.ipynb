{
 "cells": [
  {
   "cell_type": "markdown",
   "id": "6cc9567d-03ed-4468-b6e0-be548a81f18a",
   "metadata": {},
   "source": [
    "# Preprocessing "
   ]
  },
  {
   "cell_type": "markdown",
   "id": "f8677bea-7e78-411e-b630-66bdec758816",
   "metadata": {},
   "source": [
    "Here the Web scraped Data of all episode-descriptions will be preprocessed"
   ]
  },
  {
   "cell_type": "markdown",
   "id": "954e1a4e-7fb0-4034-867f-213b57539cdb",
   "metadata": {},
   "source": [
    "## Import modules"
   ]
  },
  {
   "cell_type": "code",
   "execution_count": null,
   "id": "73ee9ec9-1be3-40b2-8784-61c38d348772",
   "metadata": {},
   "outputs": [],
   "source": [
    "import pandas as pd"
   ]
  },
  {
   "cell_type": "markdown",
   "id": "48ccb604-69db-4aeb-a793-77b5c2c65db8",
   "metadata": {},
   "source": [
    "## Get RAW Data"
   ]
  },
  {
   "cell_type": "code",
   "execution_count": 1,
   "id": "7b757473-6b31-48b6-a546-78dab146b438",
   "metadata": {},
   "outputs": [
    {
     "data": {
      "text/html": [
       "<div>\n",
       "<style scoped>\n",
       "    .dataframe tbody tr th:only-of-type {\n",
       "        vertical-align: middle;\n",
       "    }\n",
       "\n",
       "    .dataframe tbody tr th {\n",
       "        vertical-align: top;\n",
       "    }\n",
       "\n",
       "    .dataframe thead th {\n",
       "        text-align: right;\n",
       "    }\n",
       "</style>\n",
       "<table border=\"1\" class=\"dataframe\">\n",
       "  <thead>\n",
       "    <tr style=\"text-align: right;\">\n",
       "      <th></th>\n",
       "      <th>title</th>\n",
       "      <th>text</th>\n",
       "    </tr>\n",
       "  </thead>\n",
       "  <tbody>\n",
       "    <tr>\n",
       "      <th>0</th>\n",
       "      <td>Pilot</td>\n",
       "      <td>In the middle of the night, an obviously drunk...</td>\n",
       "    </tr>\n",
       "    <tr>\n",
       "      <th>1</th>\n",
       "      <td>Lawnmower Dog</td>\n",
       "      <td>Jerry complains that the family dog, Snuffles...</td>\n",
       "    </tr>\n",
       "    <tr>\n",
       "      <th>2</th>\n",
       "      <td>Anatomy Park (Episode)</td>\n",
       "      <td>It's Christmas, and Jerry tries to enforce the...</td>\n",
       "    </tr>\n",
       "    <tr>\n",
       "      <th>3</th>\n",
       "      <td>M. Night Shaym-Aliens!</td>\n",
       "      <td>The episode opens with Rick dissecting a large...</td>\n",
       "    </tr>\n",
       "    <tr>\n",
       "      <th>4</th>\n",
       "      <td>Meeseeks and Destroy</td>\n",
       "      <td>Mr. Meeseeks, existing to solve Beth's problem...</td>\n",
       "    </tr>\n",
       "    <tr>\n",
       "      <th>...</th>\n",
       "      <td>...</td>\n",
       "      <td>...</td>\n",
       "    </tr>\n",
       "    <tr>\n",
       "      <th>76</th>\n",
       "      <td>Mercy Kill</td>\n",
       "      <td>On the planet Dorian 5, Supernova and Vance ar...</td>\n",
       "    </tr>\n",
       "    <tr>\n",
       "      <th>77</th>\n",
       "      <td>Girls Night</td>\n",
       "      <td>At a bar, Calypso, Diablo Verde, Lady Katana, ...</td>\n",
       "    </tr>\n",
       "    <tr>\n",
       "      <th>78</th>\n",
       "      <td>Kintsugi</td>\n",
       "      <td>\"On an unknown planet, a somber Alan Rails put...</td>\n",
       "    </tr>\n",
       "    <tr>\n",
       "      <th>79</th>\n",
       "      <td>Little Trains</td>\n",
       "      <td>Doom-Nomitron arrives to destroy Earth, only f...</td>\n",
       "    </tr>\n",
       "    <tr>\n",
       "      <th>80</th>\n",
       "      <td>Heroes</td>\n",
       "      <td>Thanks to the Vindicators' manipulations, they...</td>\n",
       "    </tr>\n",
       "  </tbody>\n",
       "</table>\n",
       "<p>81 rows × 2 columns</p>\n",
       "</div>"
      ],
      "text/plain": [
       "                     title                                               text\n",
       "0                    Pilot  In the middle of the night, an obviously drunk...\n",
       "1            Lawnmower Dog   Jerry complains that the family dog, Snuffles...\n",
       "2   Anatomy Park (Episode)  It's Christmas, and Jerry tries to enforce the...\n",
       "3   M. Night Shaym-Aliens!  The episode opens with Rick dissecting a large...\n",
       "4     Meeseeks and Destroy  Mr. Meeseeks, existing to solve Beth's problem...\n",
       "..                     ...                                                ...\n",
       "76              Mercy Kill  On the planet Dorian 5, Supernova and Vance ar...\n",
       "77             Girls Night  At a bar, Calypso, Diablo Verde, Lady Katana, ...\n",
       "78                Kintsugi  \"On an unknown planet, a somber Alan Rails put...\n",
       "79           Little Trains  Doom-Nomitron arrives to destroy Earth, only f...\n",
       "80                  Heroes  Thanks to the Vindicators' manipulations, they...\n",
       "\n",
       "[81 rows x 2 columns]"
      ]
     },
     "execution_count": 1,
     "metadata": {},
     "output_type": "execute_result"
    }
   ],
   "source": [
    "PATH_TO_RAW_DATA = \"/home/anton/Anton/Studium/DHBW /Semester_5/Text_Analysis/repo/Burg-NLP/data/episodes_descriptions.json\"\n",
    "PATH_TO_CLEAN_DATA = \"/home/anton/Anton/Studium/DHBW /Semester_5/Text_Analysis/repo/Burg-NLP/topic_modeling/data/episodes_description.csv\"\n",
    "\n",
    "df = pd.read_json( PATH_TO_RAW_DATA , orient=\"index\")\n",
    "df\n"
   ]
  },
  {
   "cell_type": "markdown",
   "id": "da0d11b0-183c-4f3a-b108-527d95551698",
   "metadata": {},
   "source": [
    "## Remove \\n"
   ]
  },
  {
   "cell_type": "code",
   "execution_count": 1,
   "id": "34107557-bb5d-4991-8dca-d147ea0307ab",
   "metadata": {},
   "outputs": [
    {
     "ename": "NameError",
     "evalue": "name 'pd' is not defined",
     "output_type": "error",
     "traceback": [
      "\u001b[0;31m---------------------------------------------------------------------------\u001b[0m",
      "\u001b[0;31mNameError\u001b[0m                                 Traceback (most recent call last)",
      "Cell \u001b[0;32mIn[1], line 1\u001b[0m\n\u001b[0;32m----> 1\u001b[0m df[\u001b[38;5;124m\"\u001b[39m\u001b[38;5;124mtext\u001b[39m\u001b[38;5;124m\"\u001b[39m] \u001b[38;5;241m=\u001b[39m \u001b[43mpd\u001b[49m\u001b[38;5;241m.\u001b[39mSeries( x\u001b[38;5;241m.\u001b[39mreplace(\u001b[38;5;124m\"\u001b[39m\u001b[38;5;130;01m\\n\u001b[39;00m\u001b[38;5;124m\"\u001b[39m, \u001b[38;5;124m\"\u001b[39m\u001b[38;5;124m\"\u001b[39m)\u001b[38;5;241m.\u001b[39mreplace(\u001b[38;5;124m\"\u001b[39m\u001b[38;5;124m  \u001b[39m\u001b[38;5;124m\"\u001b[39m, \u001b[38;5;124m\"\u001b[39m\u001b[38;5;124m\"\u001b[39m) \u001b[38;5;28;01mfor\u001b[39;00m x \u001b[38;5;129;01min\u001b[39;00m df[\u001b[38;5;124m\"\u001b[39m\u001b[38;5;124mtext\u001b[39m\u001b[38;5;124m\"\u001b[39m])\n\u001b[1;32m      2\u001b[0m df\n",
      "\u001b[0;31mNameError\u001b[0m: name 'pd' is not defined"
     ]
    }
   ],
   "source": [
    "df[\"text\"] = pd.Series( x.replace(\"\\n\", \"\").replace(\"  \", \"\") for x in df[\"text\"])\n",
    "df"
   ]
  },
  {
   "cell_type": "markdown",
   "id": "23100807-a412-48f1-b929-b76d65242d60",
   "metadata": {},
   "source": [
    "## Lowercase"
   ]
  },
  {
   "cell_type": "code",
   "execution_count": 3,
   "id": "b2b4e183-a016-4f50-8d3b-c1aba01cfdb0",
   "metadata": {
    "scrolled": true
   },
   "outputs": [
    {
     "data": {
      "text/html": [
       "<div>\n",
       "<style scoped>\n",
       "    .dataframe tbody tr th:only-of-type {\n",
       "        vertical-align: middle;\n",
       "    }\n",
       "\n",
       "    .dataframe tbody tr th {\n",
       "        vertical-align: top;\n",
       "    }\n",
       "\n",
       "    .dataframe thead th {\n",
       "        text-align: right;\n",
       "    }\n",
       "</style>\n",
       "<table border=\"1\" class=\"dataframe\">\n",
       "  <thead>\n",
       "    <tr style=\"text-align: right;\">\n",
       "      <th></th>\n",
       "      <th>title</th>\n",
       "      <th>text</th>\n",
       "    </tr>\n",
       "  </thead>\n",
       "  <tbody>\n",
       "    <tr>\n",
       "      <th>0</th>\n",
       "      <td>Pilot</td>\n",
       "      <td>in the middle of the night, an obviously drunk...</td>\n",
       "    </tr>\n",
       "    <tr>\n",
       "      <th>1</th>\n",
       "      <td>Lawnmower Dog</td>\n",
       "      <td>jerry complains that the family dog, snuffles...</td>\n",
       "    </tr>\n",
       "    <tr>\n",
       "      <th>2</th>\n",
       "      <td>Anatomy Park (Episode)</td>\n",
       "      <td>it's christmas, and jerry tries to enforce the...</td>\n",
       "    </tr>\n",
       "    <tr>\n",
       "      <th>3</th>\n",
       "      <td>M. Night Shaym-Aliens!</td>\n",
       "      <td>the episode opens with rick dissecting a large...</td>\n",
       "    </tr>\n",
       "    <tr>\n",
       "      <th>4</th>\n",
       "      <td>Meeseeks and Destroy</td>\n",
       "      <td>mr. meeseeks, existing to solve beth's problem...</td>\n",
       "    </tr>\n",
       "    <tr>\n",
       "      <th>...</th>\n",
       "      <td>...</td>\n",
       "      <td>...</td>\n",
       "    </tr>\n",
       "    <tr>\n",
       "      <th>76</th>\n",
       "      <td>Mercy Kill</td>\n",
       "      <td>on the planet dorian 5, supernova and vance ar...</td>\n",
       "    </tr>\n",
       "    <tr>\n",
       "      <th>77</th>\n",
       "      <td>Girls Night</td>\n",
       "      <td>at a bar, calypso, diablo verde, lady katana, ...</td>\n",
       "    </tr>\n",
       "    <tr>\n",
       "      <th>78</th>\n",
       "      <td>Kintsugi</td>\n",
       "      <td>\"on an unknown planet, a somber alan rails put...</td>\n",
       "    </tr>\n",
       "    <tr>\n",
       "      <th>79</th>\n",
       "      <td>Little Trains</td>\n",
       "      <td>doom-nomitron arrives to destroy earth, only f...</td>\n",
       "    </tr>\n",
       "    <tr>\n",
       "      <th>80</th>\n",
       "      <td>Heroes</td>\n",
       "      <td>thanks to the vindicators' manipulations, they...</td>\n",
       "    </tr>\n",
       "  </tbody>\n",
       "</table>\n",
       "<p>81 rows × 2 columns</p>\n",
       "</div>"
      ],
      "text/plain": [
       "                     title                                               text\n",
       "0                    Pilot  in the middle of the night, an obviously drunk...\n",
       "1            Lawnmower Dog   jerry complains that the family dog, snuffles...\n",
       "2   Anatomy Park (Episode)  it's christmas, and jerry tries to enforce the...\n",
       "3   M. Night Shaym-Aliens!  the episode opens with rick dissecting a large...\n",
       "4     Meeseeks and Destroy  mr. meeseeks, existing to solve beth's problem...\n",
       "..                     ...                                                ...\n",
       "76              Mercy Kill  on the planet dorian 5, supernova and vance ar...\n",
       "77             Girls Night  at a bar, calypso, diablo verde, lady katana, ...\n",
       "78                Kintsugi  \"on an unknown planet, a somber alan rails put...\n",
       "79           Little Trains  doom-nomitron arrives to destroy earth, only f...\n",
       "80                  Heroes  thanks to the vindicators' manipulations, they...\n",
       "\n",
       "[81 rows x 2 columns]"
      ]
     },
     "execution_count": 3,
     "metadata": {},
     "output_type": "execute_result"
    }
   ],
   "source": [
    "df['text'] = df[\"text\"].apply(lambda x: x.lower())\n",
    "df"
   ]
  },
  {
   "cell_type": "markdown",
   "id": "d767f27d-1143-4917-913c-475e1ee84c48",
   "metadata": {},
   "source": [
    "## Abbreviation"
   ]
  },
  {
   "cell_type": "markdown",
   "id": "9f206c7a-6d90-4c05-9b8c-da49315f262c",
   "metadata": {},
   "source": [
    "Replace all ' with normal appostrophes"
   ]
  },
  {
   "cell_type": "code",
   "execution_count": 4,
   "id": "bd9a56a7-cfb2-4768-8a0f-8cec29856149",
   "metadata": {},
   "outputs": [],
   "source": [
    "df[\"text\"] = pd.Series( x.replace(\"'\", \"’\")for x in df[\"text\"])"
   ]
  },
  {
   "cell_type": "markdown",
   "id": "b107834f-b7cc-4f86-a6c4-7ae6b789d019",
   "metadata": {},
   "source": [
    "Replacing Abbreviations to guaranty consistency"
   ]
  },
  {
   "cell_type": "code",
   "execution_count": 5,
   "id": "4be6365a-19eb-4eed-83f3-1235235b2c90",
   "metadata": {},
   "outputs": [],
   "source": [
    "abbreviations_dict = {\n",
    "    \"don’t\": \"do not\",\n",
    "    \"isn’t\": \"is not\",\n",
    "    \"ain’t\": \"is not\",\n",
    "    \"gotta\": \"got to\",\n",
    "    \"can’t\": \"cannot\",\n",
    "    \"won’t\": \"will not\",\n",
    "    \"you’re\": \"you are\",\n",
    "    \"they’re\": \"they are\",\n",
    "    \"we’re\": \"we are\",\n",
    "    \"I’m\": \"I am\",\n",
    "    \"she’s\": \"she is\",\n",
    "    \"he’s\": \"he is\",\n",
    "    \"it’s\": \"it is\",\n",
    "    \"there’s\": \"there is\",\n",
    "    \"what’s\": \"what is\",\n",
    "    \"here’s\": \"here is\",\n",
    "    \"that’s\": \"that is\",\n",
    "    \"who’s\": \"who is\",\n",
    "    \"how’s\": \"how is\",\n",
    "    \"aren’t\": \"are not\",\n",
    "    \"wasn’t\": \"was not\",\n",
    "    \"weren’t\": \"were not\",\n",
    "    \"doesn’t\": \"does not\",\n",
    "    \"didn’t\": \"did not\",\n",
    "    \"hasn’t\": \"has not\",\n",
    "    \"haven’t\": \"have not\",\n",
    "    \"hadn’t\": \"had not\",\n",
    "    \"shouldn’t\": \"should not\",\n",
    "    \"wouldn’t\": \"would not\",\n",
    "    \"couldn’t\": \"could not\",\n",
    "    \"mustn’t\": \"must not\",\n",
    "    \"mightn’t\": \"might not\",\n",
    "    \"needn’t\": \"need not\",\n",
    "    \"let’s\": \"let us\",\n",
    "    \"y’all\": \"you all\",\n",
    "    \"gonna\": \"going to\",\n",
    "    \"wanna\": \"want to\",\n",
    "    \"lemme\": \"let me\",\n",
    "    \"gimme\": \"give me\",\n",
    "    \"kinda\": \"kind of\",\n",
    "    \"sorta\": \"sort of\",\n",
    "    \"outta\": \"out of\",\n",
    "    \"lotta\": \"lot of\",\n",
    "    \"dunno\": \"do not know\",\n",
    "    \"c’mon\": \"come on\",\n",
    "    \"o’clock\": \"of the clock\",\n",
    "    \"y’know\": \"you know\",\n",
    "    \"ma’am\": \"madam\",\n",
    "    \"could’ve\": \"could have\",\n",
    "    \"should’ve\": \"should have\",\n",
    "    \"would’ve\": \"would have\",\n",
    "    \"might’ve\": \"might have\",\n",
    "    \"must’ve\": \"must have\",\n",
    "    \"there’d\": \"there would\",\n",
    "    \"it’d\": \"it would\",\n",
    "    \"he’d\": \"he would\",\n",
    "    \"she’d\": \"she would\",\n",
    "    \"they’d\": \"they would\",\n",
    "    \"I’d\": \"I would\",\n",
    "    \"you’d\": \"you would\",\n",
    "    \"we’d\": \"we would\", \n",
    "    \"it’s\" : \"it is\"\n",
    "}\n"
   ]
  },
  {
   "cell_type": "markdown",
   "id": "bd7b5034-7492-4620-9614-8e28f1c6e2a0",
   "metadata": {},
   "source": [
    "# Characters"
   ]
  },
  {
   "cell_type": "markdown",
   "id": "c4ef62a3-528f-4701-b559-2f1b2f544038",
   "metadata": {},
   "source": [
    "List of All Characters in order to dont stem them"
   ]
  },
  {
   "cell_type": "code",
   "execution_count": 6,
   "id": "15194ca9-10de-4044-975d-7dd3d29bb70a",
   "metadata": {},
   "outputs": [],
   "source": [
    "rick_and_morty_characters = [\n",
    "    \"rick\",\n",
    "    \"morty\",\n",
    "    \"summer\",\n",
    "    \"beth\",\n",
    "    \"jerry\",\n",
    "    \"birdperson\",\n",
    "    \"mr. poopybutthole\",\n",
    "    \"squanchy\",\n",
    "    \"tammy\",\n",
    "    \"noob-noob\",\n",
    "    \"gearhead\",\n",
    "    \"meeseeks\",\n",
    "    \"jessica\",\n",
    "    \"abradolph lincoler\",\n",
    "    \"unity\",\n",
    "    \"principal gene vagina\",\n",
    "    \"cromulons\",\n",
    "    \"krombopulos michael\",\n",
    "    \"scary terry\",\n",
    "    \"pickle rick\",\n",
    "    \"president\",\n",
    "    \"snowball\",\n",
    "    \"snuffles\"\n",
    "]\n"
   ]
  },
  {
   "cell_type": "markdown",
   "id": "3ed9bb13-d566-49cd-bdd1-f4edcc1e386c",
   "metadata": {},
   "source": [
    "### Replace Abbreviations"
   ]
  },
  {
   "cell_type": "code",
   "execution_count": null,
   "id": "052fc544-54fc-4876-9ff1-bc0d2390b971",
   "metadata": {},
   "outputs": [],
   "source": [
    "corrected_row = []\n",
    "for row in df[\"text\"]:\n",
    "    for entry in list(abbreviations_dict.keys()):\n",
    "        if entry in row:\n",
    "            row = row.replace(entry, abbreviations_dict[entry])\n",
    "        continue \n",
    "    corrected_row.append(row)\n",
    "\n",
    "df[\"text\"] = pd.Series(corrected_row)\n",
    "\n",
    "df"
   ]
  },
  {
   "cell_type": "markdown",
   "id": "072861f8-226b-4262-b2fa-44fc14959eb8",
   "metadata": {},
   "source": [
    "## Remove Stopwords"
   ]
  },
  {
   "cell_type": "markdown",
   "id": "1f479bd9-e8db-4182-888e-2207a92aabad",
   "metadata": {},
   "source": [
    "### Import nltk"
   ]
  },
  {
   "cell_type": "code",
   "execution_count": 2,
   "id": "dcacb550-ad70-4444-8edb-4367b247da3f",
   "metadata": {},
   "outputs": [],
   "source": [
    "import nltk\n",
    "from nltk.corpus import stopwords"
   ]
  },
  {
   "cell_type": "markdown",
   "id": "5e97fa27-744c-4edc-b4e5-942f17636284",
   "metadata": {},
   "source": [
    "### Download Stopwords"
   ]
  },
  {
   "cell_type": "code",
   "execution_count": 8,
   "id": "b23c2fc8-9f36-4f29-8ebd-59670acefa3b",
   "metadata": {},
   "outputs": [
    {
     "name": "stderr",
     "output_type": "stream",
     "text": [
      "[nltk_data] Downloading package stopwords to /home/anton/nltk_data...\n",
      "[nltk_data]   Package stopwords is already up-to-date!\n"
     ]
    },
    {
     "data": {
      "text/plain": [
       "True"
      ]
     },
     "execution_count": 8,
     "metadata": {},
     "output_type": "execute_result"
    }
   ],
   "source": [
    "nltk.download('stopwords')"
   ]
  },
  {
   "cell_type": "markdown",
   "id": "8a3fbabd-10fb-4584-8440-c7d1085e27a2",
   "metadata": {},
   "source": [
    "## Spacy Pipeline"
   ]
  },
  {
   "cell_type": "markdown",
   "id": "8aa7a75e-7768-45a2-8b0e-e72086b0936b",
   "metadata": {},
   "source": [
    "### Import Modules"
   ]
  },
  {
   "cell_type": "code",
   "execution_count": 9,
   "id": "c270d1f3-9685-4410-9ca5-d995c3f1d2e0",
   "metadata": {},
   "outputs": [],
   "source": [
    "import spacy\n",
    "from spacy.language import Language\n",
    "from spacy.tokens import Doc\n",
    "import gensim\n",
    "import gensim.corpora as corpora\n",
    "from gensim.utils import simple_preprocess\n",
    "from nltk.stem import PorterStemmer"
   ]
  },
  {
   "cell_type": "markdown",
   "id": "4127a596-a5f4-4e4a-810b-8ea9765720de",
   "metadata": {},
   "source": [
    "### Load Small Spacy Model"
   ]
  },
  {
   "cell_type": "code",
   "execution_count": null,
   "id": "73016259-d9be-424e-b9f8-10a8e6b3cf0e",
   "metadata": {},
   "outputs": [],
   "source": [
    "nlp = spacy.load(\"en_core_web_sm\")"
   ]
  },
  {
   "cell_type": "markdown",
   "id": "28590194-cf05-4807-ade3-ada04eb995f1",
   "metadata": {},
   "source": [
    "### Test Spacy"
   ]
  },
  {
   "cell_type": "code",
   "execution_count": 11,
   "id": "3c5caacc-703b-4e13-b5fd-bac194e84b97",
   "metadata": {},
   "outputs": [
    {
     "name": "stdout",
     "output_type": "stream",
     "text": [
      "<class 'str'>\n"
     ]
    }
   ],
   "source": [
    "doc = nlp(\"Rick and Morty\")\n",
    "print(type(doc[0].pos_))"
   ]
  },
  {
   "cell_type": "markdown",
   "id": "0378e3b5-2eba-494d-ab82-87e5f8bc44de",
   "metadata": {},
   "source": [
    "## Update Spacy Pipeline"
   ]
  },
  {
   "cell_type": "code",
   "execution_count": 12,
   "id": "91ef3391-dd6f-42f4-80cf-57f9b5bcdfa7",
   "metadata": {
    "scrolled": true
   },
   "outputs": [
    {
     "data": {
      "text/plain": [
       "('lemmatizer', <spacy.lang.en.lemmatizer.EnglishLemmatizer at 0x7fc51830eac0>)"
      ]
     },
     "execution_count": 12,
     "metadata": {},
     "output_type": "execute_result"
    }
   ],
   "source": [
    "nlp.pipeline\n",
    "nlp.remove_pipe(\"lemmatizer\")\n",
    "# To Do Pipeline Reihenfolge anpassen"
   ]
  },
  {
   "cell_type": "markdown",
   "id": "bb900f8e-4044-48f7-ab1f-af3acfc9b927",
   "metadata": {},
   "source": [
    "### Custom Methods Pipeline"
   ]
  },
  {
   "cell_type": "code",
   "execution_count": 14,
   "id": "0234044a-c3b6-4045-924b-8a11118597de",
   "metadata": {},
   "outputs": [],
   "source": [
    "@Language.component(\"stopword_remover\")\n",
    "def custom_remover(doc):\n",
    "    stop_words = set(stopwords.words('english'))\n",
    "    stop_symbols = [\"?\", \"...\" ,\".\" , \"!\" , \"&\" , \",\" , \"-\"]\n",
    "    valid_doc = [token.text for token in doc if token.text not in stop_words and token.text not in stop_symbols]\n",
    "    valid_doc_pos = [token.pos_ for token in doc if token.text not in stop_words and token.text not in stop_symbols]\n",
    "\n",
    "    return Doc(nlp.vocab , words=valid_doc , pos=valid_doc_pos)"
   ]
  },
  {
   "cell_type": "code",
   "execution_count": 15,
   "id": "6e642bfc-40a8-43c7-8f73-4aca6d03a23d",
   "metadata": {},
   "outputs": [
    {
     "data": {
      "text/plain": [
       "<function __main__.custom_remover(doc)>"
      ]
     },
     "execution_count": 15,
     "metadata": {},
     "output_type": "execute_result"
    }
   ],
   "source": [
    "nlp.add_pipe(\"stopword_remover\" , after=\"ner\")"
   ]
  },
  {
   "cell_type": "code",
   "execution_count": 16,
   "id": "e7ac78a1-58a3-4885-87d8-b4d7490a0641",
   "metadata": {},
   "outputs": [],
   "source": [
    "@Language.component(\"porter_stemmer\")\n",
    "def custom_stemmer(doc):\n",
    "    ps = PorterStemmer()\n",
    "\n",
    "    stemmed_words = [ps.stem(token.text) if token.pos_ != \"PROPN\" and token.text not in rick_and_morty_characters  else token.text for token in doc ]\n",
    "    stemmed_words_tags = [str(token.tag_) if token.pos_ != \"PROPN\" and token.text not in rick_and_morty_characters else token.text for token in doc ]\n",
    "    \n",
    "    return Doc(nlp.vocab , words=stemmed_words, tags=stemmed_words_tags)"
   ]
  },
  {
   "cell_type": "code",
   "execution_count": 17,
   "id": "27d00db2-a3eb-4661-be41-ec2cb23c168d",
   "metadata": {},
   "outputs": [],
   "source": [
    "#nlp.add_pipe(\"porter_stemmer\", after=\"stopword_remover\" )"
   ]
  },
  {
   "cell_type": "code",
   "execution_count": 18,
   "id": "46fb9d16-4a12-420d-92ea-c15fc1ace126",
   "metadata": {},
   "outputs": [
    {
     "name": "stdout",
     "output_type": "stream",
     "text": [
      "['tok2vec', 'tagger', 'parser', 'attribute_ruler', 'ner', 'stopword_remover']\n"
     ]
    }
   ],
   "source": [
    "print(nlp.pipe_names)"
   ]
  },
  {
   "cell_type": "markdown",
   "id": "906dc985-8edf-4dfd-9df9-0bff093e763e",
   "metadata": {},
   "source": [
    "## Applying Spacy Pipeline to Dataframe"
   ]
  },
  {
   "cell_type": "code",
   "execution_count": 20,
   "id": "6b9016f1-d773-49f2-9bed-084f03d8d029",
   "metadata": {
    "scrolled": true
   },
   "outputs": [
    {
     "data": {
      "text/html": [
       "<div>\n",
       "<style scoped>\n",
       "    .dataframe tbody tr th:only-of-type {\n",
       "        vertical-align: middle;\n",
       "    }\n",
       "\n",
       "    .dataframe tbody tr th {\n",
       "        vertical-align: top;\n",
       "    }\n",
       "\n",
       "    .dataframe thead th {\n",
       "        text-align: right;\n",
       "    }\n",
       "</style>\n",
       "<table border=\"1\" class=\"dataframe\">\n",
       "  <thead>\n",
       "    <tr style=\"text-align: right;\">\n",
       "      <th></th>\n",
       "      <th>title</th>\n",
       "      <th>text</th>\n",
       "    </tr>\n",
       "  </thead>\n",
       "  <tbody>\n",
       "    <tr>\n",
       "      <th>0</th>\n",
       "      <td>Pilot</td>\n",
       "      <td>(middle, night, obviously, drunk, rick, bursts...</td>\n",
       "    </tr>\n",
       "    <tr>\n",
       "      <th>1</th>\n",
       "      <td>Lawnmower Dog</td>\n",
       "      <td>( , jerry, complains, family, dog, snuffles, s...</td>\n",
       "    </tr>\n",
       "    <tr>\n",
       "      <th>2</th>\n",
       "      <td>Anatomy Park (Episode)</td>\n",
       "      <td>(christmas, jerry, tries, enforce, idea, \", hu...</td>\n",
       "    </tr>\n",
       "    <tr>\n",
       "      <th>3</th>\n",
       "      <td>M. Night Shaym-Aliens!</td>\n",
       "      <td>(episode, opens, rick, dissecting, large, rat,...</td>\n",
       "    </tr>\n",
       "    <tr>\n",
       "      <th>4</th>\n",
       "      <td>Meeseeks and Destroy</td>\n",
       "      <td>(mr, meeseeks, existing, solve, beth, ’s, prob...</td>\n",
       "    </tr>\n",
       "    <tr>\n",
       "      <th>...</th>\n",
       "      <td>...</td>\n",
       "      <td>...</td>\n",
       "    </tr>\n",
       "    <tr>\n",
       "      <th>76</th>\n",
       "      <td>Mercy Kill</td>\n",
       "      <td>(planet, dorian, 5, supernova, vance, slaughte...</td>\n",
       "    </tr>\n",
       "    <tr>\n",
       "      <th>77</th>\n",
       "      <td>Girls Night</td>\n",
       "      <td>(bar, calypso, diablo, verde, lady, katana, su...</td>\n",
       "    </tr>\n",
       "    <tr>\n",
       "      <th>78</th>\n",
       "      <td>Kintsugi</td>\n",
       "      <td>(\", unknown, planet, somber, alan, rails, puts...</td>\n",
       "    </tr>\n",
       "    <tr>\n",
       "      <th>79</th>\n",
       "      <td>Little Trains</td>\n",
       "      <td>(doom, nomitron, arrives, destroy, earth, sate...</td>\n",
       "    </tr>\n",
       "    <tr>\n",
       "      <th>80</th>\n",
       "      <td>Heroes</td>\n",
       "      <td>(thanks, vindicators, ’, manipulations, prepar...</td>\n",
       "    </tr>\n",
       "  </tbody>\n",
       "</table>\n",
       "<p>81 rows × 2 columns</p>\n",
       "</div>"
      ],
      "text/plain": [
       "                     title                                               text\n",
       "0                    Pilot  (middle, night, obviously, drunk, rick, bursts...\n",
       "1            Lawnmower Dog  ( , jerry, complains, family, dog, snuffles, s...\n",
       "2   Anatomy Park (Episode)  (christmas, jerry, tries, enforce, idea, \", hu...\n",
       "3   M. Night Shaym-Aliens!  (episode, opens, rick, dissecting, large, rat,...\n",
       "4     Meeseeks and Destroy  (mr, meeseeks, existing, solve, beth, ’s, prob...\n",
       "..                     ...                                                ...\n",
       "76              Mercy Kill  (planet, dorian, 5, supernova, vance, slaughte...\n",
       "77             Girls Night  (bar, calypso, diablo, verde, lady, katana, su...\n",
       "78                Kintsugi  (\", unknown, planet, somber, alan, rails, puts...\n",
       "79           Little Trains  (doom, nomitron, arrives, destroy, earth, sate...\n",
       "80                  Heroes  (thanks, vindicators, ’, manipulations, prepar...\n",
       "\n",
       "[81 rows x 2 columns]"
      ]
     },
     "execution_count": 20,
     "metadata": {},
     "output_type": "execute_result"
    }
   ],
   "source": [
    "df[\"text\"] = list(nlp.pipe(df[\"text\"]))\n",
    "df"
   ]
  },
  {
   "cell_type": "markdown",
   "id": "fdf66071-be29-4318-a652-f37fe933ae34",
   "metadata": {},
   "source": [
    "### Converting Docs to Strings again"
   ]
  },
  {
   "cell_type": "code",
   "execution_count": 1,
   "id": "61f181fe-e7ab-4aef-8285-b9c16815aa4f",
   "metadata": {
    "scrolled": true
   },
   "outputs": [
    {
     "ename": "NameError",
     "evalue": "name 'df' is not defined",
     "output_type": "error",
     "traceback": [
      "\u001b[0;31m---------------------------------------------------------------------------\u001b[0m",
      "\u001b[0;31mNameError\u001b[0m                                 Traceback (most recent call last)",
      "Cell \u001b[0;32mIn[1], line 1\u001b[0m\n\u001b[0;32m----> 1\u001b[0m df[\u001b[38;5;124m\"\u001b[39m\u001b[38;5;124mtext\u001b[39m\u001b[38;5;124m\"\u001b[39m] \u001b[38;5;241m=\u001b[39m [ \u001b[38;5;124m\"\u001b[39m\u001b[38;5;124m \u001b[39m\u001b[38;5;124m\"\u001b[39m\u001b[38;5;241m.\u001b[39mjoin([t\u001b[38;5;241m.\u001b[39mtext \u001b[38;5;28;01mfor\u001b[39;00m t \u001b[38;5;129;01min\u001b[39;00m row]) \u001b[38;5;28;01mfor\u001b[39;00m row \u001b[38;5;129;01min\u001b[39;00m \u001b[43mdf\u001b[49m[\u001b[38;5;124m\"\u001b[39m\u001b[38;5;124mtext\u001b[39m\u001b[38;5;124m\"\u001b[39m]] \u001b[38;5;66;03m# Comverting DOc in Text\u001b[39;00m\n",
      "\u001b[0;31mNameError\u001b[0m: name 'df' is not defined"
     ]
    }
   ],
   "source": [
    "df[\"text\"] = [ \" \".join([t.text for t in row]) for row in df[\"text\"]] # Comverting DOc in Text\n"
   ]
  },
  {
   "cell_type": "markdown",
   "id": "0debcbda-38b3-43bb-a4a5-1175bc2d72a8",
   "metadata": {},
   "source": [
    "### Test if if workes"
   ]
  },
  {
   "cell_type": "code",
   "execution_count": 22,
   "id": "3d8576d6-86f4-4682-b740-6220f741f8db",
   "metadata": {},
   "outputs": [
    {
     "data": {
      "text/plain": [
       "0    middle night obviously drunk rick bursts morty ’s room tells \" surprise \" show driving newly built flying vehicle rick explains made neutrino bomb : decided earth needs \" fresh start \" end wants destroy humanity planning start morty jessica new \"...\n",
       "1      jerry complains family dog snuffles stupid rick gives jerry device enhances dog ’s intelligence morty go dreams morty ’s math teacher persuade give morty \" \" class morty assigned less homework go morty ’s math teacher ’s dreams dreams strong bl...\n",
       "2    christmas jerry tries enforce idea \" human holiday \" onto rest family hisparents visiting confiscating morty beth summer ’s electronic gadgets rick shows homeless man santa outfit briefly introduces ruben heading garage.as holiday progresses jerr...\n",
       "3    episode opens rick dissecting large rat garage complaining sloppy workmanship morty stops comment beautiful day robotic beth gets car leaves work rick shown acting suspicious day ’s events well morty morty leaves school called front \" math class ...\n",
       "4    mr meeseeks existing solve beth ’s problemafter particularly traumatic adventure morty tries quit future adventures rick pleads continue sidekick allows lead adventure two strike bet :   trip success morty get lead every tenth adventure trip fail...\n",
       "5      morty interested jessica lacks opportunity ever talk either shy attempts shut brad whenever tries annual flu season dance coming morty talks jerry issue jerry compares morty ’s fondness jessica fondness beth teenager rick overhears jerry ’s sto...\n",
       "6    rick haggles owner intergalactic pawn shop morty spots sex robot back shop asks saying \" looks cool \" claiming needs souvenir adventures rick case grandfather ever passes away dismissively rick concedes.back earth rest morty ’s family perturbed n...\n",
       "7    smith family gathered around television invested ’ bachelor ’ style reality show rick expresses disgust quality television jerry challenges provide anything better rick destroys existing cable box installs : cable box capable receiving television...\n",
       "8    smith family eating breakfast rick creates small robot purely pass butter table morty comes kitchen ask rick help science project jerry jumps opportunity work project morty due low self confidence intelligence morty decides agree summer asks ride...\n",
       "9    27 ricks alternate dimensions end murdered respective mortys   kidnapped trans dimensional council ricks orders arrest rick c-137 ( show original rick ) accuses crimes due refusal participate affairs angry framed rick escapes council morty go rea...\n",
       "Name: text, dtype: object"
      ]
     },
     "metadata": {},
     "output_type": "display_data"
    }
   ],
   "source": [
    "pd.options.display.max_colwidth = 250\n",
    "display(df[\"text\"].head(10))"
   ]
  },
  {
   "cell_type": "markdown",
   "id": "8c2cf24f-34e5-459d-9852-60d49f58fdd0",
   "metadata": {},
   "source": [
    "# Save to CSV"
   ]
  },
  {
   "cell_type": "code",
   "execution_count": 23,
   "id": "6e485629-29c9-4f41-a07c-83020136e90a",
   "metadata": {},
   "outputs": [],
   "source": [
    "df.to_csv(PATH_TO_CLEAN_DATA)"
   ]
  }
 ],
 "metadata": {
  "kernelspec": {
   "display_name": "Python 3 (ipykernel)",
   "language": "python",
   "name": "python3"
  },
  "language_info": {
   "codemirror_mode": {
    "name": "ipython",
    "version": 3
   },
   "file_extension": ".py",
   "mimetype": "text/x-python",
   "name": "python",
   "nbconvert_exporter": "python",
   "pygments_lexer": "ipython3",
   "version": "3.10.12"
  }
 },
 "nbformat": 4,
 "nbformat_minor": 5
}
