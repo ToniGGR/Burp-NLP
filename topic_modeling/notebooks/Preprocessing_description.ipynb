{
 "cells": [
  {
   "cell_type": "code",
   "execution_count": 1,
   "id": "7b757473-6b31-48b6-a546-78dab146b438",
   "metadata": {},
   "outputs": [
    {
     "data": {
      "text/html": [
       "<div>\n",
       "<style scoped>\n",
       "    .dataframe tbody tr th:only-of-type {\n",
       "        vertical-align: middle;\n",
       "    }\n",
       "\n",
       "    .dataframe tbody tr th {\n",
       "        vertical-align: top;\n",
       "    }\n",
       "\n",
       "    .dataframe thead th {\n",
       "        text-align: right;\n",
       "    }\n",
       "</style>\n",
       "<table border=\"1\" class=\"dataframe\">\n",
       "  <thead>\n",
       "    <tr style=\"text-align: right;\">\n",
       "      <th></th>\n",
       "      <th>title</th>\n",
       "      <th>text</th>\n",
       "    </tr>\n",
       "  </thead>\n",
       "  <tbody>\n",
       "    <tr>\n",
       "      <th>0</th>\n",
       "      <td>Pilot</td>\n",
       "      <td>In the middle of the night, an obviously drunk...</td>\n",
       "    </tr>\n",
       "    <tr>\n",
       "      <th>1</th>\n",
       "      <td>Lawnmower Dog</td>\n",
       "      <td>Jerry complains that the family dog, Snuffles...</td>\n",
       "    </tr>\n",
       "    <tr>\n",
       "      <th>2</th>\n",
       "      <td>Anatomy Park (Episode)</td>\n",
       "      <td>It's Christmas, and Jerry tries to enforce the...</td>\n",
       "    </tr>\n",
       "    <tr>\n",
       "      <th>3</th>\n",
       "      <td>M. Night Shaym-Aliens!</td>\n",
       "      <td>The episode opens with Rick dissecting a large...</td>\n",
       "    </tr>\n",
       "    <tr>\n",
       "      <th>4</th>\n",
       "      <td>Meeseeks and Destroy</td>\n",
       "      <td>Mr. Meeseeks, existing to solve Beth's problem...</td>\n",
       "    </tr>\n",
       "    <tr>\n",
       "      <th>...</th>\n",
       "      <td>...</td>\n",
       "      <td>...</td>\n",
       "    </tr>\n",
       "    <tr>\n",
       "      <th>76</th>\n",
       "      <td>Mercy Kill</td>\n",
       "      <td>On the planet Dorian 5, Supernova and Vance ar...</td>\n",
       "    </tr>\n",
       "    <tr>\n",
       "      <th>77</th>\n",
       "      <td>Girls Night</td>\n",
       "      <td>At a bar, Calypso, Diablo Verde, Lady Katana, ...</td>\n",
       "    </tr>\n",
       "    <tr>\n",
       "      <th>78</th>\n",
       "      <td>Kintsugi</td>\n",
       "      <td>\"On an unknown planet, a somber Alan Rails put...</td>\n",
       "    </tr>\n",
       "    <tr>\n",
       "      <th>79</th>\n",
       "      <td>Little Trains</td>\n",
       "      <td>Doom-Nomitron arrives to destroy Earth, only f...</td>\n",
       "    </tr>\n",
       "    <tr>\n",
       "      <th>80</th>\n",
       "      <td>Heroes</td>\n",
       "      <td>Thanks to the Vindicators' manipulations, they...</td>\n",
       "    </tr>\n",
       "  </tbody>\n",
       "</table>\n",
       "<p>81 rows × 2 columns</p>\n",
       "</div>"
      ],
      "text/plain": [
       "                     title                                               text\n",
       "0                    Pilot  In the middle of the night, an obviously drunk...\n",
       "1            Lawnmower Dog   Jerry complains that the family dog, Snuffles...\n",
       "2   Anatomy Park (Episode)  It's Christmas, and Jerry tries to enforce the...\n",
       "3   M. Night Shaym-Aliens!  The episode opens with Rick dissecting a large...\n",
       "4     Meeseeks and Destroy  Mr. Meeseeks, existing to solve Beth's problem...\n",
       "..                     ...                                                ...\n",
       "76              Mercy Kill  On the planet Dorian 5, Supernova and Vance ar...\n",
       "77             Girls Night  At a bar, Calypso, Diablo Verde, Lady Katana, ...\n",
       "78                Kintsugi  \"On an unknown planet, a somber Alan Rails put...\n",
       "79           Little Trains  Doom-Nomitron arrives to destroy Earth, only f...\n",
       "80                  Heroes  Thanks to the Vindicators' manipulations, they...\n",
       "\n",
       "[81 rows x 2 columns]"
      ]
     },
     "execution_count": 1,
     "metadata": {},
     "output_type": "execute_result"
    }
   ],
   "source": [
    "import pandas as pd\n",
    "\n",
    "PATH_TO_RAW_DATA = \"/home/anton/Anton/Studium/DHBW /Semester_5/Text_Analysis/repo/Burg-NLP/data/episodes_descriptions.json\"\n",
    "PATH_TO_CLEAN_DATA = \"/home/anton/Anton/Studium/DHBW /Semester_5/Text_Analysis/repo/Burg-NLP/topic_modeling/data/episodes_description.csv\"\n",
    "\n",
    "df = pd.read_json( PATH_TO_RAW_DATA , orient=\"index\")\n",
    "#df = pd.read_csv( PATH_TO_RAW_DATA)\n",
    "df\n"
   ]
  },
  {
   "cell_type": "markdown",
   "id": "da0d11b0-183c-4f3a-b108-527d95551698",
   "metadata": {},
   "source": [
    "# Remove \\n"
   ]
  },
  {
   "cell_type": "code",
   "execution_count": 2,
   "id": "34107557-bb5d-4991-8dca-d147ea0307ab",
   "metadata": {},
   "outputs": [
    {
     "data": {
      "text/html": [
       "<div>\n",
       "<style scoped>\n",
       "    .dataframe tbody tr th:only-of-type {\n",
       "        vertical-align: middle;\n",
       "    }\n",
       "\n",
       "    .dataframe tbody tr th {\n",
       "        vertical-align: top;\n",
       "    }\n",
       "\n",
       "    .dataframe thead th {\n",
       "        text-align: right;\n",
       "    }\n",
       "</style>\n",
       "<table border=\"1\" class=\"dataframe\">\n",
       "  <thead>\n",
       "    <tr style=\"text-align: right;\">\n",
       "      <th></th>\n",
       "      <th>title</th>\n",
       "      <th>text</th>\n",
       "    </tr>\n",
       "  </thead>\n",
       "  <tbody>\n",
       "    <tr>\n",
       "      <th>0</th>\n",
       "      <td>Pilot</td>\n",
       "      <td>In the middle of the night, an obviously drunk...</td>\n",
       "    </tr>\n",
       "    <tr>\n",
       "      <th>1</th>\n",
       "      <td>Lawnmower Dog</td>\n",
       "      <td>Jerry complains that the family dog, Snuffles...</td>\n",
       "    </tr>\n",
       "    <tr>\n",
       "      <th>2</th>\n",
       "      <td>Anatomy Park (Episode)</td>\n",
       "      <td>It's Christmas, and Jerry tries to enforce the...</td>\n",
       "    </tr>\n",
       "    <tr>\n",
       "      <th>3</th>\n",
       "      <td>M. Night Shaym-Aliens!</td>\n",
       "      <td>The episode opens with Rick dissecting a large...</td>\n",
       "    </tr>\n",
       "    <tr>\n",
       "      <th>4</th>\n",
       "      <td>Meeseeks and Destroy</td>\n",
       "      <td>Mr. Meeseeks, existing to solve Beth's problem...</td>\n",
       "    </tr>\n",
       "    <tr>\n",
       "      <th>...</th>\n",
       "      <td>...</td>\n",
       "      <td>...</td>\n",
       "    </tr>\n",
       "    <tr>\n",
       "      <th>76</th>\n",
       "      <td>Mercy Kill</td>\n",
       "      <td>On the planet Dorian 5, Supernova and Vance ar...</td>\n",
       "    </tr>\n",
       "    <tr>\n",
       "      <th>77</th>\n",
       "      <td>Girls Night</td>\n",
       "      <td>At a bar, Calypso, Diablo Verde, Lady Katana, ...</td>\n",
       "    </tr>\n",
       "    <tr>\n",
       "      <th>78</th>\n",
       "      <td>Kintsugi</td>\n",
       "      <td>\"On an unknown planet, a somber Alan Rails put...</td>\n",
       "    </tr>\n",
       "    <tr>\n",
       "      <th>79</th>\n",
       "      <td>Little Trains</td>\n",
       "      <td>Doom-Nomitron arrives to destroy Earth, only f...</td>\n",
       "    </tr>\n",
       "    <tr>\n",
       "      <th>80</th>\n",
       "      <td>Heroes</td>\n",
       "      <td>Thanks to the Vindicators' manipulations, they...</td>\n",
       "    </tr>\n",
       "  </tbody>\n",
       "</table>\n",
       "<p>81 rows × 2 columns</p>\n",
       "</div>"
      ],
      "text/plain": [
       "                     title                                               text\n",
       "0                    Pilot  In the middle of the night, an obviously drunk...\n",
       "1            Lawnmower Dog   Jerry complains that the family dog, Snuffles...\n",
       "2   Anatomy Park (Episode)  It's Christmas, and Jerry tries to enforce the...\n",
       "3   M. Night Shaym-Aliens!  The episode opens with Rick dissecting a large...\n",
       "4     Meeseeks and Destroy  Mr. Meeseeks, existing to solve Beth's problem...\n",
       "..                     ...                                                ...\n",
       "76              Mercy Kill  On the planet Dorian 5, Supernova and Vance ar...\n",
       "77             Girls Night  At a bar, Calypso, Diablo Verde, Lady Katana, ...\n",
       "78                Kintsugi  \"On an unknown planet, a somber Alan Rails put...\n",
       "79           Little Trains  Doom-Nomitron arrives to destroy Earth, only f...\n",
       "80                  Heroes  Thanks to the Vindicators' manipulations, they...\n",
       "\n",
       "[81 rows x 2 columns]"
      ]
     },
     "execution_count": 2,
     "metadata": {},
     "output_type": "execute_result"
    }
   ],
   "source": [
    "df[\"text\"] = pd.Series( x.replace(\"\\n\", \"\").replace(\"  \", \"\") for x in df[\"text\"])\n",
    "df[\"text\"] = df[\"text\"].str.replace(\"[^\\w\\s]\",\"\")\n",
    "df"
   ]
  },
  {
   "cell_type": "markdown",
   "id": "23100807-a412-48f1-b929-b76d65242d60",
   "metadata": {},
   "source": [
    "# Lowercase"
   ]
  },
  {
   "cell_type": "code",
   "execution_count": 3,
   "id": "b2b4e183-a016-4f50-8d3b-c1aba01cfdb0",
   "metadata": {
    "scrolled": true
   },
   "outputs": [
    {
     "data": {
      "text/html": [
       "<div>\n",
       "<style scoped>\n",
       "    .dataframe tbody tr th:only-of-type {\n",
       "        vertical-align: middle;\n",
       "    }\n",
       "\n",
       "    .dataframe tbody tr th {\n",
       "        vertical-align: top;\n",
       "    }\n",
       "\n",
       "    .dataframe thead th {\n",
       "        text-align: right;\n",
       "    }\n",
       "</style>\n",
       "<table border=\"1\" class=\"dataframe\">\n",
       "  <thead>\n",
       "    <tr style=\"text-align: right;\">\n",
       "      <th></th>\n",
       "      <th>title</th>\n",
       "      <th>text</th>\n",
       "    </tr>\n",
       "  </thead>\n",
       "  <tbody>\n",
       "    <tr>\n",
       "      <th>0</th>\n",
       "      <td>Pilot</td>\n",
       "      <td>in the middle of the night, an obviously drunk...</td>\n",
       "    </tr>\n",
       "    <tr>\n",
       "      <th>1</th>\n",
       "      <td>Lawnmower Dog</td>\n",
       "      <td>jerry complains that the family dog, snuffles...</td>\n",
       "    </tr>\n",
       "    <tr>\n",
       "      <th>2</th>\n",
       "      <td>Anatomy Park (Episode)</td>\n",
       "      <td>it's christmas, and jerry tries to enforce the...</td>\n",
       "    </tr>\n",
       "    <tr>\n",
       "      <th>3</th>\n",
       "      <td>M. Night Shaym-Aliens!</td>\n",
       "      <td>the episode opens with rick dissecting a large...</td>\n",
       "    </tr>\n",
       "    <tr>\n",
       "      <th>4</th>\n",
       "      <td>Meeseeks and Destroy</td>\n",
       "      <td>mr. meeseeks, existing to solve beth's problem...</td>\n",
       "    </tr>\n",
       "    <tr>\n",
       "      <th>...</th>\n",
       "      <td>...</td>\n",
       "      <td>...</td>\n",
       "    </tr>\n",
       "    <tr>\n",
       "      <th>76</th>\n",
       "      <td>Mercy Kill</td>\n",
       "      <td>on the planet dorian 5, supernova and vance ar...</td>\n",
       "    </tr>\n",
       "    <tr>\n",
       "      <th>77</th>\n",
       "      <td>Girls Night</td>\n",
       "      <td>at a bar, calypso, diablo verde, lady katana, ...</td>\n",
       "    </tr>\n",
       "    <tr>\n",
       "      <th>78</th>\n",
       "      <td>Kintsugi</td>\n",
       "      <td>\"on an unknown planet, a somber alan rails put...</td>\n",
       "    </tr>\n",
       "    <tr>\n",
       "      <th>79</th>\n",
       "      <td>Little Trains</td>\n",
       "      <td>doom-nomitron arrives to destroy earth, only f...</td>\n",
       "    </tr>\n",
       "    <tr>\n",
       "      <th>80</th>\n",
       "      <td>Heroes</td>\n",
       "      <td>thanks to the vindicators' manipulations, they...</td>\n",
       "    </tr>\n",
       "  </tbody>\n",
       "</table>\n",
       "<p>81 rows × 2 columns</p>\n",
       "</div>"
      ],
      "text/plain": [
       "                     title                                               text\n",
       "0                    Pilot  in the middle of the night, an obviously drunk...\n",
       "1            Lawnmower Dog   jerry complains that the family dog, snuffles...\n",
       "2   Anatomy Park (Episode)  it's christmas, and jerry tries to enforce the...\n",
       "3   M. Night Shaym-Aliens!  the episode opens with rick dissecting a large...\n",
       "4     Meeseeks and Destroy  mr. meeseeks, existing to solve beth's problem...\n",
       "..                     ...                                                ...\n",
       "76              Mercy Kill  on the planet dorian 5, supernova and vance ar...\n",
       "77             Girls Night  at a bar, calypso, diablo verde, lady katana, ...\n",
       "78                Kintsugi  \"on an unknown planet, a somber alan rails put...\n",
       "79           Little Trains  doom-nomitron arrives to destroy earth, only f...\n",
       "80                  Heroes  thanks to the vindicators' manipulations, they...\n",
       "\n",
       "[81 rows x 2 columns]"
      ]
     },
     "execution_count": 3,
     "metadata": {},
     "output_type": "execute_result"
    }
   ],
   "source": [
    "df['text'] = df[\"text\"].apply(lambda x: x.lower())\n",
    "df"
   ]
  },
  {
   "cell_type": "markdown",
   "id": "d767f27d-1143-4917-913c-475e1ee84c48",
   "metadata": {},
   "source": [
    "# Abbreviation"
   ]
  },
  {
   "cell_type": "code",
   "execution_count": 4,
   "id": "bd9a56a7-cfb2-4768-8a0f-8cec29856149",
   "metadata": {},
   "outputs": [],
   "source": [
    "df[\"text\"] = pd.Series( x.replace(\"'\", \"’\")for x in df[\"text\"])"
   ]
  },
  {
   "cell_type": "code",
   "execution_count": 5,
   "id": "4be6365a-19eb-4eed-83f3-1235235b2c90",
   "metadata": {},
   "outputs": [],
   "source": [
    "abbreviations_dict = {\n",
    "    \"don’t\": \"do not\",\n",
    "    \"isn’t\": \"is not\",\n",
    "    \"ain’t\": \"is not\",\n",
    "    \"gotta\": \"got to\",\n",
    "    \"can’t\": \"cannot\",\n",
    "    \"won’t\": \"will not\",\n",
    "    \"you’re\": \"you are\",\n",
    "    \"they’re\": \"they are\",\n",
    "    \"we’re\": \"we are\",\n",
    "    \"I’m\": \"I am\",\n",
    "    \"she’s\": \"she is\",\n",
    "    \"he’s\": \"he is\",\n",
    "    \"it’s\": \"it is\",\n",
    "    \"there’s\": \"there is\",\n",
    "    \"what’s\": \"what is\",\n",
    "    \"here’s\": \"here is\",\n",
    "    \"that’s\": \"that is\",\n",
    "    \"who’s\": \"who is\",\n",
    "    \"how’s\": \"how is\",\n",
    "    \"aren’t\": \"are not\",\n",
    "    \"wasn’t\": \"was not\",\n",
    "    \"weren’t\": \"were not\",\n",
    "    \"doesn’t\": \"does not\",\n",
    "    \"didn’t\": \"did not\",\n",
    "    \"hasn’t\": \"has not\",\n",
    "    \"haven’t\": \"have not\",\n",
    "    \"hadn’t\": \"had not\",\n",
    "    \"shouldn’t\": \"should not\",\n",
    "    \"wouldn’t\": \"would not\",\n",
    "    \"couldn’t\": \"could not\",\n",
    "    \"mustn’t\": \"must not\",\n",
    "    \"mightn’t\": \"might not\",\n",
    "    \"needn’t\": \"need not\",\n",
    "    \"let’s\": \"let us\",\n",
    "    \"y’all\": \"you all\",\n",
    "    \"gonna\": \"going to\",\n",
    "    \"wanna\": \"want to\",\n",
    "    \"lemme\": \"let me\",\n",
    "    \"gimme\": \"give me\",\n",
    "    \"kinda\": \"kind of\",\n",
    "    \"sorta\": \"sort of\",\n",
    "    \"outta\": \"out of\",\n",
    "    \"lotta\": \"lot of\",\n",
    "    \"dunno\": \"do not know\",\n",
    "    \"c’mon\": \"come on\",\n",
    "    \"o’clock\": \"of the clock\",\n",
    "    \"y’know\": \"you know\",\n",
    "    \"ma’am\": \"madam\",\n",
    "    \"could’ve\": \"could have\",\n",
    "    \"should’ve\": \"should have\",\n",
    "    \"would’ve\": \"would have\",\n",
    "    \"might’ve\": \"might have\",\n",
    "    \"must’ve\": \"must have\",\n",
    "    \"there’d\": \"there would\",\n",
    "    \"it’d\": \"it would\",\n",
    "    \"he’d\": \"he would\",\n",
    "    \"she’d\": \"she would\",\n",
    "    \"they’d\": \"they would\",\n",
    "    \"I’d\": \"I would\",\n",
    "    \"you’d\": \"you would\",\n",
    "    \"we’d\": \"we would\", \n",
    "    \"it’s\" : \"it is\"\n",
    "}\n"
   ]
  },
  {
   "cell_type": "markdown",
   "id": "bd7b5034-7492-4620-9614-8e28f1c6e2a0",
   "metadata": {},
   "source": [
    "# Characters"
   ]
  },
  {
   "cell_type": "code",
   "execution_count": 6,
   "id": "15194ca9-10de-4044-975d-7dd3d29bb70a",
   "metadata": {},
   "outputs": [],
   "source": [
    "rick_and_morty_characters = [\n",
    "    \"rick\",\n",
    "    \"morty\",\n",
    "    \"summer\",\n",
    "    \"beth\",\n",
    "    \"jerry\",\n",
    "    \"birdperson\",\n",
    "    \"mr. poopybutthole\",\n",
    "    \"squanchy\",\n",
    "    \"tammy\",\n",
    "    \"noob-noob\",\n",
    "    \"gearhead\",\n",
    "    \"meeseeks\",\n",
    "    \"jessica\",\n",
    "    \"abradolph lincoler\",\n",
    "    \"unity\",\n",
    "    \"principal gene vagina\",\n",
    "    \"cromulons\",\n",
    "    \"krombopulos michael\",\n",
    "    \"scary terry\",\n",
    "    \"pickle rick\",\n",
    "    \"president\",\n",
    "    \"snowball\",\n",
    "    \"snuffles\"\n",
    "]\n"
   ]
  },
  {
   "cell_type": "code",
   "execution_count": 7,
   "id": "bf1b49c6-9dba-4b04-9359-7c7308abb997",
   "metadata": {},
   "outputs": [
    {
     "data": {
      "text/html": [
       "<div>\n",
       "<style scoped>\n",
       "    .dataframe tbody tr th:only-of-type {\n",
       "        vertical-align: middle;\n",
       "    }\n",
       "\n",
       "    .dataframe tbody tr th {\n",
       "        vertical-align: top;\n",
       "    }\n",
       "\n",
       "    .dataframe thead th {\n",
       "        text-align: right;\n",
       "    }\n",
       "</style>\n",
       "<table border=\"1\" class=\"dataframe\">\n",
       "  <thead>\n",
       "    <tr style=\"text-align: right;\">\n",
       "      <th></th>\n",
       "      <th>title</th>\n",
       "      <th>text</th>\n",
       "    </tr>\n",
       "  </thead>\n",
       "  <tbody>\n",
       "    <tr>\n",
       "      <th>0</th>\n",
       "      <td>Pilot</td>\n",
       "      <td>in the middle of the night, an obviously drunk...</td>\n",
       "    </tr>\n",
       "    <tr>\n",
       "      <th>1</th>\n",
       "      <td>Lawnmower Dog</td>\n",
       "      <td>jerry complains that the family dog, snuffles...</td>\n",
       "    </tr>\n",
       "    <tr>\n",
       "      <th>2</th>\n",
       "      <td>Anatomy Park (Episode)</td>\n",
       "      <td>it is christmas, and jerry tries to enforce th...</td>\n",
       "    </tr>\n",
       "    <tr>\n",
       "      <th>3</th>\n",
       "      <td>M. Night Shaym-Aliens!</td>\n",
       "      <td>the episode opens with rick dissecting a large...</td>\n",
       "    </tr>\n",
       "    <tr>\n",
       "      <th>4</th>\n",
       "      <td>Meeseeks and Destroy</td>\n",
       "      <td>mr. meeseeks, existing to solve beth’s problem...</td>\n",
       "    </tr>\n",
       "    <tr>\n",
       "      <th>...</th>\n",
       "      <td>...</td>\n",
       "      <td>...</td>\n",
       "    </tr>\n",
       "    <tr>\n",
       "      <th>76</th>\n",
       "      <td>Mercy Kill</td>\n",
       "      <td>on the planet dorian 5, supernova and vance ar...</td>\n",
       "    </tr>\n",
       "    <tr>\n",
       "      <th>77</th>\n",
       "      <td>Girls Night</td>\n",
       "      <td>at a bar, calypso, diablo verde, lady katana, ...</td>\n",
       "    </tr>\n",
       "    <tr>\n",
       "      <th>78</th>\n",
       "      <td>Kintsugi</td>\n",
       "      <td>\"on an unknown planet, a somber alan rails put...</td>\n",
       "    </tr>\n",
       "    <tr>\n",
       "      <th>79</th>\n",
       "      <td>Little Trains</td>\n",
       "      <td>doom-nomitron arrives to destroy earth, only f...</td>\n",
       "    </tr>\n",
       "    <tr>\n",
       "      <th>80</th>\n",
       "      <td>Heroes</td>\n",
       "      <td>thanks to the vindicators’ manipulations, they...</td>\n",
       "    </tr>\n",
       "  </tbody>\n",
       "</table>\n",
       "<p>81 rows × 2 columns</p>\n",
       "</div>"
      ],
      "text/plain": [
       "                     title                                               text\n",
       "0                    Pilot  in the middle of the night, an obviously drunk...\n",
       "1            Lawnmower Dog   jerry complains that the family dog, snuffles...\n",
       "2   Anatomy Park (Episode)  it is christmas, and jerry tries to enforce th...\n",
       "3   M. Night Shaym-Aliens!  the episode opens with rick dissecting a large...\n",
       "4     Meeseeks and Destroy  mr. meeseeks, existing to solve beth’s problem...\n",
       "..                     ...                                                ...\n",
       "76              Mercy Kill  on the planet dorian 5, supernova and vance ar...\n",
       "77             Girls Night  at a bar, calypso, diablo verde, lady katana, ...\n",
       "78                Kintsugi  \"on an unknown planet, a somber alan rails put...\n",
       "79           Little Trains  doom-nomitron arrives to destroy earth, only f...\n",
       "80                  Heroes  thanks to the vindicators’ manipulations, they...\n",
       "\n",
       "[81 rows x 2 columns]"
      ]
     },
     "execution_count": 7,
     "metadata": {},
     "output_type": "execute_result"
    }
   ],
   "source": [
    "corrected_row = []\n",
    "for row in df[\"text\"]:\n",
    "    for entry in list(abbreviations_dict.keys()):\n",
    "        if entry in row:\n",
    "            row = row.replace(entry, abbreviations_dict[entry])\n",
    "        continue \n",
    "    corrected_row.append(row)\n",
    "\n",
    "df[\"text\"] = pd.Series(corrected_row)\n",
    "\n",
    "\n",
    "df"
   ]
  },
  {
   "cell_type": "markdown",
   "id": "072861f8-226b-4262-b2fa-44fc14959eb8",
   "metadata": {},
   "source": [
    "# Remove Stopwords"
   ]
  },
  {
   "cell_type": "code",
   "execution_count": 8,
   "id": "b23c2fc8-9f36-4f29-8ebd-59670acefa3b",
   "metadata": {},
   "outputs": [
    {
     "name": "stderr",
     "output_type": "stream",
     "text": [
      "[nltk_data] Downloading package stopwords to /home/anton/nltk_data...\n",
      "[nltk_data]   Package stopwords is already up-to-date!\n"
     ]
    },
    {
     "data": {
      "text/plain": [
       "True"
      ]
     },
     "execution_count": 8,
     "metadata": {},
     "output_type": "execute_result"
    }
   ],
   "source": [
    "import nltk\n",
    "from nltk.corpus import stopwords\n",
    "nltk.download('stopwords')"
   ]
  },
  {
   "cell_type": "markdown",
   "id": "8a3fbabd-10fb-4584-8440-c7d1085e27a2",
   "metadata": {},
   "source": [
    "## Spacy Pipeline ##"
   ]
  },
  {
   "cell_type": "code",
   "execution_count": 9,
   "id": "c270d1f3-9685-4410-9ca5-d995c3f1d2e0",
   "metadata": {},
   "outputs": [],
   "source": [
    "import spacy\n",
    "from spacy.language import Language\n",
    "from spacy.tokens import Doc\n",
    "import gensim\n",
    "import gensim.corpora as corpora\n",
    "from gensim.utils import simple_preprocess\n",
    "from nltk.stem import PorterStemmer"
   ]
  },
  {
   "cell_type": "code",
   "execution_count": 10,
   "id": "dc79427e-99a2-42d7-8182-20afa8a3301e",
   "metadata": {},
   "outputs": [],
   "source": [
    "nlp = spacy.load(\"en_core_web_sm\")\n"
   ]
  },
  {
   "cell_type": "code",
   "execution_count": 11,
   "id": "3c5caacc-703b-4e13-b5fd-bac194e84b97",
   "metadata": {},
   "outputs": [
    {
     "name": "stdout",
     "output_type": "stream",
     "text": [
      "<class 'str'>\n"
     ]
    }
   ],
   "source": [
    "doc = nlp(\"Rick and Morty ham\")\n",
    "print(type(doc[0].pos_))"
   ]
  },
  {
   "cell_type": "code",
   "execution_count": 12,
   "id": "91ef3391-dd6f-42f4-80cf-57f9b5bcdfa7",
   "metadata": {},
   "outputs": [
    {
     "data": {
      "text/plain": [
       "('lemmatizer', <spacy.lang.en.lemmatizer.EnglishLemmatizer at 0x7fc51830eac0>)"
      ]
     },
     "execution_count": 12,
     "metadata": {},
     "output_type": "execute_result"
    }
   ],
   "source": [
    "nlp.pipeline\n",
    "nlp.remove_pipe(\"lemmatizer\")\n",
    "# To Do Pipeline Reihenfolge anpassen"
   ]
  },
  {
   "cell_type": "code",
   "execution_count": 13,
   "id": "2a79e257-8b72-4218-bffc-b3e76efd070c",
   "metadata": {},
   "outputs": [],
   "source": [
    "@Language.component(\"abbreviation_remover\")\n",
    "def custom_abbreciation_remover(doc):\n",
    "    new_words = []\n",
    "\n",
    "    \n",
    "    return Doc(nlp.vocab , words=valid_doc , pos=valid_doc_pos)"
   ]
  },
  {
   "cell_type": "code",
   "execution_count": 14,
   "id": "0234044a-c3b6-4045-924b-8a11118597de",
   "metadata": {},
   "outputs": [],
   "source": [
    "@Language.component(\"stopword_remover\")\n",
    "def custom_remover(doc):\n",
    "    stop_words = set(stopwords.words('english'))\n",
    "    stop_symbols = [\"?\", \"...\" ,\".\" , \"!\" , \"&\" , \",\" , \"-\"]\n",
    "    valid_doc = [token.text for token in doc if token.text not in stop_words and token.text not in stop_symbols]\n",
    "    valid_doc_pos = [token.pos_ for token in doc if token.text not in stop_words and token.text not in stop_symbols]\n",
    "\n",
    "    return Doc(nlp.vocab , words=valid_doc , pos=valid_doc_pos)"
   ]
  },
  {
   "cell_type": "code",
   "execution_count": 15,
   "id": "6e642bfc-40a8-43c7-8f73-4aca6d03a23d",
   "metadata": {},
   "outputs": [
    {
     "data": {
      "text/plain": [
       "<function __main__.custom_remover(doc)>"
      ]
     },
     "execution_count": 15,
     "metadata": {},
     "output_type": "execute_result"
    }
   ],
   "source": [
    "nlp.add_pipe(\"stopword_remover\" , after=\"ner\")"
   ]
  },
  {
   "cell_type": "code",
   "execution_count": 16,
   "id": "e7ac78a1-58a3-4885-87d8-b4d7490a0641",
   "metadata": {},
   "outputs": [],
   "source": [
    "@Language.component(\"porter_stemmer\")\n",
    "def custom_stemmer(doc):\n",
    "    ps = PorterStemmer()\n",
    "\n",
    "    stemmed_words = [ps.stem(token.text) if token.pos_ != \"PROPN\" and token.text not in rick_and_morty_characters  else token.text for token in doc ]\n",
    "    stemmed_words_tags = [str(token.tag_) if token.pos_ != \"PROPN\" and token.text not in rick_and_morty_characters else token.text for token in doc ]\n",
    "    \n",
    "    return Doc(nlp.vocab , words=stemmed_words, tags=stemmed_words_tags)"
   ]
  },
  {
   "cell_type": "code",
   "execution_count": 17,
   "id": "27d00db2-a3eb-4661-be41-ec2cb23c168d",
   "metadata": {},
   "outputs": [],
   "source": [
    "#nlp.add_pipe(\"porter_stemmer\", after=\"stopword_remover\" )"
   ]
  },
  {
   "cell_type": "code",
   "execution_count": 18,
   "id": "46fb9d16-4a12-420d-92ea-c15fc1ace126",
   "metadata": {},
   "outputs": [
    {
     "name": "stdout",
     "output_type": "stream",
     "text": [
      "['tok2vec', 'tagger', 'parser', 'attribute_ruler', 'ner', 'stopword_remover']\n"
     ]
    }
   ],
   "source": [
    "print(nlp.pipe_names)"
   ]
  },
  {
   "cell_type": "markdown",
   "id": "6df195b3-c5af-4d22-880d-d62c97457249",
   "metadata": {},
   "source": [
    "## Abreviations"
   ]
  },
  {
   "cell_type": "code",
   "execution_count": null,
   "id": "5ec37269-4fe9-45b0-80c1-ddaaa9ab807d",
   "metadata": {},
   "outputs": [],
   "source": []
  },
  {
   "cell_type": "code",
   "execution_count": 19,
   "id": "f4341e2c-5989-4331-a909-421a9cad50ad",
   "metadata": {},
   "outputs": [
    {
     "name": "stdout",
     "output_type": "stream",
     "text": [
      "\n"
     ]
    }
   ],
   "source": [
    "doc = nlp(\"Morty you gotta come with me\")\n",
    "print(doc[0].tag_)"
   ]
  },
  {
   "cell_type": "markdown",
   "id": "906dc985-8edf-4dfd-9df9-0bff093e763e",
   "metadata": {},
   "source": [
    "# Applying Changes in Dataframe"
   ]
  },
  {
   "cell_type": "code",
   "execution_count": 20,
   "id": "6b9016f1-d773-49f2-9bed-084f03d8d029",
   "metadata": {},
   "outputs": [
    {
     "data": {
      "text/html": [
       "<div>\n",
       "<style scoped>\n",
       "    .dataframe tbody tr th:only-of-type {\n",
       "        vertical-align: middle;\n",
       "    }\n",
       "\n",
       "    .dataframe tbody tr th {\n",
       "        vertical-align: top;\n",
       "    }\n",
       "\n",
       "    .dataframe thead th {\n",
       "        text-align: right;\n",
       "    }\n",
       "</style>\n",
       "<table border=\"1\" class=\"dataframe\">\n",
       "  <thead>\n",
       "    <tr style=\"text-align: right;\">\n",
       "      <th></th>\n",
       "      <th>title</th>\n",
       "      <th>text</th>\n",
       "    </tr>\n",
       "  </thead>\n",
       "  <tbody>\n",
       "    <tr>\n",
       "      <th>0</th>\n",
       "      <td>Pilot</td>\n",
       "      <td>(middle, night, obviously, drunk, rick, bursts...</td>\n",
       "    </tr>\n",
       "    <tr>\n",
       "      <th>1</th>\n",
       "      <td>Lawnmower Dog</td>\n",
       "      <td>( , jerry, complains, family, dog, snuffles, s...</td>\n",
       "    </tr>\n",
       "    <tr>\n",
       "      <th>2</th>\n",
       "      <td>Anatomy Park (Episode)</td>\n",
       "      <td>(christmas, jerry, tries, enforce, idea, \", hu...</td>\n",
       "    </tr>\n",
       "    <tr>\n",
       "      <th>3</th>\n",
       "      <td>M. Night Shaym-Aliens!</td>\n",
       "      <td>(episode, opens, rick, dissecting, large, rat,...</td>\n",
       "    </tr>\n",
       "    <tr>\n",
       "      <th>4</th>\n",
       "      <td>Meeseeks and Destroy</td>\n",
       "      <td>(mr, meeseeks, existing, solve, beth, ’s, prob...</td>\n",
       "    </tr>\n",
       "    <tr>\n",
       "      <th>...</th>\n",
       "      <td>...</td>\n",
       "      <td>...</td>\n",
       "    </tr>\n",
       "    <tr>\n",
       "      <th>76</th>\n",
       "      <td>Mercy Kill</td>\n",
       "      <td>(planet, dorian, 5, supernova, vance, slaughte...</td>\n",
       "    </tr>\n",
       "    <tr>\n",
       "      <th>77</th>\n",
       "      <td>Girls Night</td>\n",
       "      <td>(bar, calypso, diablo, verde, lady, katana, su...</td>\n",
       "    </tr>\n",
       "    <tr>\n",
       "      <th>78</th>\n",
       "      <td>Kintsugi</td>\n",
       "      <td>(\", unknown, planet, somber, alan, rails, puts...</td>\n",
       "    </tr>\n",
       "    <tr>\n",
       "      <th>79</th>\n",
       "      <td>Little Trains</td>\n",
       "      <td>(doom, nomitron, arrives, destroy, earth, sate...</td>\n",
       "    </tr>\n",
       "    <tr>\n",
       "      <th>80</th>\n",
       "      <td>Heroes</td>\n",
       "      <td>(thanks, vindicators, ’, manipulations, prepar...</td>\n",
       "    </tr>\n",
       "  </tbody>\n",
       "</table>\n",
       "<p>81 rows × 2 columns</p>\n",
       "</div>"
      ],
      "text/plain": [
       "                     title                                               text\n",
       "0                    Pilot  (middle, night, obviously, drunk, rick, bursts...\n",
       "1            Lawnmower Dog  ( , jerry, complains, family, dog, snuffles, s...\n",
       "2   Anatomy Park (Episode)  (christmas, jerry, tries, enforce, idea, \", hu...\n",
       "3   M. Night Shaym-Aliens!  (episode, opens, rick, dissecting, large, rat,...\n",
       "4     Meeseeks and Destroy  (mr, meeseeks, existing, solve, beth, ’s, prob...\n",
       "..                     ...                                                ...\n",
       "76              Mercy Kill  (planet, dorian, 5, supernova, vance, slaughte...\n",
       "77             Girls Night  (bar, calypso, diablo, verde, lady, katana, su...\n",
       "78                Kintsugi  (\", unknown, planet, somber, alan, rails, puts...\n",
       "79           Little Trains  (doom, nomitron, arrives, destroy, earth, sate...\n",
       "80                  Heroes  (thanks, vindicators, ’, manipulations, prepar...\n",
       "\n",
       "[81 rows x 2 columns]"
      ]
     },
     "execution_count": 20,
     "metadata": {},
     "output_type": "execute_result"
    }
   ],
   "source": [
    "df[\"text\"] = list(nlp.pipe(df[\"text\"]))\n",
    "df"
   ]
  },
  {
   "cell_type": "code",
   "execution_count": 21,
   "id": "61f181fe-e7ab-4aef-8285-b9c16815aa4f",
   "metadata": {
    "scrolled": true
   },
   "outputs": [],
   "source": [
    "df[\"text\"] = [ \" \".join([t.text for t in row]) for row in df[\"text\"]] # Comverting DOc in Text\n"
   ]
  },
  {
   "cell_type": "code",
   "execution_count": 22,
   "id": "3d8576d6-86f4-4682-b740-6220f741f8db",
   "metadata": {},
   "outputs": [
    {
     "data": {
      "text/plain": [
       "0    middle night obviously drunk rick bursts morty ’s room tells \" surprise \" show driving newly built flying vehicle rick explains made neutrino bomb : decided earth needs \" fresh start \" end wants destroy humanity planning start morty jessica new \"...\n",
       "1      jerry complains family dog snuffles stupid rick gives jerry device enhances dog ’s intelligence morty go dreams morty ’s math teacher persuade give morty \" \" class morty assigned less homework go morty ’s math teacher ’s dreams dreams strong bl...\n",
       "2    christmas jerry tries enforce idea \" human holiday \" onto rest family hisparents visiting confiscating morty beth summer ’s electronic gadgets rick shows homeless man santa outfit briefly introduces ruben heading garage.as holiday progresses jerr...\n",
       "3    episode opens rick dissecting large rat garage complaining sloppy workmanship morty stops comment beautiful day robotic beth gets car leaves work rick shown acting suspicious day ’s events well morty morty leaves school called front \" math class ...\n",
       "4    mr meeseeks existing solve beth ’s problemafter particularly traumatic adventure morty tries quit future adventures rick pleads continue sidekick allows lead adventure two strike bet :   trip success morty get lead every tenth adventure trip fail...\n",
       "5      morty interested jessica lacks opportunity ever talk either shy attempts shut brad whenever tries annual flu season dance coming morty talks jerry issue jerry compares morty ’s fondness jessica fondness beth teenager rick overhears jerry ’s sto...\n",
       "6    rick haggles owner intergalactic pawn shop morty spots sex robot back shop asks saying \" looks cool \" claiming needs souvenir adventures rick case grandfather ever passes away dismissively rick concedes.back earth rest morty ’s family perturbed n...\n",
       "7    smith family gathered around television invested ’ bachelor ’ style reality show rick expresses disgust quality television jerry challenges provide anything better rick destroys existing cable box installs : cable box capable receiving television...\n",
       "8    smith family eating breakfast rick creates small robot purely pass butter table morty comes kitchen ask rick help science project jerry jumps opportunity work project morty due low self confidence intelligence morty decides agree summer asks ride...\n",
       "9    27 ricks alternate dimensions end murdered respective mortys   kidnapped trans dimensional council ricks orders arrest rick c-137 ( show original rick ) accuses crimes due refusal participate affairs angry framed rick escapes council morty go rea...\n",
       "Name: text, dtype: object"
      ]
     },
     "metadata": {},
     "output_type": "display_data"
    }
   ],
   "source": [
    "pd.options.display.max_colwidth = 250\n",
    "display(df[\"text\"].head(10))"
   ]
  },
  {
   "cell_type": "markdown",
   "id": "8c2cf24f-34e5-459d-9852-60d49f58fdd0",
   "metadata": {},
   "source": [
    "# Save to CSV"
   ]
  },
  {
   "cell_type": "code",
   "execution_count": 23,
   "id": "6e485629-29c9-4f41-a07c-83020136e90a",
   "metadata": {},
   "outputs": [],
   "source": [
    "df.to_csv(PATH_TO_CLEAN_DATA)"
   ]
  },
  {
   "cell_type": "code",
   "execution_count": 24,
   "id": "a8a97831-a290-42ef-90ee-a5477c0e062e",
   "metadata": {
    "scrolled": true
   },
   "outputs": [
    {
     "data": {
      "text/html": [
       "<div>\n",
       "<style scoped>\n",
       "    .dataframe tbody tr th:only-of-type {\n",
       "        vertical-align: middle;\n",
       "    }\n",
       "\n",
       "    .dataframe tbody tr th {\n",
       "        vertical-align: top;\n",
       "    }\n",
       "\n",
       "    .dataframe thead th {\n",
       "        text-align: right;\n",
       "    }\n",
       "</style>\n",
       "<table border=\"1\" class=\"dataframe\">\n",
       "  <thead>\n",
       "    <tr style=\"text-align: right;\">\n",
       "      <th></th>\n",
       "      <th>title</th>\n",
       "      <th>text</th>\n",
       "    </tr>\n",
       "  </thead>\n",
       "  <tbody>\n",
       "    <tr>\n",
       "      <th>0</th>\n",
       "      <td>Pilot</td>\n",
       "      <td>middle night obviously drunk rick bursts morty ’s room tells \" surprise \" show driving newly built flying vehicle rick explains made neutrino bomb : decided earth needs \" fresh start \" end wants destroy humanity planning start morty jessica new \"...</td>\n",
       "    </tr>\n",
       "    <tr>\n",
       "      <th>1</th>\n",
       "      <td>Lawnmower Dog</td>\n",
       "      <td>jerry complains family dog snuffles stupid rick gives jerry device enhances dog ’s intelligence morty go dreams morty ’s math teacher persuade give morty \" \" class morty assigned less homework go morty ’s math teacher ’s dreams dreams strong bl...</td>\n",
       "    </tr>\n",
       "    <tr>\n",
       "      <th>2</th>\n",
       "      <td>Anatomy Park (Episode)</td>\n",
       "      <td>christmas jerry tries enforce idea \" human holiday \" onto rest family hisparents visiting confiscating morty beth summer ’s electronic gadgets rick shows homeless man santa outfit briefly introduces ruben heading garage.as holiday progresses jerr...</td>\n",
       "    </tr>\n",
       "    <tr>\n",
       "      <th>3</th>\n",
       "      <td>M. Night Shaym-Aliens!</td>\n",
       "      <td>episode opens rick dissecting large rat garage complaining sloppy workmanship morty stops comment beautiful day robotic beth gets car leaves work rick shown acting suspicious day ’s events well morty morty leaves school called front \" math class ...</td>\n",
       "    </tr>\n",
       "    <tr>\n",
       "      <th>4</th>\n",
       "      <td>Meeseeks and Destroy</td>\n",
       "      <td>mr meeseeks existing solve beth ’s problemafter particularly traumatic adventure morty tries quit future adventures rick pleads continue sidekick allows lead adventure two strike bet :   trip success morty get lead every tenth adventure trip fail...</td>\n",
       "    </tr>\n",
       "    <tr>\n",
       "      <th>5</th>\n",
       "      <td>Rick Potion 9</td>\n",
       "      <td>morty interested jessica lacks opportunity ever talk either shy attempts shut brad whenever tries annual flu season dance coming morty talks jerry issue jerry compares morty ’s fondness jessica fondness beth teenager rick overhears jerry ’s sto...</td>\n",
       "    </tr>\n",
       "    <tr>\n",
       "      <th>6</th>\n",
       "      <td>Raising Gazorpazorp</td>\n",
       "      <td>rick haggles owner intergalactic pawn shop morty spots sex robot back shop asks saying \" looks cool \" claiming needs souvenir adventures rick case grandfather ever passes away dismissively rick concedes.back earth rest morty ’s family perturbed n...</td>\n",
       "    </tr>\n",
       "    <tr>\n",
       "      <th>7</th>\n",
       "      <td>Rixty Minutes</td>\n",
       "      <td>smith family gathered around television invested ’ bachelor ’ style reality show rick expresses disgust quality television jerry challenges provide anything better rick destroys existing cable box installs : cable box capable receiving television...</td>\n",
       "    </tr>\n",
       "    <tr>\n",
       "      <th>8</th>\n",
       "      <td>Something Ricked This Way Comes</td>\n",
       "      <td>smith family eating breakfast rick creates small robot purely pass butter table morty comes kitchen ask rick help science project jerry jumps opportunity work project morty due low self confidence intelligence morty decides agree summer asks ride...</td>\n",
       "    </tr>\n",
       "    <tr>\n",
       "      <th>9</th>\n",
       "      <td>Close Rick-Counters of the Rick Kind</td>\n",
       "      <td>27 ricks alternate dimensions end murdered respective mortys   kidnapped trans dimensional council ricks orders arrest rick c-137 ( show original rick ) accuses crimes due refusal participate affairs angry framed rick escapes council morty go rea...</td>\n",
       "    </tr>\n",
       "    <tr>\n",
       "      <th>10</th>\n",
       "      <td>Ricksy Business</td>\n",
       "      <td>beth jerry leave trip experience titanic 2 recreation titanic experience jerry immensely excited reenact moments movie beth hesitant overall uninterested beth jerry ’s absence beth orders rick morty summer trash house gone threatens put end ric...</td>\n",
       "    </tr>\n",
       "    <tr>\n",
       "      <th>11</th>\n",
       "      <td>A Rickle in Time</td>\n",
       "      <td>episode opens time still frozen ending season one outside smith residence morty summer finish last minute cleaning duties jerry beth still frozen outside revealed time frozen nearly six months rick unfreezes time admits ’ ’ time may need time sta...</td>\n",
       "    </tr>\n",
       "    <tr>\n",
       "      <th>12</th>\n",
       "      <td>Mortynight Run</td>\n",
       "      <td>rick teaching morty drive space cruiser talks liberating morty go errands him.morty excited driving ship thinks sounds cool rick gets call unknown person asks person meet ends driving lesson stating business attend gets startled jerry suddenly as...</td>\n",
       "    </tr>\n",
       "    <tr>\n",
       "      <th>13</th>\n",
       "      <td>Auto Erotic Assimilation</td>\n",
       "      <td>travelling space jamming music rick morty summer come across distress signal alien starship rick intercepts boards starship intention looting instead comes across ship ’s surviving crew members explain planet taken assimilating hive mind aforemen...</td>\n",
       "    </tr>\n",
       "    <tr>\n",
       "      <th>14</th>\n",
       "      <td>Total Rickall</td>\n",
       "      <td>smith family breakfast jerry ’s older brother uncle steve jerry receives email purchased plane tickets uncle steve admits bought thank family letting stay past year rick comes room know uncle steve family rebuffs claiming uncle steve stayed past ...</td>\n",
       "    </tr>\n",
       "    <tr>\n",
       "      <th>15</th>\n",
       "      <td>Get Schwifty (episode)</td>\n",
       "      <td>massive alien head appears earth interfering earth ’s gravity spawning several global disasters process head exclaims \" show got \" rick travels pentagon inform president united states alien head cromulon seeks live performance catchy new song.unf...</td>\n",
       "    </tr>\n",
       "    <tr>\n",
       "      <th>16</th>\n",
       "      <td>The Ricks Must Be Crazy</td>\n",
       "      <td>rick morty summer exit theater showcasing ball fondlers movie go towards ship rick explains pros cons universe rick attempts start engine realizes car battery dead morty travel microverse summer stays ship given instructions rick \" keep summer sa...</td>\n",
       "    </tr>\n",
       "    <tr>\n",
       "      <th>17</th>\n",
       "      <td>Big Trouble in Little Sanchez</td>\n",
       "      <td>eating breakfast jerry asks children summer morty anything interesting happening school morty responds thinking moment one lunch ladies found dead body drained blood marked two holes neck beth ’s horror idea horrible thing could happen quickly qu...</td>\n",
       "    </tr>\n",
       "    <tr>\n",
       "      <th>18</th>\n",
       "      <td>Interdimensional Cable 2: Tempting Fate</td>\n",
       "      <td>eating pint cherry garcia ice cream actually contained dangerous mutant bacteria second freezer drawer ( belongs rick ) jerry rushed st gloopy noops hospital institution space family waiting results jerry ’s treatment rick beth summer morty sit h...</td>\n",
       "    </tr>\n",
       "    <tr>\n",
       "      <th>19</th>\n",
       "      <td>Look Who's Purging Now</td>\n",
       "      <td>flying space rick morty collide interstellar insect smears windshield ; rick attempts clean windshield becomes even smeared rick decides search washer fluid nearby planet upon arriving rick discovers citizens planet sustain peaceful way life enga...</td>\n",
       "    </tr>\n",
       "  </tbody>\n",
       "</table>\n",
       "</div>"
      ],
      "text/plain": [
       "                                      title  \\\n",
       "0                                     Pilot   \n",
       "1                             Lawnmower Dog   \n",
       "2                    Anatomy Park (Episode)   \n",
       "3                    M. Night Shaym-Aliens!   \n",
       "4                      Meeseeks and Destroy   \n",
       "5                             Rick Potion 9   \n",
       "6                       Raising Gazorpazorp   \n",
       "7                             Rixty Minutes   \n",
       "8           Something Ricked This Way Comes   \n",
       "9      Close Rick-Counters of the Rick Kind   \n",
       "10                          Ricksy Business   \n",
       "11                         A Rickle in Time   \n",
       "12                           Mortynight Run   \n",
       "13                 Auto Erotic Assimilation   \n",
       "14                            Total Rickall   \n",
       "15                   Get Schwifty (episode)   \n",
       "16                  The Ricks Must Be Crazy   \n",
       "17            Big Trouble in Little Sanchez   \n",
       "18  Interdimensional Cable 2: Tempting Fate   \n",
       "19                   Look Who's Purging Now   \n",
       "\n",
       "                                                                                                                                                                                                                                                         text  \n",
       "0   middle night obviously drunk rick bursts morty ’s room tells \" surprise \" show driving newly built flying vehicle rick explains made neutrino bomb : decided earth needs \" fresh start \" end wants destroy humanity planning start morty jessica new \"...  \n",
       "1     jerry complains family dog snuffles stupid rick gives jerry device enhances dog ’s intelligence morty go dreams morty ’s math teacher persuade give morty \" \" class morty assigned less homework go morty ’s math teacher ’s dreams dreams strong bl...  \n",
       "2   christmas jerry tries enforce idea \" human holiday \" onto rest family hisparents visiting confiscating morty beth summer ’s electronic gadgets rick shows homeless man santa outfit briefly introduces ruben heading garage.as holiday progresses jerr...  \n",
       "3   episode opens rick dissecting large rat garage complaining sloppy workmanship morty stops comment beautiful day robotic beth gets car leaves work rick shown acting suspicious day ’s events well morty morty leaves school called front \" math class ...  \n",
       "4   mr meeseeks existing solve beth ’s problemafter particularly traumatic adventure morty tries quit future adventures rick pleads continue sidekick allows lead adventure two strike bet :   trip success morty get lead every tenth adventure trip fail...  \n",
       "5     morty interested jessica lacks opportunity ever talk either shy attempts shut brad whenever tries annual flu season dance coming morty talks jerry issue jerry compares morty ’s fondness jessica fondness beth teenager rick overhears jerry ’s sto...  \n",
       "6   rick haggles owner intergalactic pawn shop morty spots sex robot back shop asks saying \" looks cool \" claiming needs souvenir adventures rick case grandfather ever passes away dismissively rick concedes.back earth rest morty ’s family perturbed n...  \n",
       "7   smith family gathered around television invested ’ bachelor ’ style reality show rick expresses disgust quality television jerry challenges provide anything better rick destroys existing cable box installs : cable box capable receiving television...  \n",
       "8   smith family eating breakfast rick creates small robot purely pass butter table morty comes kitchen ask rick help science project jerry jumps opportunity work project morty due low self confidence intelligence morty decides agree summer asks ride...  \n",
       "9   27 ricks alternate dimensions end murdered respective mortys   kidnapped trans dimensional council ricks orders arrest rick c-137 ( show original rick ) accuses crimes due refusal participate affairs angry framed rick escapes council morty go rea...  \n",
       "10    beth jerry leave trip experience titanic 2 recreation titanic experience jerry immensely excited reenact moments movie beth hesitant overall uninterested beth jerry ’s absence beth orders rick morty summer trash house gone threatens put end ric...  \n",
       "11  episode opens time still frozen ending season one outside smith residence morty summer finish last minute cleaning duties jerry beth still frozen outside revealed time frozen nearly six months rick unfreezes time admits ’ ’ time may need time sta...  \n",
       "12  rick teaching morty drive space cruiser talks liberating morty go errands him.morty excited driving ship thinks sounds cool rick gets call unknown person asks person meet ends driving lesson stating business attend gets startled jerry suddenly as...  \n",
       "13  travelling space jamming music rick morty summer come across distress signal alien starship rick intercepts boards starship intention looting instead comes across ship ’s surviving crew members explain planet taken assimilating hive mind aforemen...  \n",
       "14  smith family breakfast jerry ’s older brother uncle steve jerry receives email purchased plane tickets uncle steve admits bought thank family letting stay past year rick comes room know uncle steve family rebuffs claiming uncle steve stayed past ...  \n",
       "15  massive alien head appears earth interfering earth ’s gravity spawning several global disasters process head exclaims \" show got \" rick travels pentagon inform president united states alien head cromulon seeks live performance catchy new song.unf...  \n",
       "16  rick morty summer exit theater showcasing ball fondlers movie go towards ship rick explains pros cons universe rick attempts start engine realizes car battery dead morty travel microverse summer stays ship given instructions rick \" keep summer sa...  \n",
       "17  eating breakfast jerry asks children summer morty anything interesting happening school morty responds thinking moment one lunch ladies found dead body drained blood marked two holes neck beth ’s horror idea horrible thing could happen quickly qu...  \n",
       "18  eating pint cherry garcia ice cream actually contained dangerous mutant bacteria second freezer drawer ( belongs rick ) jerry rushed st gloopy noops hospital institution space family waiting results jerry ’s treatment rick beth summer morty sit h...  \n",
       "19  flying space rick morty collide interstellar insect smears windshield ; rick attempts clean windshield becomes even smeared rick decides search washer fluid nearby planet upon arriving rick discovers citizens planet sustain peaceful way life enga...  "
      ]
     },
     "execution_count": 24,
     "metadata": {},
     "output_type": "execute_result"
    }
   ],
   "source": [
    "df.head(20)"
   ]
  },
  {
   "cell_type": "code",
   "execution_count": null,
   "id": "58ac5924-5863-4feb-b0c4-84fd4f1d745e",
   "metadata": {},
   "outputs": [],
   "source": []
  }
 ],
 "metadata": {
  "kernelspec": {
   "display_name": "Python 3 (ipykernel)",
   "language": "python",
   "name": "python3"
  },
  "language_info": {
   "codemirror_mode": {
    "name": "ipython",
    "version": 3
   },
   "file_extension": ".py",
   "mimetype": "text/x-python",
   "name": "python",
   "nbconvert_exporter": "python",
   "pygments_lexer": "ipython3",
   "version": "3.10.12"
  }
 },
 "nbformat": 4,
 "nbformat_minor": 5
}
